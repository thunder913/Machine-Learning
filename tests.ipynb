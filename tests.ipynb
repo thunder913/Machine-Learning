{
 "cells": [
  {
   "cell_type": "code",
   "execution_count": null,
   "metadata": {
    "vscode": {
     "languageId": "plaintext"
    }
   },
   "outputs": [],
   "source": [
    "# TODO delete this or put in different notebook\n",
    "\n",
    "aapl_data = {\n",
    "    'ticker': ['AAPL'],\n",
    "    'date': [pd.to_datetime('2024-05-10')],\n",
    "    'peak_price': [183.38],  # Example value\n",
    "    'peak_days_ago': [5],   # Example value\n",
    "    'price_1_days_ago': [184.57],  # Example value\n",
    "    'volume_1_days_ago': [48983000],  # Example value\n",
    "    'price_2_days_ago': [182.74],  # Example value\n",
    "    'volume_2_days_ago': [45057100],  # Example value\n",
    "    'price_3_days_ago': [182.40],  # Example value\n",
    "    'volume_3_days_ago': [77305800],  # Example value\n",
    "    'price_4_days_ago': [181.71],  # Example value\n",
    "    'volume_4_days_ago': [78569700],  # Example value\n",
    "    'price_5_days_ago': [183.38],  # Example value\n",
    "    'volume_5_days_ago': [163224100],  # Example value\n",
    "    'price_10_days_ago': [160.89],  # Example value\n",
    "    'volume_10_days_ago': [65934800],  # Example value\n",
    "    'price_15_days_ago': [167.04],  # Example value\n",
    "    'volume_15_days_ago': [49537800],  # Example value\n",
    "    'price_30_days_ago': [169.24],  # Example value\n",
    "    'volume_30_days_ago': [91070300],  # Example value\n",
    "    'price_60_days_ago': [172.75],  # Example value\n",
    "    'volume_60_days_ago': [60139500],  # Example value\n",
    "    'price_90_days_ago': [183.86],  # Example value\n",
    "    'volume_90_days_ago': [65454500],  # Example value\n",
    "    'eps_est': [1.34],\n",
    "    'eps': [1.4], \n",
    "    'days_till_report': [89],\n",
    "    'days_since_report': [5],\n",
    "    'ticker_encoded': [5]\n",
    "}\n",
    "\n",
    "# Convert to DataFrame\n",
    "aapl_df = pd.DataFrame(aapl_data)\n",
    "\n",
    "price_columns = [\n",
    "    'peak_price', 'price_1_days_ago', 'price_2_days_ago', 'price_3_days_ago', 'price_4_days_ago',\n",
    "    'price_5_days_ago', 'price_10_days_ago', 'price_15_days_ago', 'price_30_days_ago',\n",
    "    'price_60_days_ago', 'price_90_days_ago', 'eps_est', 'eps'\n",
    "]\n",
    "\n",
    "# Fit and transform the price-related columns\n",
    "aapl_df[price_columns] = scaler.fit_transform(aapl_df[price_columns])\n",
    "\n",
    "\n",
    "# Predict the closing price\n",
    "aapl_features = aapl_df[features]\n",
    "predicted_close = forest_model.predict(aapl_features)\n",
    "\n",
    "print(f\"Predicted closing price for AAPL on May 10, 2024: {[predicted_close]}\")"
   ]
  },
  {
   "cell_type": "code",
   "execution_count": null,
   "metadata": {
    "vscode": {
     "languageId": "plaintext"
    }
   },
   "outputs": [],
   "source": [
    "predicted_close[0]"
   ]
  }
 ],
 "metadata": {
  "language_info": {
   "name": "python"
  }
 },
 "nbformat": 4,
 "nbformat_minor": 2
}
