{
 "cells": [
  {
   "cell_type": "code",
   "execution_count": 75,
   "metadata": {},
   "outputs": [],
   "source": [
    "import numpy as np\n",
    "import os\n",
    "import pandas as pd\n",
    "import re\n",
    "import requests\n",
    "import kagglehub\n",
    "import sys\n",
    "\n",
    "from sklearn.model_selection import train_test_split\n",
    "from sklearn.ensemble import RandomForestRegressor"
   ]
  },
  {
   "cell_type": "markdown",
   "metadata": {},
   "source": [
    "# Machine Learning Project"
   ]
  },
  {
   "cell_type": "markdown",
   "metadata": {},
   "source": [
    "by Andon Gorchov (@thunderman913)"
   ]
  },
  {
   "cell_type": "code",
   "execution_count": 32,
   "metadata": {},
   "outputs": [
    {
     "name": "stdout",
     "output_type": "stream",
     "text": [
      "Path to dataset files: C:\\Users\\andon\\.cache\\kagglehub\\datasets\\tsaustin\\us-historical-stock-prices-with-earnings-data\\versions\\7\n"
     ]
    }
   ],
   "source": [
    "path = kagglehub.dataset_download(\"tsaustin/us-historical-stock-prices-with-earnings-data\")\n",
    "\n",
    "print(\"Path to dataset files:\", path)"
   ]
  },
  {
   "cell_type": "code",
   "execution_count": 33,
   "metadata": {},
   "outputs": [],
   "source": [
    "earnings_path = f\"{path}\\\\stocks_latest\\\\earnings_latest.csv\"\n",
    "stock_prices_path = f\"{path}\\\\stocks_latest\\\\stock_prices_latest.csv\""
   ]
  },
  {
   "cell_type": "code",
   "execution_count": 34,
   "metadata": {},
   "outputs": [],
   "source": [
    "earnings_data = pd.read_csv(earnings_path)\n",
    "stock_data = pd.read_csv(stock_prices_path)"
   ]
  },
  {
   "cell_type": "code",
   "execution_count": 35,
   "metadata": {},
   "outputs": [],
   "source": [
    "# Function to get the price X days ago\n",
    "def get_price_x_days_ago(df, days):\n",
    "    return df['close'].shift(days)\n",
    "\n",
    "# Function to get peak price and how many days ago it happened\n",
    "def get_peak_price_and_days_ago(df):\n",
    "    df['peak_price'] = df['close'].rolling(window=90, min_periods=1).max()\n",
    "    peak_day_index = df['close'].rolling(window=90, min_periods=1).apply(lambda x: (len(x) - 1 - x.argmax()), raw=False)\n",
    "    df['peak_days_ago'] = peak_day_index.fillna(0).astype(int)  # Fill NaN for rows that don't have enough data\n",
    "    return df\n",
    "\n",
    "# Apply the operations without grouping by ticker\n",
    "def process_ticker_data(df):\n",
    "    # Add columns for prices X days ago\n",
    "    for days in [1,2,3,4,5, 10, 15, 30, 60, 90]:\n",
    "        df[f'price_{days}_days_ago'] = df.groupby('ticker')['close'].shift(days)\n",
    "        df[f'volume_{days}_days_ago'] = df.groupby('ticker')['volume'].shift(days)\n",
    "    \n",
    "    # Get peak price and peak days ago\n",
    "    #df = df.groupby('ticker', group_keys=False).apply(get_peak_price_and_days_ago)\n",
    "    return df"
   ]
  },
  {
   "cell_type": "code",
   "execution_count": 36,
   "metadata": {},
   "outputs": [],
   "source": [
    "def tidyStockData():\n",
    "    file_path = 'stock_data_processed.pkl'\n",
    "\n",
    "    # Check if the file exists\n",
    "    if os.path.exists(file_path):\n",
    "        return pd.read_pickle('stock_data_processed.pkl')\n",
    "\n",
    "    stock_data_tidy = stock_data\n",
    "\n",
    "    stock_data_tidy.date = pd.to_datetime(stock_data_tidy.date)\n",
    "    stock_data_tidy = stock_data_tidy.rename(columns={'symbol': 'ticker'})\n",
    "    stock_data_tidy = stock_data_tidy.drop(columns=['split_coefficient'])\n",
    "\n",
    "    stock_data_tidy = stock_data_tidy[(stock_data_tidy['date'] > (earnings_data_tidy['date'].min() - pd.Timedelta(days=100)))\n",
    "                                    | (stock_data_tidy['date'] < earnings_data_tidy['date'].max() + pd.Timedelta(days=5))]\n",
    "\n",
    "    # Sort the DataFrame by ticker and date\n",
    "    stock_data_tidy = stock_data_tidy.sort_values(by=['ticker', 'date'], ascending=[True, True])\n",
    "\n",
    "    # Process the DataFrame without grouping\n",
    "    stock_data_tidy = process_ticker_data(stock_data_tidy)\n",
    "\n",
    "    stock_data_tidy = stock_data_tidy[stock_data_tidy.price_90_days_ago.isna() == False]\n",
    "    stock_data_tidy.to_pickle('stock_data_processed.pkl')\n",
    "    \n",
    "    return stock_data_tidy"
   ]
  },
  {
   "cell_type": "code",
   "execution_count": 37,
   "metadata": {},
   "outputs": [],
   "source": [
    "stock_data_tidy = tidyStockData()"
   ]
  },
  {
   "cell_type": "code",
   "execution_count": 38,
   "metadata": {},
   "outputs": [],
   "source": [
    "earnings_data_tidy = earnings_data\n",
    "earnings_data_tidy.date = pd.to_datetime(earnings_data_tidy.date)"
   ]
  },
  {
   "cell_type": "code",
   "execution_count": 39,
   "metadata": {},
   "outputs": [],
   "source": [
    "earnings_data_tidy = earnings_data_tidy.rename(columns={'symbol': 'ticker'})"
   ]
  },
  {
   "cell_type": "code",
   "execution_count": 40,
   "metadata": {},
   "outputs": [],
   "source": [
    "earnings_data_tidy = earnings_data_tidy.drop(earnings_data_tidy[(earnings_data_tidy.eps.isna()) | (earnings_data_tidy.eps_est.isna())].index)\n",
    "earnings_data_tidy = earnings_data_tidy.drop(columns=['qtr'])"
   ]
  },
  {
   "cell_type": "code",
   "execution_count": 41,
   "metadata": {},
   "outputs": [],
   "source": [
    "earnings_data_tidy = earnings_data_tidy.rename(columns={'date': 'earnings_date'})"
   ]
  },
  {
   "cell_type": "code",
   "execution_count": 42,
   "metadata": {},
   "outputs": [],
   "source": [
    "earnings_data_tidy['release_time'] = earnings_data_tidy.groupby('ticker')['release_time'].ffill().bfill()"
   ]
  },
  {
   "cell_type": "code",
   "execution_count": 43,
   "metadata": {},
   "outputs": [],
   "source": [
    "# Adding earnings data to stock_data_tidy based on the nearest previous date\n",
    "def add_earnings_data(stock_data, earnings):\n",
    "    # Merge earnings data and stock data on ticker\n",
    "    merged_df = pd.merge_asof(\n",
    "        stock_data.sort_values(by='date'),\n",
    "        earnings.sort_values(by='earnings_date'),\n",
    "        by='ticker',\n",
    "        left_on='date',\n",
    "        right_on='earnings_date',\n",
    "        direction='backward'\n",
    "    )\n",
    "    \n",
    "    # Forward fill to ensure non-trading days are adjusted properly\n",
    "    merged_df = merged_df.sort_values(by=['ticker', 'date'])\n",
    "\n",
    "    # Merge again to get the next earnings date\n",
    "    merged_df = pd.merge_asof(\n",
    "        merged_df.sort_values(by='date'),\n",
    "        earnings[['ticker', 'earnings_date']].sort_values(by='earnings_date'),\n",
    "        by='ticker',\n",
    "        left_on='date',\n",
    "        right_on='earnings_date',\n",
    "        direction='forward',\n",
    "        suffixes=('', '_next'),\n",
    "        allow_exact_matches=False\n",
    "    )\n",
    "    \n",
    "    return merged_df\n",
    "\n",
    "# Add earnings data to stock_data_tidy\n",
    "stock_data_tidy = add_earnings_data(stock_data_tidy, earnings_data_tidy)"
   ]
  },
  {
   "cell_type": "code",
   "execution_count": 44,
   "metadata": {},
   "outputs": [
    {
     "data": {
      "text/html": [
       "<div>\n",
       "<style scoped>\n",
       "    .dataframe tbody tr th:only-of-type {\n",
       "        vertical-align: middle;\n",
       "    }\n",
       "\n",
       "    .dataframe tbody tr th {\n",
       "        vertical-align: top;\n",
       "    }\n",
       "\n",
       "    .dataframe thead th {\n",
       "        text-align: right;\n",
       "    }\n",
       "</style>\n",
       "<table border=\"1\" class=\"dataframe\">\n",
       "  <thead>\n",
       "    <tr style=\"text-align: right;\">\n",
       "      <th></th>\n",
       "      <th>ticker</th>\n",
       "      <th>earnings_date</th>\n",
       "      <th>eps_est</th>\n",
       "      <th>eps</th>\n",
       "      <th>release_time</th>\n",
       "    </tr>\n",
       "  </thead>\n",
       "  <tbody>\n",
       "    <tr>\n",
       "      <th>115962</th>\n",
       "      <td>PAYS</td>\n",
       "      <td>2019-05-07</td>\n",
       "      <td>0.020</td>\n",
       "      <td>0.03</td>\n",
       "      <td>pre</td>\n",
       "    </tr>\n",
       "    <tr>\n",
       "      <th>115963</th>\n",
       "      <td>PAYS</td>\n",
       "      <td>2019-05-08</td>\n",
       "      <td>0.020</td>\n",
       "      <td>0.03</td>\n",
       "      <td>pre</td>\n",
       "    </tr>\n",
       "    <tr>\n",
       "      <th>115964</th>\n",
       "      <td>PAYS</td>\n",
       "      <td>2019-08-06</td>\n",
       "      <td>0.033</td>\n",
       "      <td>0.05</td>\n",
       "      <td>pre</td>\n",
       "    </tr>\n",
       "    <tr>\n",
       "      <th>115965</th>\n",
       "      <td>PAYS</td>\n",
       "      <td>2019-11-05</td>\n",
       "      <td>0.040</td>\n",
       "      <td>0.06</td>\n",
       "      <td>post</td>\n",
       "    </tr>\n",
       "    <tr>\n",
       "      <th>115966</th>\n",
       "      <td>PAYS</td>\n",
       "      <td>2020-04-03</td>\n",
       "      <td>0.060</td>\n",
       "      <td>0.05</td>\n",
       "      <td>pre</td>\n",
       "    </tr>\n",
       "    <tr>\n",
       "      <th>115967</th>\n",
       "      <td>PAYS</td>\n",
       "      <td>2020-08-13</td>\n",
       "      <td>0.035</td>\n",
       "      <td>0.01</td>\n",
       "      <td>post</td>\n",
       "    </tr>\n",
       "    <tr>\n",
       "      <th>115968</th>\n",
       "      <td>PAYS</td>\n",
       "      <td>2020-11-17</td>\n",
       "      <td>0.018</td>\n",
       "      <td>-0.14</td>\n",
       "      <td>pre</td>\n",
       "    </tr>\n",
       "    <tr>\n",
       "      <th>115969</th>\n",
       "      <td>PAYS</td>\n",
       "      <td>2021-03-25</td>\n",
       "      <td>0.013</td>\n",
       "      <td>0.01</td>\n",
       "      <td>pre</td>\n",
       "    </tr>\n",
       "    <tr>\n",
       "      <th>115970</th>\n",
       "      <td>PAYS</td>\n",
       "      <td>2021-05-11</td>\n",
       "      <td>0.013</td>\n",
       "      <td>-0.01</td>\n",
       "      <td>post</td>\n",
       "    </tr>\n",
       "  </tbody>\n",
       "</table>\n",
       "</div>"
      ],
      "text/plain": [
       "       ticker earnings_date  eps_est   eps release_time\n",
       "115962   PAYS    2019-05-07    0.020  0.03          pre\n",
       "115963   PAYS    2019-05-08    0.020  0.03          pre\n",
       "115964   PAYS    2019-08-06    0.033  0.05          pre\n",
       "115965   PAYS    2019-11-05    0.040  0.06         post\n",
       "115966   PAYS    2020-04-03    0.060  0.05          pre\n",
       "115967   PAYS    2020-08-13    0.035  0.01         post\n",
       "115968   PAYS    2020-11-17    0.018 -0.14          pre\n",
       "115969   PAYS    2021-03-25    0.013  0.01          pre\n",
       "115970   PAYS    2021-05-11    0.013 -0.01         post"
      ]
     },
     "execution_count": 44,
     "metadata": {},
     "output_type": "execute_result"
    }
   ],
   "source": [
    "earnings_data_tidy[earnings_data_tidy.ticker == 'PAYS']"
   ]
  },
  {
   "cell_type": "code",
   "execution_count": 45,
   "metadata": {},
   "outputs": [],
   "source": [
    "stock_data_tidy = stock_data_tidy.drop(stock_data_tidy[(stock_data_tidy.earnings_date.isna()) | (stock_data_tidy.earnings_date_next.isna())].index)"
   ]
  },
  {
   "cell_type": "code",
   "execution_count": 54,
   "metadata": {},
   "outputs": [],
   "source": [
    "stock_data_tidy['days_till_report'] = (stock_data_tidy['earnings_date_next'] - stock_data_tidy['date']).dt.days\n",
    "stock_data_tidy['days_since_report'] = (stock_data_tidy['date'] - stock_data_tidy['earnings_date']).dt.days"
   ]
  },
  {
   "cell_type": "code",
   "execution_count": 58,
   "metadata": {},
   "outputs": [
    {
     "data": {
      "text/html": [
       "<div>\n",
       "<style scoped>\n",
       "    .dataframe tbody tr th:only-of-type {\n",
       "        vertical-align: middle;\n",
       "    }\n",
       "\n",
       "    .dataframe tbody tr th {\n",
       "        vertical-align: top;\n",
       "    }\n",
       "\n",
       "    .dataframe thead th {\n",
       "        text-align: right;\n",
       "    }\n",
       "</style>\n",
       "<table border=\"1\" class=\"dataframe\">\n",
       "  <thead>\n",
       "    <tr style=\"text-align: right;\">\n",
       "      <th></th>\n",
       "      <th>ticker</th>\n",
       "      <th>date</th>\n",
       "      <th>earnings_date</th>\n",
       "      <th>earnings_date_next</th>\n",
       "      <th>days_till_report</th>\n",
       "      <th>days_since_report</th>\n",
       "    </tr>\n",
       "  </thead>\n",
       "  <tbody>\n",
       "    <tr>\n",
       "      <th>0</th>\n",
       "      <td>A</td>\n",
       "      <td>2012-12-26</td>\n",
       "      <td>2012-11-19</td>\n",
       "      <td>2013-02-14</td>\n",
       "      <td>50</td>\n",
       "      <td>37</td>\n",
       "    </tr>\n",
       "    <tr>\n",
       "      <th>2</th>\n",
       "      <td>PAR</td>\n",
       "      <td>2012-12-26</td>\n",
       "      <td>2012-11-05</td>\n",
       "      <td>2013-02-14</td>\n",
       "      <td>50</td>\n",
       "      <td>51</td>\n",
       "    </tr>\n",
       "    <tr>\n",
       "      <th>3</th>\n",
       "      <td>AIZ</td>\n",
       "      <td>2012-12-26</td>\n",
       "      <td>2012-10-24</td>\n",
       "      <td>2013-02-06</td>\n",
       "      <td>42</td>\n",
       "      <td>63</td>\n",
       "    </tr>\n",
       "    <tr>\n",
       "      <th>7</th>\n",
       "      <td>PAYX</td>\n",
       "      <td>2012-12-26</td>\n",
       "      <td>2012-12-19</td>\n",
       "      <td>2013-03-27</td>\n",
       "      <td>91</td>\n",
       "      <td>7</td>\n",
       "    </tr>\n",
       "    <tr>\n",
       "      <th>8</th>\n",
       "      <td>PB</td>\n",
       "      <td>2012-12-26</td>\n",
       "      <td>2012-10-24</td>\n",
       "      <td>2013-01-25</td>\n",
       "      <td>30</td>\n",
       "      <td>63</td>\n",
       "    </tr>\n",
       "    <tr>\n",
       "      <th>...</th>\n",
       "      <td>...</td>\n",
       "      <td>...</td>\n",
       "      <td>...</td>\n",
       "      <td>...</td>\n",
       "      <td>...</td>\n",
       "      <td>...</td>\n",
       "    </tr>\n",
       "    <tr>\n",
       "      <th>11762357</th>\n",
       "      <td>RFIL</td>\n",
       "      <td>2021-06-10</td>\n",
       "      <td>2021-03-11</td>\n",
       "      <td>2021-06-14</td>\n",
       "      <td>4</td>\n",
       "      <td>91</td>\n",
       "    </tr>\n",
       "    <tr>\n",
       "      <th>11762404</th>\n",
       "      <td>CODA</td>\n",
       "      <td>2021-06-10</td>\n",
       "      <td>2021-03-17</td>\n",
       "      <td>2021-06-14</td>\n",
       "      <td>4</td>\n",
       "      <td>85</td>\n",
       "    </tr>\n",
       "    <tr>\n",
       "      <th>11762995</th>\n",
       "      <td>ADXS</td>\n",
       "      <td>2021-06-11</td>\n",
       "      <td>2020-09-10</td>\n",
       "      <td>2021-06-14</td>\n",
       "      <td>3</td>\n",
       "      <td>274</td>\n",
       "    </tr>\n",
       "    <tr>\n",
       "      <th>11764002</th>\n",
       "      <td>RFIL</td>\n",
       "      <td>2021-06-11</td>\n",
       "      <td>2021-03-11</td>\n",
       "      <td>2021-06-14</td>\n",
       "      <td>3</td>\n",
       "      <td>92</td>\n",
       "    </tr>\n",
       "    <tr>\n",
       "      <th>11764687</th>\n",
       "      <td>CODA</td>\n",
       "      <td>2021-06-11</td>\n",
       "      <td>2021-03-17</td>\n",
       "      <td>2021-06-14</td>\n",
       "      <td>3</td>\n",
       "      <td>86</td>\n",
       "    </tr>\n",
       "  </tbody>\n",
       "</table>\n",
       "<p>6827124 rows × 6 columns</p>\n",
       "</div>"
      ],
      "text/plain": [
       "         ticker       date earnings_date earnings_date_next  days_till_report  \\\n",
       "0             A 2012-12-26    2012-11-19         2013-02-14                50   \n",
       "2           PAR 2012-12-26    2012-11-05         2013-02-14                50   \n",
       "3           AIZ 2012-12-26    2012-10-24         2013-02-06                42   \n",
       "7          PAYX 2012-12-26    2012-12-19         2013-03-27                91   \n",
       "8            PB 2012-12-26    2012-10-24         2013-01-25                30   \n",
       "...         ...        ...           ...                ...               ...   \n",
       "11762357   RFIL 2021-06-10    2021-03-11         2021-06-14                 4   \n",
       "11762404   CODA 2021-06-10    2021-03-17         2021-06-14                 4   \n",
       "11762995   ADXS 2021-06-11    2020-09-10         2021-06-14                 3   \n",
       "11764002   RFIL 2021-06-11    2021-03-11         2021-06-14                 3   \n",
       "11764687   CODA 2021-06-11    2021-03-17         2021-06-14                 3   \n",
       "\n",
       "          days_since_report  \n",
       "0                        37  \n",
       "2                        51  \n",
       "3                        63  \n",
       "7                         7  \n",
       "8                        63  \n",
       "...                     ...  \n",
       "11762357                 91  \n",
       "11762404                 85  \n",
       "11762995                274  \n",
       "11764002                 92  \n",
       "11764687                 86  \n",
       "\n",
       "[6827124 rows x 6 columns]"
      ]
     },
     "execution_count": 58,
     "metadata": {},
     "output_type": "execute_result"
    }
   ],
   "source": [
    "stock_data_tidy[['ticker','date', 'earnings_date', 'earnings_date_next', 'days_till_report', 'days_since_report']]"
   ]
  },
  {
   "cell_type": "markdown",
   "metadata": {},
   "source": [
    "We remove data with more than 120 days on both next and previous report, since that is useless data for our case"
   ]
  },
  {
   "cell_type": "code",
   "execution_count": 67,
   "metadata": {},
   "outputs": [],
   "source": [
    "stock_data_tidy = stock_data_tidy.drop(stock_data_tidy[(stock_data_tidy.days_till_report > 120) & (stock_data_tidy.days_since_report > 120)].index)"
   ]
  },
  {
   "cell_type": "code",
   "execution_count": 70,
   "metadata": {},
   "outputs": [],
   "source": [
    "stock_data_tidy = stock_data_tidy.drop(columns=['open', 'high', 'low', 'close_adjusted', 'volume'])"
   ]
  },
  {
   "cell_type": "code",
   "execution_count": 73,
   "metadata": {},
   "outputs": [
    {
     "data": {
      "text/plain": [
       "Index(['ticker', 'date', 'close', 'peak_price', 'peak_days_ago',\n",
       "       'price_1_days_ago', 'volume_1_days_ago', 'price_2_days_ago',\n",
       "       'volume_2_days_ago', 'price_3_days_ago', 'volume_3_days_ago',\n",
       "       'price_4_days_ago', 'volume_4_days_ago', 'price_5_days_ago',\n",
       "       'volume_5_days_ago', 'price_10_days_ago', 'volume_10_days_ago',\n",
       "       'price_15_days_ago', 'volume_15_days_ago', 'price_30_days_ago',\n",
       "       'volume_30_days_ago', 'price_60_days_ago', 'volume_60_days_ago',\n",
       "       'price_90_days_ago', 'volume_90_days_ago', 'earnings_date', 'eps_est',\n",
       "       'eps', 'release_time', 'earnings_date_next', 'days_till_report',\n",
       "       'days_since_report'],\n",
       "      dtype='object')"
      ]
     },
     "execution_count": 73,
     "metadata": {},
     "output_type": "execute_result"
    }
   ],
   "source": [
    "stock_data_tidy.columns"
   ]
  }
 ],
 "metadata": {
  "kernelspec": {
   "display_name": "Python 3",
   "language": "python",
   "name": "python3"
  },
  "language_info": {
   "codemirror_mode": {
    "name": "ipython",
    "version": 3
   },
   "file_extension": ".py",
   "mimetype": "text/x-python",
   "name": "python",
   "nbconvert_exporter": "python",
   "pygments_lexer": "ipython3",
   "version": "3.12.5"
  }
 },
 "nbformat": 4,
 "nbformat_minor": 2
}
