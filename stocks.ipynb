{
 "cells": [
  {
   "cell_type": "code",
   "execution_count": 80,
   "metadata": {},
   "outputs": [],
   "source": [
    "import numpy as np\n",
    "import os\n",
    "import pandas as pd\n",
    "import re\n",
    "import requests\n",
    "import kagglehub\n",
    "import sys\n",
    "import matplotlib.pyplot as plt\n",
    "import pickle\n",
    "from dataclasses import dataclass\n",
    "\n",
    "from sklearn.metrics import mean_squared_error, mean_absolute_error, r2_score\n",
    "from sklearn.model_selection import train_test_split, GridSearchCV\n",
    "from sklearn.ensemble import RandomForestRegressor\n",
    "from sklearn.preprocessing import StandardScaler, LabelEncoder\n",
    "from sklearn.linear_model import LinearRegression\n",
    "from sklearn.svm import SVR\n",
    "from sklearn.neighbors import KNeighborsRegressor\n",
    "from sklearn.linear_model import Ridge"
   ]
  },
  {
   "cell_type": "markdown",
   "metadata": {},
   "source": [
    "# Stock Price Prediction Using Machine Learning Models"
   ]
  },
  {
   "cell_type": "markdown",
   "metadata": {},
   "source": [
    "by Andon Gorchov (@thunderman913)"
   ]
  },
  {
   "cell_type": "markdown",
   "metadata": {},
   "source": [
    "## Abstract\n",
    "\n",
    "This project aims to build machine learning models, which are good at predicting stock prices, based on stock and financial data. Various models will be explored, including Support Vector Regression (SVR), K-Nearest Neighbors (KNN), Random Forest Regressors (RFR) and Linear Regression The analysis uses historical stock data, which includes factors such as the value of a stock, trade volume and economic indicators. In order to train and evaluate this model, the dataset is pre-processed and analyzed under appropriate conditions, so that the model can be run. Apart from the data, hyperparameter tuning is performed using GridSearchCV to find the optimal parameters for each algorithm. The performance of the models is evaluated using Mean Squared Error (MSE) to compare their accuracy in predicting stock closing prices. The findings provide insights into the effectiveness of different machine learning techniques for stock price forecasting, highlighting the strengths and limitations of each approach in dealing with financial market data."
   ]
  },
  {
   "cell_type": "markdown",
   "metadata": {},
   "source": [
    "## 1. Problem Definition"
   ]
  },
  {
   "cell_type": "markdown",
   "metadata": {},
   "source": [
    "Trying to predict the stock market price is a century old task, that no one has yet perfected. The big corporations and hedge funds put their best effort to outsmart the normal traders, but still they sometimes fail. There has not been a perfect tool for predicting the price and if one comes out at any point, it will for sure disrupt the market. The project's main goal is to create machine learning models, that are sufficient in predicting the price of a stock. Two different datasets will be used to achieve this goal - stock price data and earnings data. Everything will be preprocessed, so that the models can be run on it and hopefully predict close to the actual data. 4 different models will be explored and experimented with, so we can see, which one performs best in our circumstances. The hyperparameters will be tuned as much as possible, but since the dataset has 27 different features and nearly 7 million rows - the task to perfect the model will be difficult. In no means, I am expecting the models to predict accurately to the actual price, but I do expected, that some models work much better than others."
   ]
  },
  {
   "cell_type": "markdown",
   "metadata": {},
   "source": [
    "## 2. Data analysis and tidying"
   ]
  },
  {
   "cell_type": "markdown",
   "metadata": {},
   "source": [
    "We will need some stock datasets and the perfect one for this task is this one:\n",
    "\n",
    "https://www.kaggle.com/datasets/tsaustin/us-historical-stock-prices-with-earnings-data"
   ]
  },
  {
   "cell_type": "markdown",
   "metadata": {},
   "source": [
    "It contains daily stock price informations for more than 7000 tickers. Also it has earnings data for the different stock. Some are quarterly, others are yearly, but we will figure out how to use them. First lets define some methods, that will be used for reading the data."
   ]
  },
  {
   "cell_type": "markdown",
   "metadata": {},
   "source": [
    "In order not to download the dataset locally, we can read it from the remote using those paths.\n",
    "\n",
    "Pickles will be used for most of the data processed/machine learning models, because those are slow operations and it is better for us, not to perform them every time."
   ]
  },
  {
   "cell_type": "code",
   "execution_count": 2,
   "metadata": {},
   "outputs": [
    {
     "name": "stdout",
     "output_type": "stream",
     "text": [
      "Warning: Looks like you're using an outdated `kagglehub` version, please consider updating (latest version: 0.3.4)\n"
     ]
    }
   ],
   "source": [
    "path = kagglehub.dataset_download(\"tsaustin/us-historical-stock-prices-with-earnings-data\")\n",
    "\n",
    "earnings_path = f\"{path}\\\\stocks_latest\\\\earnings_latest.csv\"\n",
    "stock_prices_path = f\"{path}\\\\stocks_latest\\\\stock_prices_latest.csv\"\n",
    "\n",
    "earnings_data_path = './pickles/earnings_data_processed.pkl'\n",
    "stock_data_path = './pickles/stock_data_processed.pkl'"
   ]
  },
  {
   "cell_type": "code",
   "execution_count": 3,
   "metadata": {},
   "outputs": [],
   "source": [
    "# Calculate the peak price over a rolling window and days since the peak price\n",
    "def get_peak_price_and_days_ago(df):\n",
    "    df['peak_price'] = df['close'].rolling(window=90, min_periods=1).max()\n",
    "    peak_day_index = df['close'].rolling(window=90, min_periods=1).apply(lambda x: (len(x) - 1 - x.argmax()), raw=False)\n",
    "    df['peak_days_ago'] = peak_day_index.fillna(0).astype(int)  # Fill NaN for rows that don't have enough data\n",
    "    return df\n",
    "\n",
    "# Adds features like prices and volumes for specific days ago for each stock (ticker)\n",
    "# and calculates the peak price and days since the peak price\n",
    "def process_ticker_data(df):\n",
    "    # Add columns for prices X days ago\n",
    "    for days in [1,2,3,4,5, 10, 15, 30, 60, 90]:\n",
    "        df[f'price_{days}_days_ago'] = df.groupby('ticker')['close'].shift(days)\n",
    "        df[f'volume_{days}_days_ago'] = df.groupby('ticker')['volume'].shift(days)\n",
    "\n",
    "    df = df.groupby('ticker', group_keys=False).apply(get_peak_price_and_days_ago)\n",
    "\n",
    "    return df"
   ]
  },
  {
   "cell_type": "code",
   "execution_count": 4,
   "metadata": {},
   "outputs": [],
   "source": [
    "# Adding earnings data to stock_data_tidy based on the nearest previous date\n",
    "def add_earnings_data(stock_data, earnings):\n",
    "    merged_df = pd.merge_asof(\n",
    "        stock_data.sort_values(by='date'),\n",
    "        earnings.sort_values(by='earnings_date'),\n",
    "        by='ticker',\n",
    "        left_on='date',\n",
    "        right_on='earnings_date',\n",
    "        direction='backward'\n",
    "    )\n",
    "    \n",
    "    # Ensure non-trading days are adjusted properly\n",
    "    merged_df = merged_df.sort_values(by=['ticker', 'date'])\n",
    "\n",
    "    merged_df = pd.merge_asof(\n",
    "        merged_df.sort_values(by='date'),\n",
    "        earnings[['ticker', 'earnings_date']].sort_values(by='earnings_date'),\n",
    "        by='ticker',\n",
    "        left_on='date',\n",
    "        right_on='earnings_date',\n",
    "        direction='forward',\n",
    "        suffixes=('', '_next'),\n",
    "        allow_exact_matches=False\n",
    "    )\n",
    "    \n",
    "    # Remove NA earnings dates\n",
    "    merged_df = merged_df.drop(merged_df[(merged_df.earnings_date.isna()) | (merged_df.earnings_date_next.isna())].index)\n",
    "    merged_df['days_till_report'] = (merged_df['earnings_date_next'] - merged_df['date']).dt.days\n",
    "    merged_df['days_since_report'] = (merged_df['date'] - merged_df['earnings_date']).dt.days\n",
    "\n",
    "    return merged_df"
   ]
  },
  {
   "cell_type": "code",
   "execution_count": 5,
   "metadata": {},
   "outputs": [],
   "source": [
    "# Read and tidy the earnings data dataset\n",
    "def getEarningsData():\n",
    "\n",
    "    if os.path.exists(earnings_data_path):\n",
    "        return pd.read_pickle(earnings_data_path)\n",
    "\n",
    "    earnings_data = pd.read_csv(earnings_path)\n",
    "\n",
    "    earnings_data_tidy = earnings_data\n",
    "    earnings_data_tidy.date = pd.to_datetime(earnings_data_tidy.date)\n",
    "\n",
    "    earnings_data_tidy = earnings_data_tidy.rename(columns={'symbol': 'ticker'})\n",
    "\n",
    "    earnings_data_tidy = earnings_data_tidy.drop(earnings_data_tidy[(earnings_data_tidy.eps.isna()) | (earnings_data_tidy.eps_est.isna())].index)\n",
    "    earnings_data_tidy = earnings_data_tidy.drop(columns=['qtr'])\n",
    "\n",
    "    earnings_data_tidy = earnings_data_tidy.rename(columns={'date': 'earnings_date'})\n",
    "\n",
    "    earnings_data_tidy['release_time'] = earnings_data_tidy.groupby('ticker')['release_time'].ffill().bfill()\n",
    "\n",
    "    earnings_data_tidy.to_pickle(earnings_data_path)\n",
    "\n",
    "    return earnings_data_tidy"
   ]
  },
  {
   "cell_type": "code",
   "execution_count": 6,
   "metadata": {},
   "outputs": [],
   "source": [
    "# Read and tidy the stock data dataset\n",
    "def getTidiedStockData():\n",
    "    # Check if the file exists\n",
    "    if os.path.exists(stock_data_path):\n",
    "        return pd.read_pickle(stock_data_path)\n",
    "\n",
    "    # Read the basic data and some tidying\n",
    "    stock_data = pd.read_csv(stock_prices_path)\n",
    "    stock_data_tidy = stock_data\n",
    "\n",
    "    stock_data_tidy.date = pd.to_datetime(stock_data_tidy.date)\n",
    "    stock_data_tidy = stock_data_tidy.rename(columns={'symbol': 'ticker'})\n",
    "    stock_data_tidy = stock_data_tidy.drop(columns=['split_coefficient'])\n",
    "\n",
    "    earnings_data_tidy = getEarningsData()\n",
    "\n",
    "    stock_data_tidy = stock_data_tidy[(stock_data_tidy['date'] > (earnings_data_tidy['earnings_date'].min() - pd.Timedelta(days=100)))\n",
    "                                    | (stock_data_tidy['date'] < earnings_data_tidy['earnings_date'].max() + pd.Timedelta(days=5))]\n",
    "\n",
    "    stock_data_tidy = stock_data_tidy.sort_values(by=['ticker', 'date'], ascending=[True, True])\n",
    "\n",
    "    stock_data_tidy = process_ticker_data(stock_data_tidy)\n",
    "\n",
    "    stock_data_tidy = stock_data_tidy[stock_data_tidy.price_90_days_ago.isna() == False]\n",
    "    \n",
    "    stock_data_tidy = add_earnings_data(stock_data_tidy, earnings_data_tidy)\n",
    "\n",
    "    # Encode labels\n",
    "    le = LabelEncoder()\n",
    "    stock_data_tidy['ticker_encoded'] = le.fit_transform(stock_data_tidy['ticker'])\n",
    "    \n",
    "    stock_data_tidy.to_pickle(stock_data_path)\n",
    "\n",
    "    return stock_data_tidy"
   ]
  },
  {
   "cell_type": "code",
   "execution_count": 7,
   "metadata": {},
   "outputs": [],
   "source": [
    "stock_data_tidy = getTidiedStockData()"
   ]
  },
  {
   "cell_type": "markdown",
   "metadata": {},
   "source": [
    "After everything writte above, we can just call the above method and get all of the data needed for the machine learning."
   ]
  },
  {
   "cell_type": "code",
   "execution_count": 8,
   "metadata": {},
   "outputs": [
    {
     "data": {
      "text/html": [
       "<div>\n",
       "<style scoped>\n",
       "    .dataframe tbody tr th:only-of-type {\n",
       "        vertical-align: middle;\n",
       "    }\n",
       "\n",
       "    .dataframe tbody tr th {\n",
       "        vertical-align: top;\n",
       "    }\n",
       "\n",
       "    .dataframe thead th {\n",
       "        text-align: right;\n",
       "    }\n",
       "</style>\n",
       "<table border=\"1\" class=\"dataframe\">\n",
       "  <thead>\n",
       "    <tr style=\"text-align: right;\">\n",
       "      <th></th>\n",
       "      <th>ticker</th>\n",
       "      <th>date</th>\n",
       "      <th>open</th>\n",
       "      <th>high</th>\n",
       "      <th>low</th>\n",
       "      <th>close</th>\n",
       "      <th>close_adjusted</th>\n",
       "      <th>volume</th>\n",
       "      <th>price_1_days_ago</th>\n",
       "      <th>volume_1_days_ago</th>\n",
       "      <th>...</th>\n",
       "      <th>peak_price</th>\n",
       "      <th>peak_days_ago</th>\n",
       "      <th>earnings_date</th>\n",
       "      <th>eps_est</th>\n",
       "      <th>eps</th>\n",
       "      <th>release_time</th>\n",
       "      <th>earnings_date_next</th>\n",
       "      <th>days_till_report</th>\n",
       "      <th>days_since_report</th>\n",
       "      <th>ticker_encoded</th>\n",
       "    </tr>\n",
       "  </thead>\n",
       "  <tbody>\n",
       "    <tr>\n",
       "      <th>11137135</th>\n",
       "      <td>C</td>\n",
       "      <td>2012-07-16</td>\n",
       "      <td>27.4500</td>\n",
       "      <td>27.5300</td>\n",
       "      <td>26.6200</td>\n",
       "      <td>26.8100</td>\n",
       "      <td>26.0433</td>\n",
       "      <td>59427600</td>\n",
       "      <td>26.6500</td>\n",
       "      <td>48422100.0</td>\n",
       "      <td>...</td>\n",
       "      <td>38.08</td>\n",
       "      <td>81</td>\n",
       "      <td>2012-07-16</td>\n",
       "      <td>0.88</td>\n",
       "      <td>0.95</td>\n",
       "      <td>pre</td>\n",
       "      <td>2012-10-15</td>\n",
       "      <td>91</td>\n",
       "      <td>0</td>\n",
       "      <td>718</td>\n",
       "    </tr>\n",
       "    <tr>\n",
       "      <th>11138878</th>\n",
       "      <td>CSX</td>\n",
       "      <td>2012-07-17</td>\n",
       "      <td>22.7300</td>\n",
       "      <td>22.8600</td>\n",
       "      <td>22.2800</td>\n",
       "      <td>22.7900</td>\n",
       "      <td>20.1997</td>\n",
       "      <td>7041400</td>\n",
       "      <td>22.5900</td>\n",
       "      <td>4914000.0</td>\n",
       "      <td>...</td>\n",
       "      <td>22.79</td>\n",
       "      <td>0</td>\n",
       "      <td>2012-07-17</td>\n",
       "      <td>0.47</td>\n",
       "      <td>0.49</td>\n",
       "      <td>post</td>\n",
       "      <td>2012-10-16</td>\n",
       "      <td>91</td>\n",
       "      <td>0</td>\n",
       "      <td>1105</td>\n",
       "    </tr>\n",
       "    <tr>\n",
       "      <th>11138900</th>\n",
       "      <td>FIS</td>\n",
       "      <td>2012-07-17</td>\n",
       "      <td>34.3200</td>\n",
       "      <td>34.5200</td>\n",
       "      <td>34.1300</td>\n",
       "      <td>34.2300</td>\n",
       "      <td>31.2043</td>\n",
       "      <td>1177000</td>\n",
       "      <td>34.3000</td>\n",
       "      <td>1234200.0</td>\n",
       "      <td>...</td>\n",
       "      <td>34.80</td>\n",
       "      <td>9</td>\n",
       "      <td>2012-07-17</td>\n",
       "      <td>0.60</td>\n",
       "      <td>0.66</td>\n",
       "      <td>post</td>\n",
       "      <td>2012-11-05</td>\n",
       "      <td>111</td>\n",
       "      <td>0</td>\n",
       "      <td>1605</td>\n",
       "    </tr>\n",
       "    <tr>\n",
       "      <th>11139425</th>\n",
       "      <td>WYNN</td>\n",
       "      <td>2012-07-17</td>\n",
       "      <td>97.4500</td>\n",
       "      <td>98.2700</td>\n",
       "      <td>95.5801</td>\n",
       "      <td>97.3600</td>\n",
       "      <td>96.6684</td>\n",
       "      <td>2317100</td>\n",
       "      <td>96.4400</td>\n",
       "      <td>2089100.0</td>\n",
       "      <td>...</td>\n",
       "      <td>135.04</td>\n",
       "      <td>55</td>\n",
       "      <td>2012-07-17</td>\n",
       "      <td>1.48</td>\n",
       "      <td>1.38</td>\n",
       "      <td>post</td>\n",
       "      <td>2012-10-24</td>\n",
       "      <td>99</td>\n",
       "      <td>0</td>\n",
       "      <td>4548</td>\n",
       "    </tr>\n",
       "    <tr>\n",
       "      <th>11140712</th>\n",
       "      <td>C</td>\n",
       "      <td>2012-07-17</td>\n",
       "      <td>27.1300</td>\n",
       "      <td>27.4100</td>\n",
       "      <td>26.6100</td>\n",
       "      <td>27.3800</td>\n",
       "      <td>26.5970</td>\n",
       "      <td>39561100</td>\n",
       "      <td>26.8100</td>\n",
       "      <td>59427600.0</td>\n",
       "      <td>...</td>\n",
       "      <td>38.08</td>\n",
       "      <td>82</td>\n",
       "      <td>2012-07-16</td>\n",
       "      <td>0.88</td>\n",
       "      <td>0.95</td>\n",
       "      <td>pre</td>\n",
       "      <td>2012-10-15</td>\n",
       "      <td>90</td>\n",
       "      <td>1</td>\n",
       "      <td>718</td>\n",
       "    </tr>\n",
       "    <tr>\n",
       "      <th>...</th>\n",
       "      <td>...</td>\n",
       "      <td>...</td>\n",
       "      <td>...</td>\n",
       "      <td>...</td>\n",
       "      <td>...</td>\n",
       "      <td>...</td>\n",
       "      <td>...</td>\n",
       "      <td>...</td>\n",
       "      <td>...</td>\n",
       "      <td>...</td>\n",
       "      <td>...</td>\n",
       "      <td>...</td>\n",
       "      <td>...</td>\n",
       "      <td>...</td>\n",
       "      <td>...</td>\n",
       "      <td>...</td>\n",
       "      <td>...</td>\n",
       "      <td>...</td>\n",
       "      <td>...</td>\n",
       "      <td>...</td>\n",
       "      <td>...</td>\n",
       "    </tr>\n",
       "    <tr>\n",
       "      <th>23691461</th>\n",
       "      <td>ADXS</td>\n",
       "      <td>2021-06-10</td>\n",
       "      <td>0.5285</td>\n",
       "      <td>0.5477</td>\n",
       "      <td>0.5100</td>\n",
       "      <td>0.5244</td>\n",
       "      <td>0.5244</td>\n",
       "      <td>5190814</td>\n",
       "      <td>0.5233</td>\n",
       "      <td>10176718.0</td>\n",
       "      <td>...</td>\n",
       "      <td>1.41</td>\n",
       "      <td>79</td>\n",
       "      <td>2020-09-10</td>\n",
       "      <td>-0.15</td>\n",
       "      <td>-0.09</td>\n",
       "      <td>post</td>\n",
       "      <td>2021-06-14</td>\n",
       "      <td>4</td>\n",
       "      <td>273</td>\n",
       "      <td>81</td>\n",
       "    </tr>\n",
       "    <tr>\n",
       "      <th>23692035</th>\n",
       "      <td>RFIL</td>\n",
       "      <td>2021-06-10</td>\n",
       "      <td>8.0000</td>\n",
       "      <td>8.0000</td>\n",
       "      <td>7.9100</td>\n",
       "      <td>7.9600</td>\n",
       "      <td>7.9600</td>\n",
       "      <td>26264</td>\n",
       "      <td>7.9300</td>\n",
       "      <td>14128.0</td>\n",
       "      <td>...</td>\n",
       "      <td>7.98</td>\n",
       "      <td>5</td>\n",
       "      <td>2021-03-11</td>\n",
       "      <td>0.03</td>\n",
       "      <td>-0.03</td>\n",
       "      <td>pre</td>\n",
       "      <td>2021-06-14</td>\n",
       "      <td>4</td>\n",
       "      <td>91</td>\n",
       "      <td>3506</td>\n",
       "    </tr>\n",
       "    <tr>\n",
       "      <th>23693010</th>\n",
       "      <td>ADXS</td>\n",
       "      <td>2021-06-11</td>\n",
       "      <td>0.5173</td>\n",
       "      <td>0.5379</td>\n",
       "      <td>0.5060</td>\n",
       "      <td>0.5156</td>\n",
       "      <td>0.5156</td>\n",
       "      <td>4467153</td>\n",
       "      <td>0.5244</td>\n",
       "      <td>5190814.0</td>\n",
       "      <td>...</td>\n",
       "      <td>1.41</td>\n",
       "      <td>80</td>\n",
       "      <td>2020-09-10</td>\n",
       "      <td>-0.15</td>\n",
       "      <td>-0.09</td>\n",
       "      <td>post</td>\n",
       "      <td>2021-06-14</td>\n",
       "      <td>3</td>\n",
       "      <td>274</td>\n",
       "      <td>81</td>\n",
       "    </tr>\n",
       "    <tr>\n",
       "      <th>23693122</th>\n",
       "      <td>RFIL</td>\n",
       "      <td>2021-06-11</td>\n",
       "      <td>7.9700</td>\n",
       "      <td>8.0200</td>\n",
       "      <td>7.8000</td>\n",
       "      <td>7.8000</td>\n",
       "      <td>7.8000</td>\n",
       "      <td>78435</td>\n",
       "      <td>7.9600</td>\n",
       "      <td>26264.0</td>\n",
       "      <td>...</td>\n",
       "      <td>7.98</td>\n",
       "      <td>6</td>\n",
       "      <td>2021-03-11</td>\n",
       "      <td>0.03</td>\n",
       "      <td>-0.03</td>\n",
       "      <td>pre</td>\n",
       "      <td>2021-06-14</td>\n",
       "      <td>3</td>\n",
       "      <td>92</td>\n",
       "      <td>3506</td>\n",
       "    </tr>\n",
       "    <tr>\n",
       "      <th>23693715</th>\n",
       "      <td>CODA</td>\n",
       "      <td>2021-06-11</td>\n",
       "      <td>9.0737</td>\n",
       "      <td>9.4683</td>\n",
       "      <td>9.0000</td>\n",
       "      <td>9.1524</td>\n",
       "      <td>9.1524</td>\n",
       "      <td>27131</td>\n",
       "      <td>8.8200</td>\n",
       "      <td>7391.0</td>\n",
       "      <td>...</td>\n",
       "      <td>9.50</td>\n",
       "      <td>47</td>\n",
       "      <td>2021-03-17</td>\n",
       "      <td>0.03</td>\n",
       "      <td>0.10</td>\n",
       "      <td>post</td>\n",
       "      <td>2021-06-14</td>\n",
       "      <td>3</td>\n",
       "      <td>86</td>\n",
       "      <td>997</td>\n",
       "    </tr>\n",
       "  </tbody>\n",
       "</table>\n",
       "<p>7008540 rows × 38 columns</p>\n",
       "</div>"
      ],
      "text/plain": [
       "         ticker       date     open     high      low    close  \\\n",
       "11137135      C 2012-07-16  27.4500  27.5300  26.6200  26.8100   \n",
       "11138878    CSX 2012-07-17  22.7300  22.8600  22.2800  22.7900   \n",
       "11138900    FIS 2012-07-17  34.3200  34.5200  34.1300  34.2300   \n",
       "11139425   WYNN 2012-07-17  97.4500  98.2700  95.5801  97.3600   \n",
       "11140712      C 2012-07-17  27.1300  27.4100  26.6100  27.3800   \n",
       "...         ...        ...      ...      ...      ...      ...   \n",
       "23691461   ADXS 2021-06-10   0.5285   0.5477   0.5100   0.5244   \n",
       "23692035   RFIL 2021-06-10   8.0000   8.0000   7.9100   7.9600   \n",
       "23693010   ADXS 2021-06-11   0.5173   0.5379   0.5060   0.5156   \n",
       "23693122   RFIL 2021-06-11   7.9700   8.0200   7.8000   7.8000   \n",
       "23693715   CODA 2021-06-11   9.0737   9.4683   9.0000   9.1524   \n",
       "\n",
       "          close_adjusted    volume  price_1_days_ago  volume_1_days_ago  ...  \\\n",
       "11137135         26.0433  59427600           26.6500         48422100.0  ...   \n",
       "11138878         20.1997   7041400           22.5900          4914000.0  ...   \n",
       "11138900         31.2043   1177000           34.3000          1234200.0  ...   \n",
       "11139425         96.6684   2317100           96.4400          2089100.0  ...   \n",
       "11140712         26.5970  39561100           26.8100         59427600.0  ...   \n",
       "...                  ...       ...               ...                ...  ...   \n",
       "23691461          0.5244   5190814            0.5233         10176718.0  ...   \n",
       "23692035          7.9600     26264            7.9300            14128.0  ...   \n",
       "23693010          0.5156   4467153            0.5244          5190814.0  ...   \n",
       "23693122          7.8000     78435            7.9600            26264.0  ...   \n",
       "23693715          9.1524     27131            8.8200             7391.0  ...   \n",
       "\n",
       "          peak_price  peak_days_ago  earnings_date  eps_est   eps  \\\n",
       "11137135       38.08             81     2012-07-16     0.88  0.95   \n",
       "11138878       22.79              0     2012-07-17     0.47  0.49   \n",
       "11138900       34.80              9     2012-07-17     0.60  0.66   \n",
       "11139425      135.04             55     2012-07-17     1.48  1.38   \n",
       "11140712       38.08             82     2012-07-16     0.88  0.95   \n",
       "...              ...            ...            ...      ...   ...   \n",
       "23691461        1.41             79     2020-09-10    -0.15 -0.09   \n",
       "23692035        7.98              5     2021-03-11     0.03 -0.03   \n",
       "23693010        1.41             80     2020-09-10    -0.15 -0.09   \n",
       "23693122        7.98              6     2021-03-11     0.03 -0.03   \n",
       "23693715        9.50             47     2021-03-17     0.03  0.10   \n",
       "\n",
       "          release_time  earnings_date_next  days_till_report  \\\n",
       "11137135           pre          2012-10-15                91   \n",
       "11138878          post          2012-10-16                91   \n",
       "11138900          post          2012-11-05               111   \n",
       "11139425          post          2012-10-24                99   \n",
       "11140712           pre          2012-10-15                90   \n",
       "...                ...                 ...               ...   \n",
       "23691461          post          2021-06-14                 4   \n",
       "23692035           pre          2021-06-14                 4   \n",
       "23693010          post          2021-06-14                 3   \n",
       "23693122           pre          2021-06-14                 3   \n",
       "23693715          post          2021-06-14                 3   \n",
       "\n",
       "          days_since_report  ticker_encoded  \n",
       "11137135                  0             718  \n",
       "11138878                  0            1105  \n",
       "11138900                  0            1605  \n",
       "11139425                  0            4548  \n",
       "11140712                  1             718  \n",
       "...                     ...             ...  \n",
       "23691461                273              81  \n",
       "23692035                 91            3506  \n",
       "23693010                274              81  \n",
       "23693122                 92            3506  \n",
       "23693715                 86             997  \n",
       "\n",
       "[7008540 rows x 38 columns]"
      ]
     },
     "execution_count": 8,
     "metadata": {},
     "output_type": "execute_result"
    }
   ],
   "source": [
    "stock_data_tidy"
   ]
  },
  {
   "cell_type": "markdown",
   "metadata": {},
   "source": [
    "We can see the features it has - ticker, prices and volumes for each day, latest earnings, days since and till next report and also the peak price.\n",
    "\n",
    "The earnings have been added to the actual data, but with a different frequence and this is the reason why, the columns days_till_report and days_since_report are introduces. Every single row has the latest earnings. For example if the earnings are 5 days ago, we fill those. If the earnings happened today we fill them. If they happened 70 days ago, we fill them with the latest ones. Having the days to and since the next report will help our model understand this."
   ]
  },
  {
   "cell_type": "code",
   "execution_count": 9,
   "metadata": {},
   "outputs": [
    {
     "data": {
      "text/html": [
       "<div>\n",
       "<style scoped>\n",
       "    .dataframe tbody tr th:only-of-type {\n",
       "        vertical-align: middle;\n",
       "    }\n",
       "\n",
       "    .dataframe tbody tr th {\n",
       "        vertical-align: top;\n",
       "    }\n",
       "\n",
       "    .dataframe thead th {\n",
       "        text-align: right;\n",
       "    }\n",
       "</style>\n",
       "<table border=\"1\" class=\"dataframe\">\n",
       "  <thead>\n",
       "    <tr style=\"text-align: right;\">\n",
       "      <th></th>\n",
       "      <th>ticker</th>\n",
       "      <th>date</th>\n",
       "      <th>earnings_date</th>\n",
       "      <th>earnings_date_next</th>\n",
       "      <th>days_till_report</th>\n",
       "      <th>days_since_report</th>\n",
       "    </tr>\n",
       "  </thead>\n",
       "  <tbody>\n",
       "    <tr>\n",
       "      <th>11137135</th>\n",
       "      <td>C</td>\n",
       "      <td>2012-07-16</td>\n",
       "      <td>2012-07-16</td>\n",
       "      <td>2012-10-15</td>\n",
       "      <td>91</td>\n",
       "      <td>0</td>\n",
       "    </tr>\n",
       "    <tr>\n",
       "      <th>11138878</th>\n",
       "      <td>CSX</td>\n",
       "      <td>2012-07-17</td>\n",
       "      <td>2012-07-17</td>\n",
       "      <td>2012-10-16</td>\n",
       "      <td>91</td>\n",
       "      <td>0</td>\n",
       "    </tr>\n",
       "    <tr>\n",
       "      <th>11138900</th>\n",
       "      <td>FIS</td>\n",
       "      <td>2012-07-17</td>\n",
       "      <td>2012-07-17</td>\n",
       "      <td>2012-11-05</td>\n",
       "      <td>111</td>\n",
       "      <td>0</td>\n",
       "    </tr>\n",
       "    <tr>\n",
       "      <th>11139425</th>\n",
       "      <td>WYNN</td>\n",
       "      <td>2012-07-17</td>\n",
       "      <td>2012-07-17</td>\n",
       "      <td>2012-10-24</td>\n",
       "      <td>99</td>\n",
       "      <td>0</td>\n",
       "    </tr>\n",
       "    <tr>\n",
       "      <th>11140712</th>\n",
       "      <td>C</td>\n",
       "      <td>2012-07-17</td>\n",
       "      <td>2012-07-16</td>\n",
       "      <td>2012-10-15</td>\n",
       "      <td>90</td>\n",
       "      <td>1</td>\n",
       "    </tr>\n",
       "    <tr>\n",
       "      <th>...</th>\n",
       "      <td>...</td>\n",
       "      <td>...</td>\n",
       "      <td>...</td>\n",
       "      <td>...</td>\n",
       "      <td>...</td>\n",
       "      <td>...</td>\n",
       "    </tr>\n",
       "    <tr>\n",
       "      <th>23691461</th>\n",
       "      <td>ADXS</td>\n",
       "      <td>2021-06-10</td>\n",
       "      <td>2020-09-10</td>\n",
       "      <td>2021-06-14</td>\n",
       "      <td>4</td>\n",
       "      <td>273</td>\n",
       "    </tr>\n",
       "    <tr>\n",
       "      <th>23692035</th>\n",
       "      <td>RFIL</td>\n",
       "      <td>2021-06-10</td>\n",
       "      <td>2021-03-11</td>\n",
       "      <td>2021-06-14</td>\n",
       "      <td>4</td>\n",
       "      <td>91</td>\n",
       "    </tr>\n",
       "    <tr>\n",
       "      <th>23693010</th>\n",
       "      <td>ADXS</td>\n",
       "      <td>2021-06-11</td>\n",
       "      <td>2020-09-10</td>\n",
       "      <td>2021-06-14</td>\n",
       "      <td>3</td>\n",
       "      <td>274</td>\n",
       "    </tr>\n",
       "    <tr>\n",
       "      <th>23693122</th>\n",
       "      <td>RFIL</td>\n",
       "      <td>2021-06-11</td>\n",
       "      <td>2021-03-11</td>\n",
       "      <td>2021-06-14</td>\n",
       "      <td>3</td>\n",
       "      <td>92</td>\n",
       "    </tr>\n",
       "    <tr>\n",
       "      <th>23693715</th>\n",
       "      <td>CODA</td>\n",
       "      <td>2021-06-11</td>\n",
       "      <td>2021-03-17</td>\n",
       "      <td>2021-06-14</td>\n",
       "      <td>3</td>\n",
       "      <td>86</td>\n",
       "    </tr>\n",
       "  </tbody>\n",
       "</table>\n",
       "<p>7008540 rows × 6 columns</p>\n",
       "</div>"
      ],
      "text/plain": [
       "         ticker       date earnings_date earnings_date_next  days_till_report  \\\n",
       "11137135      C 2012-07-16    2012-07-16         2012-10-15                91   \n",
       "11138878    CSX 2012-07-17    2012-07-17         2012-10-16                91   \n",
       "11138900    FIS 2012-07-17    2012-07-17         2012-11-05               111   \n",
       "11139425   WYNN 2012-07-17    2012-07-17         2012-10-24                99   \n",
       "11140712      C 2012-07-17    2012-07-16         2012-10-15                90   \n",
       "...         ...        ...           ...                ...               ...   \n",
       "23691461   ADXS 2021-06-10    2020-09-10         2021-06-14                 4   \n",
       "23692035   RFIL 2021-06-10    2021-03-11         2021-06-14                 4   \n",
       "23693010   ADXS 2021-06-11    2020-09-10         2021-06-14                 3   \n",
       "23693122   RFIL 2021-06-11    2021-03-11         2021-06-14                 3   \n",
       "23693715   CODA 2021-06-11    2021-03-17         2021-06-14                 3   \n",
       "\n",
       "          days_since_report  \n",
       "11137135                  0  \n",
       "11138878                  0  \n",
       "11138900                  0  \n",
       "11139425                  0  \n",
       "11140712                  1  \n",
       "...                     ...  \n",
       "23691461                273  \n",
       "23692035                 91  \n",
       "23693010                274  \n",
       "23693122                 92  \n",
       "23693715                 86  \n",
       "\n",
       "[7008540 rows x 6 columns]"
      ]
     },
     "execution_count": 9,
     "metadata": {},
     "output_type": "execute_result"
    }
   ],
   "source": [
    "stock_data_tidy[['ticker','date', 'earnings_date', 'earnings_date_next', 'days_till_report', 'days_since_report']]"
   ]
  },
  {
   "cell_type": "markdown",
   "metadata": {},
   "source": [
    "We remove data with more than 120 days on both next and previous report, since that is useless data for our case. We want the model to be able to predict data, when it has enough information about it.\n",
    "\n",
    "We also remove some columns, that are not used in the trainings:\n",
    "\n",
    "open, high, low, close_adjusted and volume - those are features, that are about our current day, that we want to predict. For the previous days for the most part, we shouldn't care, what those are, since we are gonna have the close price."
   ]
  },
  {
   "cell_type": "code",
   "execution_count": 10,
   "metadata": {},
   "outputs": [],
   "source": [
    "stock_data_tidy = stock_data_tidy.drop(stock_data_tidy[(stock_data_tidy.days_till_report > 120) & (stock_data_tidy.days_since_report > 120)].index)\n",
    "# Remove useless columns\n",
    "stock_data_tidy = stock_data_tidy.drop(columns=['open', 'high', 'low', 'close_adjusted', 'volume'])"
   ]
  },
  {
   "cell_type": "code",
   "execution_count": 11,
   "metadata": {},
   "outputs": [
    {
     "data": {
      "text/plain": [
       "6713717"
      ]
     },
     "execution_count": 11,
     "metadata": {},
     "output_type": "execute_result"
    }
   ],
   "source": [
    "stock_data_tidy.shape[0]"
   ]
  },
  {
   "cell_type": "code",
   "execution_count": 12,
   "metadata": {},
   "outputs": [
    {
     "data": {
      "text/plain": [
       "4640"
      ]
     },
     "execution_count": 12,
     "metadata": {},
     "output_type": "execute_result"
    }
   ],
   "source": [
    "stock_data_tidy.ticker.unique().shape[0]"
   ]
  },
  {
   "cell_type": "markdown",
   "metadata": {},
   "source": [
    "We can see, that we have 6.7 million rows of data with 4640 different stocks being tracked. That should be pretty much enough data for our task."
   ]
  },
  {
   "cell_type": "markdown",
   "metadata": {},
   "source": [
    "## 3. Model Training"
   ]
  },
  {
   "cell_type": "markdown",
   "metadata": {},
   "source": [
    "Now that, the data is prepared and tidied, we can continue with the model training. Let's first define some variables and methods."
   ]
  },
  {
   "cell_type": "code",
   "execution_count": 13,
   "metadata": {},
   "outputs": [],
   "source": [
    "features = [\n",
    "    'ticker_encoded', 'peak_price', 'peak_days_ago', 'price_1_days_ago', 'volume_1_days_ago',\n",
    "    'price_2_days_ago', 'volume_2_days_ago', 'price_3_days_ago', 'volume_3_days_ago',\n",
    "    'price_4_days_ago', 'volume_4_days_ago', 'price_5_days_ago', 'volume_5_days_ago',\n",
    "    'price_10_days_ago', 'volume_10_days_ago', 'price_15_days_ago', 'volume_15_days_ago',\n",
    "    'price_30_days_ago', 'volume_30_days_ago', 'price_60_days_ago', 'volume_60_days_ago',\n",
    "    'price_90_days_ago', 'volume_90_days_ago', 'eps_est', 'eps', 'days_till_report', 'days_since_report'\n",
    "]\n",
    "\n",
    "target = 'close'"
   ]
  },
  {
   "cell_type": "markdown",
   "metadata": {},
   "source": [
    "Those are all the features we will use througout the different models. Our target will obviously be the close price."
   ]
  },
  {
   "cell_type": "code",
   "execution_count": 14,
   "metadata": {},
   "outputs": [],
   "source": [
    "@dataclass\n",
    "class PreparedData:\n",
    "    X_train: any\n",
    "    X_test: any\n",
    "    y_train: any\n",
    "    y_test: any\n",
    "    scaler_X: any = None\n",
    "    scaler_y: any = None\n",
    "\n",
    "# Function to prepare the data for model training and evaluation\n",
    "# This function scales features and target, and splits the dataset into training, testing, and final test sets\n",
    "def prepare_data(data, features, target, scale_output, frac=0.05):\n",
    "    stock_data_tidy_train = data.sample(frac=frac, random_state=42)\n",
    "    \n",
    "    X = stock_data_tidy_train[features]\n",
    "    y = stock_data_tidy_train[target]\n",
    "\n",
    "    scaler_X = StandardScaler()\n",
    "    X = scaler_X.fit_transform(X)\n",
    "    \n",
    "    if scale_output:    \n",
    "        scaler_y = StandardScaler()\n",
    "        y = scaler_y.fit_transform(y.values.reshape(-1, 1)).ravel()\n",
    "    else:\n",
    "        scaler_X, scaler_y = None, None\n",
    "    \n",
    "    X_train, X_test, y_train, y_test = train_test_split(X, y, test_size=0.2, random_state=42)\n",
    "    \n",
    "    return PreparedData(\n",
    "        X_train=X_train,\n",
    "        X_test=X_test,\n",
    "        y_train=y_train,\n",
    "        y_test=y_test,\n",
    "        scaler_X=scaler_X,\n",
    "        scaler_y=scaler_y\n",
    "    )"
   ]
  },
  {
   "cell_type": "markdown",
   "metadata": {},
   "source": [
    "We will use the \"prepare_data\" function to prepare the data for the training. It does all the work - scales the data where necessary and splits it into train, test and final test sets. The final test set is kept completely separate from the training data, to provide an unbiased evaluation of the model's performance on new, unseen data. This is particularly important for stock data, where overfitting is a risk due to the complexity and volatility of financial markets.\n",
    "\n",
    "Also let's initialize all the pickle paths we will use for the different models."
   ]
  },
  {
   "cell_type": "code",
   "execution_count": 182,
   "metadata": {},
   "outputs": [],
   "source": [
    "forest_grid_search_path = './pickles/forest_grid_search.pkl'\n",
    "svr_grid_search_path = './pickles/svr_grid_search.pkl'\n",
    "linear_svr_grid_search_path = './pickles/libear_svr_grid_search.pkl'\n",
    "knn_grid_search_path = './pickles/knn_grid_search.pkl'\n",
    "\n",
    "svr_model_path = './pickles/svr_model.pkl'\n",
    "forest_model_path = './pickles/forest_model.pkl'\n",
    "\n",
    "forest_mse_plots_path = './pickles/forest_mse_plots.pkl'\n",
    "checkpoint_file = \"./pickles/random_forest_checkpoint.pkl\"\n",
    "chunk_index_file = \"./pickles/random_forest_chunk_index.pkl\"\n",
    "knn_y_pred_file = './pickles/y_pred_knn.pkl'"
   ]
  },
  {
   "cell_type": "markdown",
   "metadata": {},
   "source": [
    "And finally we need a method for model evalutation:a"
   ]
  },
  {
   "cell_type": "code",
   "execution_count": 133,
   "metadata": {},
   "outputs": [],
   "source": [
    "def evaluate_model(model, X_test, y_test):\n",
    "    \"\"\"\n",
    "    Evaluates a given model using test data and calculates key metrics.\n",
    "\n",
    "    Parameters:\n",
    "        model: The trained model to evaluate.\n",
    "        X_test: Test features.\n",
    "        y_test: Test target values.\n",
    "\n",
    "    Returns:\n",
    "        A dictionary containing the calculated metrics.\n",
    "    \"\"\"\n",
    "    y_pred = model.predict(X_test)\n",
    "\n",
    "    # Calculate metrics\n",
    "    mse = mean_squared_error(y_test, y_pred)\n",
    "    rmse = np.sqrt(mse)\n",
    "    mae = mean_absolute_error(y_test, y_pred)\n",
    "    r2 = r2_score(y_test, y_pred)\n",
    "\n",
    "    # Log metrics\n",
    "    print(f\"Evaluation Metrics:\")\n",
    "    print(f\"Mean Absolute Error (MAE): {mae}\")\n",
    "    print(f\"Mean Squared Error (MSE): {mse}\")\n",
    "    print(f\"Root Mean Squared Error (RMSE): {rmse}\")\n",
    "    print(f\"R² Score: {r2}\")"
   ]
  },
  {
   "cell_type": "markdown",
   "metadata": {},
   "source": [
    "### 3.1. Random Forest Regressor"
   ]
  },
  {
   "cell_type": "markdown",
   "metadata": {},
   "source": [
    "Let's begin with the GridSearch, in order to get the best hyperparams.\n",
    "\n",
    "We get 1% of the data, in order to do the calculations for it. It is around 53k rows of data, which should be pretty much enough for our case. Having more would be better, but the time it takes grows very much."
   ]
  },
  {
   "cell_type": "code",
   "execution_count": 81,
   "metadata": {},
   "outputs": [],
   "source": [
    "forest_grid_search_data = prepare_data(stock_data_tidy, features, target, False, 0.01)"
   ]
  },
  {
   "cell_type": "code",
   "execution_count": 18,
   "metadata": {},
   "outputs": [],
   "source": [
    "def getGridSearch():\n",
    "    if os.path.exists(forest_grid_search_path):\n",
    "        return pd.read_pickle(forest_grid_search_path)\n",
    "\n",
    "    param_grid = {\n",
    "        'n_estimators': [1, 50, 100, 200, 300],\n",
    "        'max_depth': [5, 10, 20, 40],\n",
    "        'min_samples_split': [2, 5, 10],\n",
    "        'min_samples_leaf': [1, 2, 4]\n",
    "    }\n",
    "\n",
    "    forest_grid_search = GridSearchCV(RandomForestRegressor(random_state=42), param_grid, n_jobs=-1)\n",
    "    forest_grid_search.fit(forest_grid_search_data.X_train, forest_grid_search_data.y_train)\n",
    "\n",
    "    best_params = forest_grid_search.best_params_\n",
    "    print(f\"Best Parameters: {best_params}\")\n",
    "\n",
    "    with open(forest_grid_search_path, 'wb') as model_file:\n",
    "        pickle.dump(forest_grid_search, model_file)\n",
    "\n",
    "    return forest_grid_search"
   ]
  },
  {
   "cell_type": "code",
   "execution_count": 19,
   "metadata": {},
   "outputs": [],
   "source": [
    "forest_grid_search = getGridSearch()"
   ]
  },
  {
   "cell_type": "code",
   "execution_count": 20,
   "metadata": {},
   "outputs": [
    {
     "data": {
      "image/png": "[encoded data removed]",
      "text/plain": [
       "<Figure size 1500x1200 with 4 Axes>"
      ]
     },
     "metadata": {},
     "output_type": "display_data"
    }
   ],
   "source": [
    "params = ['param_n_estimators', 'param_max_depth', 'param_min_samples_split', 'param_min_samples_leaf']\n",
    "cv_results = pd.DataFrame(forest_grid_search.cv_results_)\n",
    "\n",
    "fig, axs = plt.subplots(2, 2, figsize=(15, 12))\n",
    "\n",
    "axs = axs.flatten()\n",
    "\n",
    "for i, param in enumerate(params):\n",
    "    mean_test_scores = cv_results.groupby(param)['mean_test_score'].mean()\n",
    "    std_test_scores = cv_results.groupby(param)['mean_test_score'].std()\n",
    "    \n",
    "    # Plotting the mean test score with error bars representing the standard deviation\n",
    "    axs[i].errorbar(mean_test_scores.index, mean_test_scores, yerr=std_test_scores, fmt='o-', capsize=5, capthick=1)\n",
    "    axs[i].set_xlabel(param)\n",
    "    axs[i].set_ylabel('Mean Test Score (Higher is Better)')\n",
    "    axs[i].set_title(f'Mean Test Score vs {param}')\n",
    "    axs[i].grid(True)\n",
    "\n",
    "# Adjust layout to avoid overlap\n",
    "plt.tight_layout()\n",
    "plt.show()\n"
   ]
  },
  {
   "cell_type": "code",
   "execution_count": 21,
   "metadata": {},
   "outputs": [
    {
     "data": {
      "text/plain": [
       "{'max_depth': 40,\n",
       " 'min_samples_leaf': 1,\n",
       " 'min_samples_split': 2,\n",
       " 'n_estimators': 50}"
      ]
     },
     "execution_count": 21,
     "metadata": {},
     "output_type": "execute_result"
    }
   ],
   "source": [
    "forest_grid_search.best_params_"
   ]
  },
  {
   "cell_type": "markdown",
   "metadata": {},
   "source": [
    "Now that we have all the data visualized, we can choose our hyperparams correctly.\n",
    "\n",
    "The ones from the GridSearch are:\n",
    "\n",
    "{'max_depth': 40,\n",
    " 'min_samples_leaf': 1,\n",
    " 'min_samples_split': 2,\n",
    " 'n_estimators': 50}\n",
    "\n",
    "Max depth specifies the maximum depth of each tree in the forest. Usually the deeper it is, the higher risk there is for overfitting. On the other side shallower trees might underfit. In our case, we can see, that the max depth doesn't change much the accuracy of our model. The grid search suggests, that we use 40, so we will keep to that, as we cannot see much of a difference.\n",
    "\n",
    "Min sample leaf defines the minimum number of samples required in a leaf node. When the value is 1, the model might overfit, so we will monitor for overfitting and if we get results close to 100, then we should increase this value. We can see from the charts above, that 1 is by far the best value for our data, the accuracy of the rest is falling significantly.\n",
    "\n",
    "Min sample splits is the number of samples to split a node. Generally low values tend to overfit the model, but 2 is a good value to start with and see, what the accuracy will be. 2 is also the default setting for the random forest regressor, so using it is usually the go to value and since we can obviously see from the charts, that it is much better than higher values, we will go with it and monitor the model for overfitting.\n",
    "\n",
    "N estimators is the number of trees in the forest. More trees improve model stability and performance, but increase computation cost. We will begin with 50, since this is the suggestion from the grid search. Our way of fitting the model is by incrementally fitting the data, since the dataset is huge and fitting it all at once will be very slow and 50 is the go-to value for only 1% of the data. When incrementally fitting the model, we will add 10 estimators for each chunk of 10 000."
   ]
  },
  {
   "cell_type": "markdown",
   "metadata": {},
   "source": [
    "Now let's create the data, to which we will train our model. We want to use all the 6.7 mil rows, so we prepare the data that way."
   ]
  },
  {
   "cell_type": "code",
   "execution_count": 129,
   "metadata": {},
   "outputs": [],
   "source": [
    "forest_model_data = prepare_data(stock_data_tidy, features, target, False, 1)"
   ]
  },
  {
   "cell_type": "markdown",
   "metadata": {},
   "source": [
    "Then we fit the data, using the best hyperparams we figured out. Again this is gonna be a slow process, so we use a pickle for it.\n",
    "\n",
    "I tried fitting the model locally and it took 2 hours and got nowhere, so I managed to fit it using google colab's processing units in under 1 hour."
   ]
  },
  {
   "cell_type": "markdown",
   "metadata": {},
   "source": [
    "We incrementally fit the model using the warm_start option. Our chunks are 10 000 each and we add 10 estimators per chunk, which should be good enough value for such added data. Later we will experiment with 10 000 chunk size and adding 50 estimators each time, which will get much slower fitting time.\n",
    "\n",
    "At first we check, if we have already have a checkpoint or fitted the model itself. If we already have a pickle of the model, then we just load it and don't do the whole fitting part. Otherwise we load the checkpoint and continue from it."
   ]
  },
  {
   "cell_type": "code",
   "execution_count": 83,
   "metadata": {},
   "outputs": [
    {
     "name": "stdout",
     "output_type": "stream",
     "text": [
      "Loaded model from pickle.\n"
     ]
    }
   ],
   "source": [
    "chunk_size = 10000\n",
    "save_interval = 10\n",
    "\n",
    "# Load or initialize model\n",
    "if os.path.exists(forest_model_path):\n",
    "    with open(forest_model_path, 'rb') as f:\n",
    "        forest_model = pickle.load(f)\n",
    "        print(\"Loaded model from pickle.\")\n",
    "else:\n",
    "    if os.path.exists(checkpoint_file):\n",
    "        with open(checkpoint_file, 'rb') as f:\n",
    "            forest_model = pickle.load(f)\n",
    "        print(\"Loaded model from checkpoint.\")\n",
    "        with open(chunk_index_file, 'rb') as f:\n",
    "            start_chunk = pickle.load(f)\n",
    "        print(f\"Loaded model from checkpoint. Resuming from chunk {start_chunk}.\")\n",
    "    else:\n",
    "        forest_model = RandomForestRegressor(\n",
    "            max_depth=40,\n",
    "            min_samples_leaf=1,\n",
    "            min_samples_split=2,\n",
    "            n_estimators=50,\n",
    "            warm_start=True,\n",
    "            random_state=42)\n",
    "        start_chunk = 0\n",
    "        \n",
    "    for i, chunk_start in enumerate(range(start_chunk * chunk_size, len(forest_model_data.X_train), chunk_size), start=start_chunk):\n",
    "        print(f\"Fitting {i} chunk, {len(forest_model_data.X_train) - (chunk_start + chunk_size)} rows left\")\n",
    "        X_chunk = forest_model_data.X_train[chunk_start:chunk_start + chunk_size]\n",
    "        y_chunk = forest_model_data.y_train[chunk_start:chunk_start + chunk_size]\n",
    "\n",
    "        if i > 0:\n",
    "            forest_model.n_estimators += 10 \n",
    "        forest_model.fit(X_chunk, y_chunk)\n",
    "\n",
    "        if (i + 1) % save_interval == 0 or (chunk_start + chunk_size) >= len(forest_model_data.X_train):\n",
    "            with open(checkpoint_file, 'wb') as f:\n",
    "                pickle.dump(forest_model, f)\n",
    "            with open(chunk_index_file, 'wb') as f:\n",
    "                pickle.dump(i + 1, f)\n",
    "            print(f\"Saved model checkpoint at iteration {i + 1}\")\n",
    "\n",
    "    with open(forest_model_path, 'wb') as f:\n",
    "        pickle.dump(forest_model, f)\n",
    "    print(\"Training complete. Final model saved.\")"
   ]
  },
  {
   "cell_type": "code",
   "execution_count": 19,
   "metadata": {},
   "outputs": [
    {
     "data": {
      "image/png": "[encoded data removed]",
      "text/plain": [
       "<Figure size 640x480 with 1 Axes>"
      ]
     },
     "metadata": {},
     "output_type": "display_data"
    }
   ],
   "source": [
    "std = np.std([tree.feature_importances_ for tree in forest_model.estimators_], axis=0)\n",
    "\n",
    "importances = forest_model.feature_importances_\n",
    "feature_names = [f\"feature {i}\" for i in features]\n",
    "forest_importances = pd.Series(importances, index=features)\n",
    "fig, ax = plt.subplots()\n",
    "forest_importances.plot.bar(yerr=std, ax=ax)\n",
    "ax.set_title(\"Feature importances using MDI\")\n",
    "ax.set_ylabel(\"Mean decrease in impurity\")\n",
    "fig.tight_layout()"
   ]
  },
  {
   "cell_type": "markdown",
   "metadata": {},
   "source": [
    "After completing the training, we can view the importance of the features. Some of them are highly biased, while others not so much. We can see, that the volume does not really matter in predicting the stock price. Also the financial data is a bit influencial, but more or less useless. The most important data is about the peak price and the prices beforehand."
   ]
  },
  {
   "cell_type": "code",
   "execution_count": 48,
   "metadata": {},
   "outputs": [
    {
     "name": "stdout",
     "output_type": "stream",
     "text": [
      "Random Forest Evaluation Metrics:\n",
      "Mean Absolute Error (MAE): 11.032912854799893\n",
      "Mean Squared Error (MSE): 781377.2959258734\n",
      "Root Mean Squared Error (RMSE): 883.9554830000623\n",
      "R² Score: 0.883348040671538\n"
     ]
    }
   ],
   "source": [
    "evaluate_model(forest_model, forest_model_data.X_test, forest_model_data.y_test)"
   ]
  },
  {
   "cell_type": "markdown",
   "metadata": {},
   "source": [
    "Based on the evaluation of the model, there seems to be room for improvement, although the model seems to be good. The MAE and MSE show, that when given larger values, the model does very poor, since the average error is high. That may be due to the fact, that the dataset has a lot more small values, than big ones. Let's try removing from the test set all the values with close > 100 and examine the results."
   ]
  },
  {
   "cell_type": "code",
   "execution_count": 130,
   "metadata": {},
   "outputs": [],
   "source": [
    "indices_to_remove = np.where(forest_model_data.y_test > 100)[0]\n",
    "\n",
    "forest_model_data.X_test = np.delete(forest_model_data.X_test, indices_to_remove, axis=0)\n",
    "forest_model_data.y_test = np.delete(forest_model_data.y_test, indices_to_remove, axis=0)"
   ]
  },
  {
   "cell_type": "code",
   "execution_count": 117,
   "metadata": {},
   "outputs": [
    {
     "name": "stdout",
     "output_type": "stream",
     "text": [
      "Evaluation Metrics:\n",
      "Mean Absolute Error (MAE): 0.43394283488460966\n",
      "Mean Squared Error (MSE): 1.3863263051116965\n",
      "Root Mean Squared Error (RMSE): 1.1774235878016444\n",
      "R² Score: 0.9975748397225477\n"
     ]
    },
    {
     "data": {
      "text/plain": [
       "{'MAE': np.float64(0.43394283488460966),\n",
       " 'MSE': np.float64(1.3863263051116965),\n",
       " 'RMSE': np.float64(1.1774235878016444),\n",
       " 'R2': 0.9975748397225477}"
      ]
     },
     "execution_count": 117,
     "metadata": {},
     "output_type": "execute_result"
    }
   ],
   "source": [
    "evaluate_model(forest_model, forest_model_data.X_test, forest_model_data.y_test)"
   ]
  },
  {
   "cell_type": "markdown",
   "metadata": {},
   "source": [
    "Seems like in lower values the model is actually good and predicts close to the actual values. There are some concerns of overfitting though, since the R squared is very close to 1. So I would assume the model overfitted the smaller data, but when it tries to predict larger ones, it still does pretty good."
   ]
  },
  {
   "cell_type": "markdown",
   "metadata": {},
   "source": [
    "## 3.2. Linear Regression"
   ]
  },
  {
   "cell_type": "markdown",
   "metadata": {},
   "source": [
    "The second model we will look into is linear regression. Here we don't need any hyperparam tuning, so we just prepare the data for the model and perform the machine learning.\n",
    "\n",
    "The fitting of this algorithm is very fast, takes just 5 seconds."
   ]
  },
  {
   "cell_type": "code",
   "execution_count": 152,
   "metadata": {},
   "outputs": [],
   "source": [
    "def plot_feature_coefficients(linear_model):\n",
    "    \"\"\"\n",
    "    Plots the feature coefficients of a Linear regression model.\n",
    "    \n",
    "    Parameters:\n",
    "    ridge_model: Trained Linear regression model.\n",
    "    \"\"\"\n",
    "    coefficients = pd.Series(linear_model.coef_, index=features).sort_values(ascending=False)\n",
    "\n",
    "    plt.figure(figsize=(10, 6))\n",
    "    coefficients.plot(kind='bar')\n",
    "    plt.title('Feature Coefficients')\n",
    "    plt.ylabel('Coefficient Value')\n",
    "    plt.xlabel('Feature')\n",
    "    plt.tight_layout()\n",
    "    plt.show()\n"
   ]
  },
  {
   "cell_type": "code",
   "execution_count": 70,
   "metadata": {},
   "outputs": [],
   "source": [
    "linear_regression_data = prepare_data(stock_data_tidy, features, target, False, 1)"
   ]
  },
  {
   "cell_type": "code",
   "execution_count": 154,
   "metadata": {},
   "outputs": [
    {
     "name": "stdout",
     "output_type": "stream",
     "text": [
      "Training Score: 0.9999208876303298\n",
      "Mean Squared Error: 529.9234564341557\n"
     ]
    },
    {
     "data": {
      "image/png": "[encoded data removed]",
      "text/plain": [
       "<Figure size 1000x600 with 1 Axes>"
      ]
     },
     "metadata": {},
     "output_type": "display_data"
    }
   ],
   "source": [
    "linear_model = LinearRegression()\n",
    "linear_model.fit(linear_regression_data.X_train, linear_regression_data.y_train)\n",
    "\n",
    "# Score the model on the training data\n",
    "train_score = linear_model.score(linear_regression_data.X_test, linear_regression_data.y_test)\n",
    "print(f\"Training Score: {train_score}\")\n",
    "\n",
    "# Make predictions on the test set\n",
    "y_pred = linear_model.predict(linear_regression_data.X_test)\n",
    "\n",
    "# Calculate and print the mean squared error\n",
    "mse = np.mean((linear_regression_data.y_test - y_pred) ** 2)\n",
    "print(f\"Mean Squared Error: {mse}\")\n",
    "\n",
    "plot_feature_coefficients(linear_model)"
   ]
  },
  {
   "cell_type": "markdown",
   "metadata": {},
   "source": [
    "We can see, that the linear regressions is highly influenced by the price 1 days ago, which is a very close value to the current day close price. They are almost correlated most of the times, since the prices fluxuate only a couple percent per day."
   ]
  },
  {
   "cell_type": "code",
   "execution_count": 155,
   "metadata": {},
   "outputs": [
    {
     "name": "stdout",
     "output_type": "stream",
     "text": [
      "Evaluation Metrics:\n",
      "Mean Absolute Error (MAE): 0.9076869690464401\n",
      "Mean Squared Error (MSE): 529.9234564341557\n",
      "Root Mean Squared Error (RMSE): 23.020066386397666\n",
      "R² Score: 0.9999208876303298\n"
     ]
    }
   ],
   "source": [
    "evaluate_model(linear_model, linear_regression_data.X_test, linear_regression_data.y_test)"
   ]
  },
  {
   "cell_type": "markdown",
   "metadata": {},
   "source": [
    "The model also seems to overfit the data, let's maybe try to use Ridge regression, since it adds regularization and corrects for overfitting. It adds one more term to the linear regression's cost function, which shrinks the weights of the model to zero or close to zero, in order to make sure the model does not overfit the data."
   ]
  },
  {
   "cell_type": "markdown",
   "metadata": {},
   "source": [
    "Let's find the best alpha parameter for the best ridge regression."
   ]
  },
  {
   "cell_type": "code",
   "execution_count": 156,
   "metadata": {},
   "outputs": [
    {
     "name": "stdout",
     "output_type": "stream",
     "text": [
      "Best alpha: 1\n"
     ]
    }
   ],
   "source": [
    "ridge = Ridge()\n",
    "parameters = {'alpha': [0.0001, 0.001, 0.01, 0.1, 1, 10, 100, 1000, 10000]}\n",
    "ridge_cv = GridSearchCV(ridge, parameters, cv=5, scoring='neg_mean_squared_error')\n",
    "ridge_cv.fit(linear_regression_data.X_train, linear_regression_data.y_train)\n",
    "\n",
    "print(f\"Best alpha: {ridge_cv.best_params_['alpha']}\")"
   ]
  },
  {
   "cell_type": "code",
   "execution_count": 157,
   "metadata": {},
   "outputs": [
    {
     "data": {
      "text/html": [
       "<style>#sk-container-id-9 {\n",
       "  /* Definition of color scheme common for light and dark mode */\n",
       "  --sklearn-color-text: black;\n",
       "  --sklearn-color-line: gray;\n",
       "  /* Definition of color scheme for unfitted estimators */\n",
       "  --sklearn-color-unfitted-level-0: #fff5e6;\n",
       "  --sklearn-color-unfitted-level-1: #f6e4d2;\n",
       "  --sklearn-color-unfitted-level-2: #ffe0b3;\n",
       "  --sklearn-color-unfitted-level-3: chocolate;\n",
       "  /* Definition of color scheme for fitted estimators */\n",
       "  --sklearn-color-fitted-level-0: #f0f8ff;\n",
       "  --sklearn-color-fitted-level-1: #d4ebff;\n",
       "  --sklearn-color-fitted-level-2: #b3dbfd;\n",
       "  --sklearn-color-fitted-level-3: cornflowerblue;\n",
       "\n",
       "  /* Specific color for light theme */\n",
       "  --sklearn-color-text-on-default-background: var(--sg-text-color, var(--theme-code-foreground, var(--jp-content-font-color1, black)));\n",
       "  --sklearn-color-background: var(--sg-background-color, var(--theme-background, var(--jp-layout-color0, white)));\n",
       "  --sklearn-color-border-box: var(--sg-text-color, var(--theme-code-foreground, var(--jp-content-font-color1, black)));\n",
       "  --sklearn-color-icon: #696969;\n",
       "\n",
       "  @media (prefers-color-scheme: dark) {\n",
       "    /* Redefinition of color scheme for dark theme */\n",
       "    --sklearn-color-text-on-default-background: var(--sg-text-color, var(--theme-code-foreground, var(--jp-content-font-color1, white)));\n",
       "    --sklearn-color-background: var(--sg-background-color, var(--theme-background, var(--jp-layout-color0, #111)));\n",
       "    --sklearn-color-border-box: var(--sg-text-color, var(--theme-code-foreground, var(--jp-content-font-color1, white)));\n",
       "    --sklearn-color-icon: #878787;\n",
       "  }\n",
       "}\n",
       "\n",
       "#sk-container-id-9 {\n",
       "  color: var(--sklearn-color-text);\n",
       "}\n",
       "\n",
       "#sk-container-id-9 pre {\n",
       "  padding: 0;\n",
       "}\n",
       "\n",
       "#sk-container-id-9 input.sk-hidden--visually {\n",
       "  border: 0;\n",
       "  clip: rect(1px 1px 1px 1px);\n",
       "  clip: rect(1px, 1px, 1px, 1px);\n",
       "  height: 1px;\n",
       "  margin: -1px;\n",
       "  overflow: hidden;\n",
       "  padding: 0;\n",
       "  position: absolute;\n",
       "  width: 1px;\n",
       "}\n",
       "\n",
       "#sk-container-id-9 div.sk-dashed-wrapped {\n",
       "  border: 1px dashed var(--sklearn-color-line);\n",
       "  margin: 0 0.4em 0.5em 0.4em;\n",
       "  box-sizing: border-box;\n",
       "  padding-bottom: 0.4em;\n",
       "  background-color: var(--sklearn-color-background);\n",
       "}\n",
       "\n",
       "#sk-container-id-9 div.sk-container {\n",
       "  /* jupyter's `normalize.less` sets `[hidden] { display: none; }`\n",
       "     but bootstrap.min.css set `[hidden] { display: none !important; }`\n",
       "     so we also need the `!important` here to be able to override the\n",
       "     default hidden behavior on the sphinx rendered scikit-learn.org.\n",
       "     See: https://github.com/scikit-learn/scikit-learn/issues/21755 */\n",
       "  display: inline-block !important;\n",
       "  position: relative;\n",
       "}\n",
       "\n",
       "#sk-container-id-9 div.sk-text-repr-fallback {\n",
       "  display: none;\n",
       "}\n",
       "\n",
       "div.sk-parallel-item,\n",
       "div.sk-serial,\n",
       "div.sk-item {\n",
       "  /* draw centered vertical line to link estimators */\n",
       "  background-image: linear-gradient(var(--sklearn-color-text-on-default-background), var(--sklearn-color-text-on-default-background));\n",
       "  background-size: 2px 100%;\n",
       "  background-repeat: no-repeat;\n",
       "  background-position: center center;\n",
       "}\n",
       "\n",
       "/* Parallel-specific style estimator block */\n",
       "\n",
       "#sk-container-id-9 div.sk-parallel-item::after {\n",
       "  content: \"\";\n",
       "  width: 100%;\n",
       "  border-bottom: 2px solid var(--sklearn-color-text-on-default-background);\n",
       "  flex-grow: 1;\n",
       "}\n",
       "\n",
       "#sk-container-id-9 div.sk-parallel {\n",
       "  display: flex;\n",
       "  align-items: stretch;\n",
       "  justify-content: center;\n",
       "  background-color: var(--sklearn-color-background);\n",
       "  position: relative;\n",
       "}\n",
       "\n",
       "#sk-container-id-9 div.sk-parallel-item {\n",
       "  display: flex;\n",
       "  flex-direction: column;\n",
       "}\n",
       "\n",
       "#sk-container-id-9 div.sk-parallel-item:first-child::after {\n",
       "  align-self: flex-end;\n",
       "  width: 50%;\n",
       "}\n",
       "\n",
       "#sk-container-id-9 div.sk-parallel-item:last-child::after {\n",
       "  align-self: flex-start;\n",
       "  width: 50%;\n",
       "}\n",
       "\n",
       "#sk-container-id-9 div.sk-parallel-item:only-child::after {\n",
       "  width: 0;\n",
       "}\n",
       "\n",
       "/* Serial-specific style estimator block */\n",
       "\n",
       "#sk-container-id-9 div.sk-serial {\n",
       "  display: flex;\n",
       "  flex-direction: column;\n",
       "  align-items: center;\n",
       "  background-color: var(--sklearn-color-background);\n",
       "  padding-right: 1em;\n",
       "  padding-left: 1em;\n",
       "}\n",
       "\n",
       "\n",
       "/* Toggleable style: style used for estimator/Pipeline/ColumnTransformer box that is\n",
       "clickable and can be expanded/collapsed.\n",
       "- Pipeline and ColumnTransformer use this feature and define the default style\n",
       "- Estimators will overwrite some part of the style using the `sk-estimator` class\n",
       "*/\n",
       "\n",
       "/* Pipeline and ColumnTransformer style (default) */\n",
       "\n",
       "#sk-container-id-9 div.sk-toggleable {\n",
       "  /* Default theme specific background. It is overwritten whether we have a\n",
       "  specific estimator or a Pipeline/ColumnTransformer */\n",
       "  background-color: var(--sklearn-color-background);\n",
       "}\n",
       "\n",
       "/* Toggleable label */\n",
       "#sk-container-id-9 label.sk-toggleable__label {\n",
       "  cursor: pointer;\n",
       "  display: block;\n",
       "  width: 100%;\n",
       "  margin-bottom: 0;\n",
       "  padding: 0.5em;\n",
       "  box-sizing: border-box;\n",
       "  text-align: center;\n",
       "}\n",
       "\n",
       "#sk-container-id-9 label.sk-toggleable__label-arrow:before {\n",
       "  /* Arrow on the left of the label */\n",
       "  content: \"▸\";\n",
       "  float: left;\n",
       "  margin-right: 0.25em;\n",
       "  color: var(--sklearn-color-icon);\n",
       "}\n",
       "\n",
       "#sk-container-id-9 label.sk-toggleable__label-arrow:hover:before {\n",
       "  color: var(--sklearn-color-text);\n",
       "}\n",
       "\n",
       "/* Toggleable content - dropdown */\n",
       "\n",
       "#sk-container-id-9 div.sk-toggleable__content {\n",
       "  max-height: 0;\n",
       "  max-width: 0;\n",
       "  overflow: hidden;\n",
       "  text-align: left;\n",
       "  /* unfitted */\n",
       "  background-color: var(--sklearn-color-unfitted-level-0);\n",
       "}\n",
       "\n",
       "#sk-container-id-9 div.sk-toggleable__content.fitted {\n",
       "  /* fitted */\n",
       "  background-color: var(--sklearn-color-fitted-level-0);\n",
       "}\n",
       "\n",
       "#sk-container-id-9 div.sk-toggleable__content pre {\n",
       "  margin: 0.2em;\n",
       "  border-radius: 0.25em;\n",
       "  color: var(--sklearn-color-text);\n",
       "  /* unfitted */\n",
       "  background-color: var(--sklearn-color-unfitted-level-0);\n",
       "}\n",
       "\n",
       "#sk-container-id-9 div.sk-toggleable__content.fitted pre {\n",
       "  /* unfitted */\n",
       "  background-color: var(--sklearn-color-fitted-level-0);\n",
       "}\n",
       "\n",
       "#sk-container-id-9 input.sk-toggleable__control:checked~div.sk-toggleable__content {\n",
       "  /* Expand drop-down */\n",
       "  max-height: 200px;\n",
       "  max-width: 100%;\n",
       "  overflow: auto;\n",
       "}\n",
       "\n",
       "#sk-container-id-9 input.sk-toggleable__control:checked~label.sk-toggleable__label-arrow:before {\n",
       "  content: \"▾\";\n",
       "}\n",
       "\n",
       "/* Pipeline/ColumnTransformer-specific style */\n",
       "\n",
       "#sk-container-id-9 div.sk-label input.sk-toggleable__control:checked~label.sk-toggleable__label {\n",
       "  color: var(--sklearn-color-text);\n",
       "  background-color: var(--sklearn-color-unfitted-level-2);\n",
       "}\n",
       "\n",
       "#sk-container-id-9 div.sk-label.fitted input.sk-toggleable__control:checked~label.sk-toggleable__label {\n",
       "  background-color: var(--sklearn-color-fitted-level-2);\n",
       "}\n",
       "\n",
       "/* Estimator-specific style */\n",
       "\n",
       "/* Colorize estimator box */\n",
       "#sk-container-id-9 div.sk-estimator input.sk-toggleable__control:checked~label.sk-toggleable__label {\n",
       "  /* unfitted */\n",
       "  background-color: var(--sklearn-color-unfitted-level-2);\n",
       "}\n",
       "\n",
       "#sk-container-id-9 div.sk-estimator.fitted input.sk-toggleable__control:checked~label.sk-toggleable__label {\n",
       "  /* fitted */\n",
       "  background-color: var(--sklearn-color-fitted-level-2);\n",
       "}\n",
       "\n",
       "#sk-container-id-9 div.sk-label label.sk-toggleable__label,\n",
       "#sk-container-id-9 div.sk-label label {\n",
       "  /* The background is the default theme color */\n",
       "  color: var(--sklearn-color-text-on-default-background);\n",
       "}\n",
       "\n",
       "/* On hover, darken the color of the background */\n",
       "#sk-container-id-9 div.sk-label:hover label.sk-toggleable__label {\n",
       "  color: var(--sklearn-color-text);\n",
       "  background-color: var(--sklearn-color-unfitted-level-2);\n",
       "}\n",
       "\n",
       "/* Label box, darken color on hover, fitted */\n",
       "#sk-container-id-9 div.sk-label.fitted:hover label.sk-toggleable__label.fitted {\n",
       "  color: var(--sklearn-color-text);\n",
       "  background-color: var(--sklearn-color-fitted-level-2);\n",
       "}\n",
       "\n",
       "/* Estimator label */\n",
       "\n",
       "#sk-container-id-9 div.sk-label label {\n",
       "  font-family: monospace;\n",
       "  font-weight: bold;\n",
       "  display: inline-block;\n",
       "  line-height: 1.2em;\n",
       "}\n",
       "\n",
       "#sk-container-id-9 div.sk-label-container {\n",
       "  text-align: center;\n",
       "}\n",
       "\n",
       "/* Estimator-specific */\n",
       "#sk-container-id-9 div.sk-estimator {\n",
       "  font-family: monospace;\n",
       "  border: 1px dotted var(--sklearn-color-border-box);\n",
       "  border-radius: 0.25em;\n",
       "  box-sizing: border-box;\n",
       "  margin-bottom: 0.5em;\n",
       "  /* unfitted */\n",
       "  background-color: var(--sklearn-color-unfitted-level-0);\n",
       "}\n",
       "\n",
       "#sk-container-id-9 div.sk-estimator.fitted {\n",
       "  /* fitted */\n",
       "  background-color: var(--sklearn-color-fitted-level-0);\n",
       "}\n",
       "\n",
       "/* on hover */\n",
       "#sk-container-id-9 div.sk-estimator:hover {\n",
       "  /* unfitted */\n",
       "  background-color: var(--sklearn-color-unfitted-level-2);\n",
       "}\n",
       "\n",
       "#sk-container-id-9 div.sk-estimator.fitted:hover {\n",
       "  /* fitted */\n",
       "  background-color: var(--sklearn-color-fitted-level-2);\n",
       "}\n",
       "\n",
       "/* Specification for estimator info (e.g. \"i\" and \"?\") */\n",
       "\n",
       "/* Common style for \"i\" and \"?\" */\n",
       "\n",
       ".sk-estimator-doc-link,\n",
       "a:link.sk-estimator-doc-link,\n",
       "a:visited.sk-estimator-doc-link {\n",
       "  float: right;\n",
       "  font-size: smaller;\n",
       "  line-height: 1em;\n",
       "  font-family: monospace;\n",
       "  background-color: var(--sklearn-color-background);\n",
       "  border-radius: 1em;\n",
       "  height: 1em;\n",
       "  width: 1em;\n",
       "  text-decoration: none !important;\n",
       "  margin-left: 1ex;\n",
       "  /* unfitted */\n",
       "  border: var(--sklearn-color-unfitted-level-1) 1pt solid;\n",
       "  color: var(--sklearn-color-unfitted-level-1);\n",
       "}\n",
       "\n",
       ".sk-estimator-doc-link.fitted,\n",
       "a:link.sk-estimator-doc-link.fitted,\n",
       "a:visited.sk-estimator-doc-link.fitted {\n",
       "  /* fitted */\n",
       "  border: var(--sklearn-color-fitted-level-1) 1pt solid;\n",
       "  color: var(--sklearn-color-fitted-level-1);\n",
       "}\n",
       "\n",
       "/* On hover */\n",
       "div.sk-estimator:hover .sk-estimator-doc-link:hover,\n",
       ".sk-estimator-doc-link:hover,\n",
       "div.sk-label-container:hover .sk-estimator-doc-link:hover,\n",
       ".sk-estimator-doc-link:hover {\n",
       "  /* unfitted */\n",
       "  background-color: var(--sklearn-color-unfitted-level-3);\n",
       "  color: var(--sklearn-color-background);\n",
       "  text-decoration: none;\n",
       "}\n",
       "\n",
       "div.sk-estimator.fitted:hover .sk-estimator-doc-link.fitted:hover,\n",
       ".sk-estimator-doc-link.fitted:hover,\n",
       "div.sk-label-container:hover .sk-estimator-doc-link.fitted:hover,\n",
       ".sk-estimator-doc-link.fitted:hover {\n",
       "  /* fitted */\n",
       "  background-color: var(--sklearn-color-fitted-level-3);\n",
       "  color: var(--sklearn-color-background);\n",
       "  text-decoration: none;\n",
       "}\n",
       "\n",
       "/* Span, style for the box shown on hovering the info icon */\n",
       ".sk-estimator-doc-link span {\n",
       "  display: none;\n",
       "  z-index: 9999;\n",
       "  position: relative;\n",
       "  font-weight: normal;\n",
       "  right: .2ex;\n",
       "  padding: .5ex;\n",
       "  margin: .5ex;\n",
       "  width: min-content;\n",
       "  min-width: 20ex;\n",
       "  max-width: 50ex;\n",
       "  color: var(--sklearn-color-text);\n",
       "  box-shadow: 2pt 2pt 4pt #999;\n",
       "  /* unfitted */\n",
       "  background: var(--sklearn-color-unfitted-level-0);\n",
       "  border: .5pt solid var(--sklearn-color-unfitted-level-3);\n",
       "}\n",
       "\n",
       ".sk-estimator-doc-link.fitted span {\n",
       "  /* fitted */\n",
       "  background: var(--sklearn-color-fitted-level-0);\n",
       "  border: var(--sklearn-color-fitted-level-3);\n",
       "}\n",
       "\n",
       ".sk-estimator-doc-link:hover span {\n",
       "  display: block;\n",
       "}\n",
       "\n",
       "/* \"?\"-specific style due to the `<a>` HTML tag */\n",
       "\n",
       "#sk-container-id-9 a.estimator_doc_link {\n",
       "  float: right;\n",
       "  font-size: 1rem;\n",
       "  line-height: 1em;\n",
       "  font-family: monospace;\n",
       "  background-color: var(--sklearn-color-background);\n",
       "  border-radius: 1rem;\n",
       "  height: 1rem;\n",
       "  width: 1rem;\n",
       "  text-decoration: none;\n",
       "  /* unfitted */\n",
       "  color: var(--sklearn-color-unfitted-level-1);\n",
       "  border: var(--sklearn-color-unfitted-level-1) 1pt solid;\n",
       "}\n",
       "\n",
       "#sk-container-id-9 a.estimator_doc_link.fitted {\n",
       "  /* fitted */\n",
       "  border: var(--sklearn-color-fitted-level-1) 1pt solid;\n",
       "  color: var(--sklearn-color-fitted-level-1);\n",
       "}\n",
       "\n",
       "/* On hover */\n",
       "#sk-container-id-9 a.estimator_doc_link:hover {\n",
       "  /* unfitted */\n",
       "  background-color: var(--sklearn-color-unfitted-level-3);\n",
       "  color: var(--sklearn-color-background);\n",
       "  text-decoration: none;\n",
       "}\n",
       "\n",
       "#sk-container-id-9 a.estimator_doc_link.fitted:hover {\n",
       "  /* fitted */\n",
       "  background-color: var(--sklearn-color-fitted-level-3);\n",
       "}\n",
       "</style><div id=\"sk-container-id-9\" class=\"sk-top-container\"><div class=\"sk-text-repr-fallback\"><pre>Ridge(alpha=1)</pre><b>In a Jupyter environment, please rerun this cell to show the HTML representation or trust the notebook. <br />On GitHub, the HTML representation is unable to render, please try loading this page with nbviewer.org.</b></div><div class=\"sk-container\" hidden><div class=\"sk-item\"><div class=\"sk-estimator fitted sk-toggleable\"><input class=\"sk-toggleable__control sk-hidden--visually\" id=\"sk-estimator-id-9\" type=\"checkbox\" checked><label for=\"sk-estimator-id-9\" class=\"sk-toggleable__label fitted sk-toggleable__label-arrow fitted\">&nbsp;&nbsp;Ridge<a class=\"sk-estimator-doc-link fitted\" rel=\"noreferrer\" target=\"_blank\" href=\"https://scikit-learn.org/1.5/modules/generated/sklearn.linear_model.Ridge.html\">?<span>Documentation for Ridge</span></a><span class=\"sk-estimator-doc-link fitted\">i<span>Fitted</span></span></label><div class=\"sk-toggleable__content fitted\"><pre>Ridge(alpha=1)</pre></div> </div></div></div></div>"
      ],
      "text/plain": [
       "Ridge(alpha=1)"
      ]
     },
     "execution_count": 157,
     "metadata": {},
     "output_type": "execute_result"
    }
   ],
   "source": [
    "ridge_model = Ridge(alpha=1)\n",
    "ridge_model.fit(linear_regression_data.X_train, linear_regression_data.y_train)"
   ]
  },
  {
   "cell_type": "code",
   "execution_count": 158,
   "metadata": {},
   "outputs": [
    {
     "data": {
      "image/png": "[encoded data removed]",
      "text/plain": [
       "<Figure size 1000x600 with 1 Axes>"
      ]
     },
     "metadata": {},
     "output_type": "display_data"
    }
   ],
   "source": [
    "plot_feature_coefficients(ridge_model)"
   ]
  },
  {
   "cell_type": "markdown",
   "metadata": {},
   "source": [
    "The model is still only influenced by the price_1_days_ago parameter. Let's try increasing the alpha, we want the model to try to predict based on more than one parameter."
   ]
  },
  {
   "cell_type": "code",
   "execution_count": 170,
   "metadata": {},
   "outputs": [
    {
     "data": {
      "image/png": "[encoded data removed]",
      "text/plain": [
       "<Figure size 1000x600 with 1 Axes>"
      ]
     },
     "metadata": {},
     "output_type": "display_data"
    }
   ],
   "source": [
    "ridge_model = Ridge(alpha=1000)\n",
    "ridge_model.fit(linear_regression_data.X_train, linear_regression_data.y_train)\n",
    "\n",
    "plot_feature_coefficients(ridge_model)"
   ]
  },
  {
   "cell_type": "markdown",
   "metadata": {},
   "source": [
    "We will go alpha = 1000, because it uses many different prices. Let's check for the accuracy of the model."
   ]
  },
  {
   "cell_type": "code",
   "execution_count": 171,
   "metadata": {},
   "outputs": [
    {
     "name": "stdout",
     "output_type": "stream",
     "text": [
      "Evaluation Metrics:\n",
      "Mean Absolute Error (MAE): 1.1128326530594337\n",
      "Mean Squared Error (MSE): 775.0140574052378\n",
      "Root Mean Squared Error (RMSE): 27.839074291456566\n",
      "R² Score: 0.9998842980097133\n"
     ]
    }
   ],
   "source": [
    "evaluate_model(ridge_model, linear_regression_data.X_test, linear_regression_data.y_test)"
   ]
  },
  {
   "cell_type": "markdown",
   "metadata": {},
   "source": [
    "It seems like that, even when the model is not only influenced by only one paramter it is still not good for predictions and overfits the data. This is probably because of the correlations between the different columns, since the price does not change that much."
   ]
  },
  {
   "cell_type": "markdown",
   "metadata": {},
   "source": [
    "In conclusion, I believe linear regression models are not suitable for stock data predictions. Maybe if there is a trend line or a chart, that you expect the stock to follow, then it would be a good fit, but for general predictions, not so much."
   ]
  },
  {
   "cell_type": "markdown",
   "metadata": {},
   "source": [
    "### 3.3. Support Vector Regression"
   ]
  },
  {
   "cell_type": "markdown",
   "metadata": {},
   "source": [
    "Next up let's try using Support Vector Regressions for predicting stock prices. The model itself aims to predict continuous values by finding a predefined margin of tolerance. It uses kernel functions to handle non-linear relationships by mapping input features to a higher-dimension space.\n",
    "\n",
    "As with other models, let's first begin with hyperparameter tuning."
   ]
  },
  {
   "cell_type": "code",
   "execution_count": 37,
   "metadata": {},
   "outputs": [],
   "source": [
    "svr_grid_search_data = prepare_data(stock_data_tidy, features, target, True, 0.005)"
   ]
  },
  {
   "cell_type": "code",
   "execution_count": 174,
   "metadata": {},
   "outputs": [],
   "source": [
    "def getSvrGridSearch():\n",
    "    if os.path.exists(svr_grid_search_path):\n",
    "        return pd.read_pickle(svr_grid_search_path)\n",
    "\n",
    "    param_grid = {\n",
    "        'C': [0.1, 1, 10, 100],\n",
    "        'epsilon': [0.01, 0.1, 0.5, 1],\n",
    "        'kernel': ['linear', 'rbf', 'poly']\n",
    "    }\n",
    "\n",
    "    svr = SVR()\n",
    "    svr_grid_search = GridSearchCV(svr, param_grid, cv=3, scoring='neg_mean_squared_error', verbose=2, n_jobs=-1)\n",
    "    svr_grid_search.fit(svr_grid_search_data.X_train, svr_grid_search_data.y_train)\n",
    "\n",
    "    with open(svr_grid_search_path, 'wb') as model_file:\n",
    "        pickle.dump(svr_grid_search, model_file)\n",
    "\n",
    "    # Best parameters from GridSearchCV\n",
    "    best_params_svr = svr_grid_search.best_params_\n",
    "    print(f\"Best Parameters for SVR: {best_params_svr}\")\n",
    "\n",
    "    return svr_grid_search"
   ]
  },
  {
   "cell_type": "code",
   "execution_count": 175,
   "metadata": {},
   "outputs": [],
   "source": [
    "svr_grid_search = getSvrGridSearch()"
   ]
  },
  {
   "cell_type": "code",
   "execution_count": 176,
   "metadata": {},
   "outputs": [
    {
     "name": "stdout",
     "output_type": "stream",
     "text": [
      "{'C': 1, 'epsilon': 0.01, 'kernel': 'linear'}\n"
     ]
    }
   ],
   "source": [
    "print(svr_grid_search.best_params_)"
   ]
  },
  {
   "cell_type": "markdown",
   "metadata": {},
   "source": [
    "C (Regularization parameter) controls the trade-off between a low error on the training data and minimizing model complexity. A high value can make the model focus more on minimizing training errors, but it might lead to overfitting. The value of 1 is a moderate one and should keep it balanced.\n",
    "\n",
    "Epsilon specifies the margin of tolerance, where no penalty is given for errors. When it is a smaller value, it is sensitive to capturing smaller deviations from the true target values and leads to more precise fit, but higher computational cost and might result in overfitting.\n",
    "\n",
    "Kerner defines the function used to map the input data to a higher-dimensional space for linear or non-linear regression. The one we will use is linear, which means the model assumes a linear relationship between the features and the target variable."
   ]
  },
  {
   "cell_type": "markdown",
   "metadata": {},
   "source": [
    "Now, that we got the hyperparams, let's continue with fitting the model."
   ]
  },
  {
   "cell_type": "code",
   "execution_count": 181,
   "metadata": {},
   "outputs": [],
   "source": [
    "svr_model_data = prepare_data(stock_data_tidy, features, target, False, 1)"
   ]
  },
  {
   "cell_type": "code",
   "execution_count": null,
   "metadata": {},
   "outputs": [],
   "source": [
    "svr_model = SVR(C=1, epsilon=0.01, kernel='linear', random_state = 42)\n",
    "svr_model.fit(svr_model_data.X_train, svr_model_data.y_train)"
   ]
  },
  {
   "cell_type": "markdown",
   "metadata": {},
   "source": [
    "Trying to fit the SVR model, didn't quite work out, since we have a huge dataset and SVR is a very slow algorithm."
   ]
  },
  {
   "cell_type": "code",
   "execution_count": null,
   "metadata": {},
   "outputs": [],
   "source": [
    "svr_grid_search_data = prepare_data(stock_data_tidy, features, target, True, 0.005)"
   ]
  },
  {
   "cell_type": "code",
   "execution_count": 183,
   "metadata": {},
   "outputs": [],
   "source": [
    "from sklearn.svm import LinearSVR\n",
    "\n",
    "# LinearSVR Grid Search\n",
    "def getLinearSvrGridSearch():\n",
    "    if os.path.exists(linear_svr_grid_search_path):\n",
    "        return pd.read_pickle(linear_svr_grid_search_path)\n",
    "\n",
    "    param_grid = {\n",
    "        'C': [0.1, 1, 10, 100],\n",
    "        'epsilon': [0.01, 0.1, 0.5, 1]\n",
    "    }\n",
    "\n",
    "    linear_svr = LinearSVR(max_iter=10000)  # Increased max_iter for large datasets\n",
    "    svr_grid_search = GridSearchCV(linear_svr, param_grid, cv=3, scoring='neg_mean_squared_error', verbose=2, n_jobs=-1)\n",
    "    svr_grid_search.fit(svr_grid_search_data.X_train, svr_grid_search_data.y_train)\n",
    "\n",
    "    with open(linear_svr_grid_search_path, 'wb') as model_file:\n",
    "        pickle.dump(svr_grid_search, model_file)\n",
    "\n",
    "    best_params_svr = svr_grid_search.best_params_\n",
    "    print(f\"Best Parameters for LinearSVR: {best_params_svr}\")\n",
    "\n",
    "    return svr_grid_search\n"
   ]
  },
  {
   "cell_type": "code",
   "execution_count": 184,
   "metadata": {},
   "outputs": [
    {
     "name": "stdout",
     "output_type": "stream",
     "text": [
      "Fitting 3 folds for each of 16 candidates, totalling 48 fits\n",
      "Best Parameters for LinearSVR: {'C': 1, 'epsilon': 0.01}\n"
     ]
    },
    {
     "name": "stderr",
     "output_type": "stream",
     "text": [
      "C:\\Users\\andon\\AppData\\Roaming\\Python\\Python312\\site-packages\\sklearn\\svm\\_base.py:1235: ConvergenceWarning: Liblinear failed to converge, increase the number of iterations.\n",
      "  warnings.warn(\n"
     ]
    }
   ],
   "source": [
    "if os.path.exists(linear_svr_grid_search_path):\n",
    "    svr_grid_search = pd.read_pickle(linear_svr_grid_search_path)\n",
    "else:\n",
    "    svr_grid_search = getLinearSvrGridSearch()"
   ]
  },
  {
   "cell_type": "markdown",
   "metadata": {},
   "source": [
    "TODO investigate linear SVR"
   ]
  },
  {
   "cell_type": "markdown",
   "metadata": {},
   "source": [
    "### 3.4. K-Nearest Neighbors"
   ]
  },
  {
   "cell_type": "markdown",
   "metadata": {},
   "source": [
    "TODO write something about KNN"
   ]
  },
  {
   "cell_type": "code",
   "execution_count": 26,
   "metadata": {},
   "outputs": [],
   "source": [
    "knn_grid_search_data = prepare_data(stock_data_tidy, features, target, True, 0.05)"
   ]
  },
  {
   "cell_type": "code",
   "execution_count": 51,
   "metadata": {},
   "outputs": [],
   "source": [
    "def getKnnGridSearch():\n",
    "    if os.path.exists(knn_grid_search_path):\n",
    "        return pd.read_pickle(knn_grid_search_path)\n",
    "\n",
    "    param_grid_knn = {\n",
    "        'n_neighbors': [3, 5, 7, 9],\n",
    "        'weights': ['uniform', 'distance'],\n",
    "        'p': [1, 2]  # p=1 for Manhattan distance, p=2 for Euclidean distance\n",
    "    }\n",
    "\n",
    "    knn = KNeighborsRegressor()\n",
    "    knn_grid_search = GridSearchCV(knn, param_grid_knn, cv=3, scoring='neg_mean_squared_error', verbose=2, n_jobs=-1)\n",
    "    knn_grid_search.fit(knn_grid_search_data.X_train, knn_grid_search_data.y_train)\n",
    "\n",
    "    with open(knn_grid_search_path, 'wb') as model_file:\n",
    "        pickle.dump(svr_grid_search, model_file)\n",
    "\n",
    "    return svr_grid_search"
   ]
  },
  {
   "cell_type": "code",
   "execution_count": 52,
   "metadata": {},
   "outputs": [
    {
     "name": "stdout",
     "output_type": "stream",
     "text": [
      "Best Parameters for KNN: {'n_neighbors': 5, 'p': 1, 'weights': 'distance'}\n"
     ]
    }
   ],
   "source": [
    "knn_grid_search = getKnnGridSearch()\n",
    "\n",
    "# Best parameters from GridSearchCV for KNN\n",
    "best_params_knn = knn_grid_search.best_params_\n",
    "print(f\"Best Parameters for KNN: {best_params_knn}\")"
   ]
  },
  {
   "cell_type": "code",
   "execution_count": null,
   "metadata": {},
   "outputs": [],
   "source": [
    "knn_data = prepare_data(stock_data_tidy, features, target, True, 1)"
   ]
  },
  {
   "cell_type": "code",
   "execution_count": null,
   "metadata": {},
   "outputs": [
    {
     "data": {
      "text/html": [
       "<style>#sk-container-id-2 {\n",
       "  /* Definition of color scheme common for light and dark mode */\n",
       "  --sklearn-color-text: black;\n",
       "  --sklearn-color-line: gray;\n",
       "  /* Definition of color scheme for unfitted estimators */\n",
       "  --sklearn-color-unfitted-level-0: #fff5e6;\n",
       "  --sklearn-color-unfitted-level-1: #f6e4d2;\n",
       "  --sklearn-color-unfitted-level-2: #ffe0b3;\n",
       "  --sklearn-color-unfitted-level-3: chocolate;\n",
       "  /* Definition of color scheme for fitted estimators */\n",
       "  --sklearn-color-fitted-level-0: #f0f8ff;\n",
       "  --sklearn-color-fitted-level-1: #d4ebff;\n",
       "  --sklearn-color-fitted-level-2: #b3dbfd;\n",
       "  --sklearn-color-fitted-level-3: cornflowerblue;\n",
       "\n",
       "  /* Specific color for light theme */\n",
       "  --sklearn-color-text-on-default-background: var(--sg-text-color, var(--theme-code-foreground, var(--jp-content-font-color1, black)));\n",
       "  --sklearn-color-background: var(--sg-background-color, var(--theme-background, var(--jp-layout-color0, white)));\n",
       "  --sklearn-color-border-box: var(--sg-text-color, var(--theme-code-foreground, var(--jp-content-font-color1, black)));\n",
       "  --sklearn-color-icon: #696969;\n",
       "\n",
       "  @media (prefers-color-scheme: dark) {\n",
       "    /* Redefinition of color scheme for dark theme */\n",
       "    --sklearn-color-text-on-default-background: var(--sg-text-color, var(--theme-code-foreground, var(--jp-content-font-color1, white)));\n",
       "    --sklearn-color-background: var(--sg-background-color, var(--theme-background, var(--jp-layout-color0, #111)));\n",
       "    --sklearn-color-border-box: var(--sg-text-color, var(--theme-code-foreground, var(--jp-content-font-color1, white)));\n",
       "    --sklearn-color-icon: #878787;\n",
       "  }\n",
       "}\n",
       "\n",
       "#sk-container-id-2 {\n",
       "  color: var(--sklearn-color-text);\n",
       "}\n",
       "\n",
       "#sk-container-id-2 pre {\n",
       "  padding: 0;\n",
       "}\n",
       "\n",
       "#sk-container-id-2 input.sk-hidden--visually {\n",
       "  border: 0;\n",
       "  clip: rect(1px 1px 1px 1px);\n",
       "  clip: rect(1px, 1px, 1px, 1px);\n",
       "  height: 1px;\n",
       "  margin: -1px;\n",
       "  overflow: hidden;\n",
       "  padding: 0;\n",
       "  position: absolute;\n",
       "  width: 1px;\n",
       "}\n",
       "\n",
       "#sk-container-id-2 div.sk-dashed-wrapped {\n",
       "  border: 1px dashed var(--sklearn-color-line);\n",
       "  margin: 0 0.4em 0.5em 0.4em;\n",
       "  box-sizing: border-box;\n",
       "  padding-bottom: 0.4em;\n",
       "  background-color: var(--sklearn-color-background);\n",
       "}\n",
       "\n",
       "#sk-container-id-2 div.sk-container {\n",
       "  /* jupyter's `normalize.less` sets `[hidden] { display: none; }`\n",
       "     but bootstrap.min.css set `[hidden] { display: none !important; }`\n",
       "     so we also need the `!important` here to be able to override the\n",
       "     default hidden behavior on the sphinx rendered scikit-learn.org.\n",
       "     See: https://github.com/scikit-learn/scikit-learn/issues/21755 */\n",
       "  display: inline-block !important;\n",
       "  position: relative;\n",
       "}\n",
       "\n",
       "#sk-container-id-2 div.sk-text-repr-fallback {\n",
       "  display: none;\n",
       "}\n",
       "\n",
       "div.sk-parallel-item,\n",
       "div.sk-serial,\n",
       "div.sk-item {\n",
       "  /* draw centered vertical line to link estimators */\n",
       "  background-image: linear-gradient(var(--sklearn-color-text-on-default-background), var(--sklearn-color-text-on-default-background));\n",
       "  background-size: 2px 100%;\n",
       "  background-repeat: no-repeat;\n",
       "  background-position: center center;\n",
       "}\n",
       "\n",
       "/* Parallel-specific style estimator block */\n",
       "\n",
       "#sk-container-id-2 div.sk-parallel-item::after {\n",
       "  content: \"\";\n",
       "  width: 100%;\n",
       "  border-bottom: 2px solid var(--sklearn-color-text-on-default-background);\n",
       "  flex-grow: 1;\n",
       "}\n",
       "\n",
       "#sk-container-id-2 div.sk-parallel {\n",
       "  display: flex;\n",
       "  align-items: stretch;\n",
       "  justify-content: center;\n",
       "  background-color: var(--sklearn-color-background);\n",
       "  position: relative;\n",
       "}\n",
       "\n",
       "#sk-container-id-2 div.sk-parallel-item {\n",
       "  display: flex;\n",
       "  flex-direction: column;\n",
       "}\n",
       "\n",
       "#sk-container-id-2 div.sk-parallel-item:first-child::after {\n",
       "  align-self: flex-end;\n",
       "  width: 50%;\n",
       "}\n",
       "\n",
       "#sk-container-id-2 div.sk-parallel-item:last-child::after {\n",
       "  align-self: flex-start;\n",
       "  width: 50%;\n",
       "}\n",
       "\n",
       "#sk-container-id-2 div.sk-parallel-item:only-child::after {\n",
       "  width: 0;\n",
       "}\n",
       "\n",
       "/* Serial-specific style estimator block */\n",
       "\n",
       "#sk-container-id-2 div.sk-serial {\n",
       "  display: flex;\n",
       "  flex-direction: column;\n",
       "  align-items: center;\n",
       "  background-color: var(--sklearn-color-background);\n",
       "  padding-right: 1em;\n",
       "  padding-left: 1em;\n",
       "}\n",
       "\n",
       "\n",
       "/* Toggleable style: style used for estimator/Pipeline/ColumnTransformer box that is\n",
       "clickable and can be expanded/collapsed.\n",
       "- Pipeline and ColumnTransformer use this feature and define the default style\n",
       "- Estimators will overwrite some part of the style using the `sk-estimator` class\n",
       "*/\n",
       "\n",
       "/* Pipeline and ColumnTransformer style (default) */\n",
       "\n",
       "#sk-container-id-2 div.sk-toggleable {\n",
       "  /* Default theme specific background. It is overwritten whether we have a\n",
       "  specific estimator or a Pipeline/ColumnTransformer */\n",
       "  background-color: var(--sklearn-color-background);\n",
       "}\n",
       "\n",
       "/* Toggleable label */\n",
       "#sk-container-id-2 label.sk-toggleable__label {\n",
       "  cursor: pointer;\n",
       "  display: block;\n",
       "  width: 100%;\n",
       "  margin-bottom: 0;\n",
       "  padding: 0.5em;\n",
       "  box-sizing: border-box;\n",
       "  text-align: center;\n",
       "}\n",
       "\n",
       "#sk-container-id-2 label.sk-toggleable__label-arrow:before {\n",
       "  /* Arrow on the left of the label */\n",
       "  content: \"▸\";\n",
       "  float: left;\n",
       "  margin-right: 0.25em;\n",
       "  color: var(--sklearn-color-icon);\n",
       "}\n",
       "\n",
       "#sk-container-id-2 label.sk-toggleable__label-arrow:hover:before {\n",
       "  color: var(--sklearn-color-text);\n",
       "}\n",
       "\n",
       "/* Toggleable content - dropdown */\n",
       "\n",
       "#sk-container-id-2 div.sk-toggleable__content {\n",
       "  max-height: 0;\n",
       "  max-width: 0;\n",
       "  overflow: hidden;\n",
       "  text-align: left;\n",
       "  /* unfitted */\n",
       "  background-color: var(--sklearn-color-unfitted-level-0);\n",
       "}\n",
       "\n",
       "#sk-container-id-2 div.sk-toggleable__content.fitted {\n",
       "  /* fitted */\n",
       "  background-color: var(--sklearn-color-fitted-level-0);\n",
       "}\n",
       "\n",
       "#sk-container-id-2 div.sk-toggleable__content pre {\n",
       "  margin: 0.2em;\n",
       "  border-radius: 0.25em;\n",
       "  color: var(--sklearn-color-text);\n",
       "  /* unfitted */\n",
       "  background-color: var(--sklearn-color-unfitted-level-0);\n",
       "}\n",
       "\n",
       "#sk-container-id-2 div.sk-toggleable__content.fitted pre {\n",
       "  /* unfitted */\n",
       "  background-color: var(--sklearn-color-fitted-level-0);\n",
       "}\n",
       "\n",
       "#sk-container-id-2 input.sk-toggleable__control:checked~div.sk-toggleable__content {\n",
       "  /* Expand drop-down */\n",
       "  max-height: 200px;\n",
       "  max-width: 100%;\n",
       "  overflow: auto;\n",
       "}\n",
       "\n",
       "#sk-container-id-2 input.sk-toggleable__control:checked~label.sk-toggleable__label-arrow:before {\n",
       "  content: \"▾\";\n",
       "}\n",
       "\n",
       "/* Pipeline/ColumnTransformer-specific style */\n",
       "\n",
       "#sk-container-id-2 div.sk-label input.sk-toggleable__control:checked~label.sk-toggleable__label {\n",
       "  color: var(--sklearn-color-text);\n",
       "  background-color: var(--sklearn-color-unfitted-level-2);\n",
       "}\n",
       "\n",
       "#sk-container-id-2 div.sk-label.fitted input.sk-toggleable__control:checked~label.sk-toggleable__label {\n",
       "  background-color: var(--sklearn-color-fitted-level-2);\n",
       "}\n",
       "\n",
       "/* Estimator-specific style */\n",
       "\n",
       "/* Colorize estimator box */\n",
       "#sk-container-id-2 div.sk-estimator input.sk-toggleable__control:checked~label.sk-toggleable__label {\n",
       "  /* unfitted */\n",
       "  background-color: var(--sklearn-color-unfitted-level-2);\n",
       "}\n",
       "\n",
       "#sk-container-id-2 div.sk-estimator.fitted input.sk-toggleable__control:checked~label.sk-toggleable__label {\n",
       "  /* fitted */\n",
       "  background-color: var(--sklearn-color-fitted-level-2);\n",
       "}\n",
       "\n",
       "#sk-container-id-2 div.sk-label label.sk-toggleable__label,\n",
       "#sk-container-id-2 div.sk-label label {\n",
       "  /* The background is the default theme color */\n",
       "  color: var(--sklearn-color-text-on-default-background);\n",
       "}\n",
       "\n",
       "/* On hover, darken the color of the background */\n",
       "#sk-container-id-2 div.sk-label:hover label.sk-toggleable__label {\n",
       "  color: var(--sklearn-color-text);\n",
       "  background-color: var(--sklearn-color-unfitted-level-2);\n",
       "}\n",
       "\n",
       "/* Label box, darken color on hover, fitted */\n",
       "#sk-container-id-2 div.sk-label.fitted:hover label.sk-toggleable__label.fitted {\n",
       "  color: var(--sklearn-color-text);\n",
       "  background-color: var(--sklearn-color-fitted-level-2);\n",
       "}\n",
       "\n",
       "/* Estimator label */\n",
       "\n",
       "#sk-container-id-2 div.sk-label label {\n",
       "  font-family: monospace;\n",
       "  font-weight: bold;\n",
       "  display: inline-block;\n",
       "  line-height: 1.2em;\n",
       "}\n",
       "\n",
       "#sk-container-id-2 div.sk-label-container {\n",
       "  text-align: center;\n",
       "}\n",
       "\n",
       "/* Estimator-specific */\n",
       "#sk-container-id-2 div.sk-estimator {\n",
       "  font-family: monospace;\n",
       "  border: 1px dotted var(--sklearn-color-border-box);\n",
       "  border-radius: 0.25em;\n",
       "  box-sizing: border-box;\n",
       "  margin-bottom: 0.5em;\n",
       "  /* unfitted */\n",
       "  background-color: var(--sklearn-color-unfitted-level-0);\n",
       "}\n",
       "\n",
       "#sk-container-id-2 div.sk-estimator.fitted {\n",
       "  /* fitted */\n",
       "  background-color: var(--sklearn-color-fitted-level-0);\n",
       "}\n",
       "\n",
       "/* on hover */\n",
       "#sk-container-id-2 div.sk-estimator:hover {\n",
       "  /* unfitted */\n",
       "  background-color: var(--sklearn-color-unfitted-level-2);\n",
       "}\n",
       "\n",
       "#sk-container-id-2 div.sk-estimator.fitted:hover {\n",
       "  /* fitted */\n",
       "  background-color: var(--sklearn-color-fitted-level-2);\n",
       "}\n",
       "\n",
       "/* Specification for estimator info (e.g. \"i\" and \"?\") */\n",
       "\n",
       "/* Common style for \"i\" and \"?\" */\n",
       "\n",
       ".sk-estimator-doc-link,\n",
       "a:link.sk-estimator-doc-link,\n",
       "a:visited.sk-estimator-doc-link {\n",
       "  float: right;\n",
       "  font-size: smaller;\n",
       "  line-height: 1em;\n",
       "  font-family: monospace;\n",
       "  background-color: var(--sklearn-color-background);\n",
       "  border-radius: 1em;\n",
       "  height: 1em;\n",
       "  width: 1em;\n",
       "  text-decoration: none !important;\n",
       "  margin-left: 1ex;\n",
       "  /* unfitted */\n",
       "  border: var(--sklearn-color-unfitted-level-1) 1pt solid;\n",
       "  color: var(--sklearn-color-unfitted-level-1);\n",
       "}\n",
       "\n",
       ".sk-estimator-doc-link.fitted,\n",
       "a:link.sk-estimator-doc-link.fitted,\n",
       "a:visited.sk-estimator-doc-link.fitted {\n",
       "  /* fitted */\n",
       "  border: var(--sklearn-color-fitted-level-1) 1pt solid;\n",
       "  color: var(--sklearn-color-fitted-level-1);\n",
       "}\n",
       "\n",
       "/* On hover */\n",
       "div.sk-estimator:hover .sk-estimator-doc-link:hover,\n",
       ".sk-estimator-doc-link:hover,\n",
       "div.sk-label-container:hover .sk-estimator-doc-link:hover,\n",
       ".sk-estimator-doc-link:hover {\n",
       "  /* unfitted */\n",
       "  background-color: var(--sklearn-color-unfitted-level-3);\n",
       "  color: var(--sklearn-color-background);\n",
       "  text-decoration: none;\n",
       "}\n",
       "\n",
       "div.sk-estimator.fitted:hover .sk-estimator-doc-link.fitted:hover,\n",
       ".sk-estimator-doc-link.fitted:hover,\n",
       "div.sk-label-container:hover .sk-estimator-doc-link.fitted:hover,\n",
       ".sk-estimator-doc-link.fitted:hover {\n",
       "  /* fitted */\n",
       "  background-color: var(--sklearn-color-fitted-level-3);\n",
       "  color: var(--sklearn-color-background);\n",
       "  text-decoration: none;\n",
       "}\n",
       "\n",
       "/* Span, style for the box shown on hovering the info icon */\n",
       ".sk-estimator-doc-link span {\n",
       "  display: none;\n",
       "  z-index: 9999;\n",
       "  position: relative;\n",
       "  font-weight: normal;\n",
       "  right: .2ex;\n",
       "  padding: .5ex;\n",
       "  margin: .5ex;\n",
       "  width: min-content;\n",
       "  min-width: 20ex;\n",
       "  max-width: 50ex;\n",
       "  color: var(--sklearn-color-text);\n",
       "  box-shadow: 2pt 2pt 4pt #999;\n",
       "  /* unfitted */\n",
       "  background: var(--sklearn-color-unfitted-level-0);\n",
       "  border: .5pt solid var(--sklearn-color-unfitted-level-3);\n",
       "}\n",
       "\n",
       ".sk-estimator-doc-link.fitted span {\n",
       "  /* fitted */\n",
       "  background: var(--sklearn-color-fitted-level-0);\n",
       "  border: var(--sklearn-color-fitted-level-3);\n",
       "}\n",
       "\n",
       ".sk-estimator-doc-link:hover span {\n",
       "  display: block;\n",
       "}\n",
       "\n",
       "/* \"?\"-specific style due to the `<a>` HTML tag */\n",
       "\n",
       "#sk-container-id-2 a.estimator_doc_link {\n",
       "  float: right;\n",
       "  font-size: 1rem;\n",
       "  line-height: 1em;\n",
       "  font-family: monospace;\n",
       "  background-color: var(--sklearn-color-background);\n",
       "  border-radius: 1rem;\n",
       "  height: 1rem;\n",
       "  width: 1rem;\n",
       "  text-decoration: none;\n",
       "  /* unfitted */\n",
       "  color: var(--sklearn-color-unfitted-level-1);\n",
       "  border: var(--sklearn-color-unfitted-level-1) 1pt solid;\n",
       "}\n",
       "\n",
       "#sk-container-id-2 a.estimator_doc_link.fitted {\n",
       "  /* fitted */\n",
       "  border: var(--sklearn-color-fitted-level-1) 1pt solid;\n",
       "  color: var(--sklearn-color-fitted-level-1);\n",
       "}\n",
       "\n",
       "/* On hover */\n",
       "#sk-container-id-2 a.estimator_doc_link:hover {\n",
       "  /* unfitted */\n",
       "  background-color: var(--sklearn-color-unfitted-level-3);\n",
       "  color: var(--sklearn-color-background);\n",
       "  text-decoration: none;\n",
       "}\n",
       "\n",
       "#sk-container-id-2 a.estimator_doc_link.fitted:hover {\n",
       "  /* fitted */\n",
       "  background-color: var(--sklearn-color-fitted-level-3);\n",
       "}\n",
       "</style><div id=\"sk-container-id-2\" class=\"sk-top-container\"><div class=\"sk-text-repr-fallback\"><pre>KNeighborsRegressor(p=1, weights=&#x27;distance&#x27;)</pre><b>In a Jupyter environment, please rerun this cell to show the HTML representation or trust the notebook. <br />On GitHub, the HTML representation is unable to render, please try loading this page with nbviewer.org.</b></div><div class=\"sk-container\" hidden><div class=\"sk-item\"><div class=\"sk-estimator fitted sk-toggleable\"><input class=\"sk-toggleable__control sk-hidden--visually\" id=\"sk-estimator-id-2\" type=\"checkbox\" checked><label for=\"sk-estimator-id-2\" class=\"sk-toggleable__label fitted sk-toggleable__label-arrow fitted\">&nbsp;&nbsp;KNeighborsRegressor<a class=\"sk-estimator-doc-link fitted\" rel=\"noreferrer\" target=\"_blank\" href=\"https://scikit-learn.org/1.5/modules/generated/sklearn.neighbors.KNeighborsRegressor.html\">?<span>Documentation for KNeighborsRegressor</span></a><span class=\"sk-estimator-doc-link fitted\">i<span>Fitted</span></span></label><div class=\"sk-toggleable__content fitted\"><pre>KNeighborsRegressor(p=1, weights=&#x27;distance&#x27;)</pre></div> </div></div></div></div>"
      ],
      "text/plain": [
       "KNeighborsRegressor(p=1, weights='distance')"
      ]
     },
     "execution_count": 69,
     "metadata": {},
     "output_type": "execute_result"
    }
   ],
   "source": [
    "knn = KNeighborsRegressor(n_neighbors = 5, p = 1, weights = 'distance')\n",
    "knn.fit(knn_data.X_train, knn_data.y_train)"
   ]
  },
  {
   "cell_type": "code",
   "execution_count": null,
   "metadata": {},
   "outputs": [
    {
     "name": "stdout",
     "output_type": "stream",
     "text": [
      "prediction for batch:  0\n",
      "prediction for batch:  100\n",
      "prediction for batch:  200\n",
      "prediction for batch:  300\n",
      "prediction for batch:  400\n",
      "prediction for batch:  500\n",
      "prediction for batch:  600\n",
      "prediction for batch:  700\n",
      "prediction for batch:  800\n",
      "prediction for batch:  900\n",
      "prediction for batch:  1000\n",
      "prediction for batch:  1100\n",
      "prediction for batch:  1200\n",
      "prediction for batch:  1300\n",
      "prediction for batch:  1400\n",
      "prediction for batch:  1500\n",
      "prediction for batch:  1600\n",
      "prediction for batch:  1700\n",
      "prediction for batch:  1800\n",
      "prediction for batch:  1900\n",
      "prediction for batch:  2000\n",
      "prediction for batch:  2100\n",
      "prediction for batch:  2200\n",
      "prediction for batch:  2300\n",
      "prediction for batch:  2400\n",
      "prediction for batch:  2500\n",
      "prediction for batch:  2600\n",
      "prediction for batch:  2700\n",
      "prediction for batch:  2800\n",
      "prediction for batch:  2900\n",
      "prediction for batch:  3000\n",
      "prediction for batch:  3100\n",
      "prediction for batch:  3200\n",
      "prediction for batch:  3300\n"
     ]
    },
    {
     "ename": "KeyboardInterrupt",
     "evalue": "",
     "output_type": "error",
     "traceback": [
      "\u001b[1;31m---------------------------------------------------------------------------\u001b[0m",
      "\u001b[1;31mKeyboardInterrupt\u001b[0m                         Traceback (most recent call last)",
      "Cell \u001b[1;32mIn[71], line 20\u001b[0m\n\u001b[0;32m     17\u001b[0m chunk_size \u001b[38;5;241m=\u001b[39m \u001b[38;5;241m100\u001b[39m  \u001b[38;5;66;03m# You can adjust this based on your memory and performance needs\u001b[39;00m\n\u001b[0;32m     19\u001b[0m \u001b[38;5;66;03m# Predict in chunks\u001b[39;00m\n\u001b[1;32m---> 20\u001b[0m y_pred_knn \u001b[38;5;241m=\u001b[39m \u001b[43mpredict_in_chunks\u001b[49m\u001b[43m(\u001b[49m\u001b[43mknn\u001b[49m\u001b[43m,\u001b[49m\u001b[43m \u001b[49m\u001b[43mknn_grid_search_data\u001b[49m\u001b[38;5;241;43m.\u001b[39;49m\u001b[43mX_test\u001b[49m\u001b[43m,\u001b[49m\u001b[43m \u001b[49m\u001b[43mknn_grid_search_data\u001b[49m\u001b[38;5;241;43m.\u001b[39;49m\u001b[43mscaler_y\u001b[49m\u001b[43m,\u001b[49m\u001b[43m \u001b[49m\u001b[43mchunk_size\u001b[49m\u001b[43m)\u001b[49m\n\u001b[0;32m     22\u001b[0m \u001b[38;5;66;03m# Inverse transform the true values for y_test\u001b[39;00m\n\u001b[0;32m     23\u001b[0m y_test_original \u001b[38;5;241m=\u001b[39m knn_grid_search_data\u001b[38;5;241m.\u001b[39mscaler_y\u001b[38;5;241m.\u001b[39minverse_transform(knn_grid_search_data\u001b[38;5;241m.\u001b[39my_test\u001b[38;5;241m.\u001b[39mreshape(\u001b[38;5;241m-\u001b[39m\u001b[38;5;241m1\u001b[39m, \u001b[38;5;241m1\u001b[39m))\u001b[38;5;241m.\u001b[39mravel()\n",
      "Cell \u001b[1;32mIn[71], line 11\u001b[0m, in \u001b[0;36mpredict_in_chunks\u001b[1;34m(model, X_test, scaler_y, chunk_size)\u001b[0m\n\u001b[0;32m      9\u001b[0m end \u001b[38;5;241m=\u001b[39m \u001b[38;5;28mmin\u001b[39m(start \u001b[38;5;241m+\u001b[39m chunk_size, \u001b[38;5;28mlen\u001b[39m(X_test))\n\u001b[0;32m     10\u001b[0m X_chunk \u001b[38;5;241m=\u001b[39m X_test[start:end]\n\u001b[1;32m---> 11\u001b[0m y_pred_chunk_scaled \u001b[38;5;241m=\u001b[39m \u001b[43mmodel\u001b[49m\u001b[38;5;241;43m.\u001b[39;49m\u001b[43mpredict\u001b[49m\u001b[43m(\u001b[49m\u001b[43mX_chunk\u001b[49m\u001b[43m)\u001b[49m\n\u001b[0;32m     12\u001b[0m y_pred_chunk \u001b[38;5;241m=\u001b[39m scaler_y\u001b[38;5;241m.\u001b[39minverse_transform(y_pred_chunk_scaled\u001b[38;5;241m.\u001b[39mreshape(\u001b[38;5;241m-\u001b[39m\u001b[38;5;241m1\u001b[39m, \u001b[38;5;241m1\u001b[39m))\u001b[38;5;241m.\u001b[39mravel()\n\u001b[0;32m     13\u001b[0m y_pred_chunks\u001b[38;5;241m.\u001b[39mappend(y_pred_chunk)\n",
      "File \u001b[1;32m~\\AppData\\Roaming\\Python\\Python312\\site-packages\\sklearn\\neighbors\\_regression.py:249\u001b[0m, in \u001b[0;36mKNeighborsRegressor.predict\u001b[1;34m(self, X)\u001b[0m\n\u001b[0;32m    247\u001b[0m     neigh_dist \u001b[38;5;241m=\u001b[39m \u001b[38;5;28;01mNone\u001b[39;00m\n\u001b[0;32m    248\u001b[0m \u001b[38;5;28;01melse\u001b[39;00m:\n\u001b[1;32m--> 249\u001b[0m     neigh_dist, neigh_ind \u001b[38;5;241m=\u001b[39m \u001b[38;5;28;43mself\u001b[39;49m\u001b[38;5;241;43m.\u001b[39;49m\u001b[43mkneighbors\u001b[49m\u001b[43m(\u001b[49m\u001b[43mX\u001b[49m\u001b[43m)\u001b[49m\n\u001b[0;32m    251\u001b[0m weights \u001b[38;5;241m=\u001b[39m _get_weights(neigh_dist, \u001b[38;5;28mself\u001b[39m\u001b[38;5;241m.\u001b[39mweights)\n\u001b[0;32m    253\u001b[0m _y \u001b[38;5;241m=\u001b[39m \u001b[38;5;28mself\u001b[39m\u001b[38;5;241m.\u001b[39m_y\n",
      "File \u001b[1;32m~\\AppData\\Roaming\\Python\\Python312\\site-packages\\sklearn\\neighbors\\_base.py:849\u001b[0m, in \u001b[0;36mKNeighborsMixin.kneighbors\u001b[1;34m(self, X, n_neighbors, return_distance)\u001b[0m\n\u001b[0;32m    842\u001b[0m use_pairwise_distances_reductions \u001b[38;5;241m=\u001b[39m (\n\u001b[0;32m    843\u001b[0m     \u001b[38;5;28mself\u001b[39m\u001b[38;5;241m.\u001b[39m_fit_method \u001b[38;5;241m==\u001b[39m \u001b[38;5;124m\"\u001b[39m\u001b[38;5;124mbrute\u001b[39m\u001b[38;5;124m\"\u001b[39m\n\u001b[0;32m    844\u001b[0m     \u001b[38;5;129;01mand\u001b[39;00m ArgKmin\u001b[38;5;241m.\u001b[39mis_usable_for(\n\u001b[0;32m    845\u001b[0m         X \u001b[38;5;28;01mif\u001b[39;00m X \u001b[38;5;129;01mis\u001b[39;00m \u001b[38;5;129;01mnot\u001b[39;00m \u001b[38;5;28;01mNone\u001b[39;00m \u001b[38;5;28;01melse\u001b[39;00m \u001b[38;5;28mself\u001b[39m\u001b[38;5;241m.\u001b[39m_fit_X, \u001b[38;5;28mself\u001b[39m\u001b[38;5;241m.\u001b[39m_fit_X, \u001b[38;5;28mself\u001b[39m\u001b[38;5;241m.\u001b[39meffective_metric_\n\u001b[0;32m    846\u001b[0m     )\n\u001b[0;32m    847\u001b[0m )\n\u001b[0;32m    848\u001b[0m \u001b[38;5;28;01mif\u001b[39;00m use_pairwise_distances_reductions:\n\u001b[1;32m--> 849\u001b[0m     results \u001b[38;5;241m=\u001b[39m \u001b[43mArgKmin\u001b[49m\u001b[38;5;241;43m.\u001b[39;49m\u001b[43mcompute\u001b[49m\u001b[43m(\u001b[49m\n\u001b[0;32m    850\u001b[0m \u001b[43m        \u001b[49m\u001b[43mX\u001b[49m\u001b[38;5;241;43m=\u001b[39;49m\u001b[43mX\u001b[49m\u001b[43m,\u001b[49m\n\u001b[0;32m    851\u001b[0m \u001b[43m        \u001b[49m\u001b[43mY\u001b[49m\u001b[38;5;241;43m=\u001b[39;49m\u001b[38;5;28;43mself\u001b[39;49m\u001b[38;5;241;43m.\u001b[39;49m\u001b[43m_fit_X\u001b[49m\u001b[43m,\u001b[49m\n\u001b[0;32m    852\u001b[0m \u001b[43m        \u001b[49m\u001b[43mk\u001b[49m\u001b[38;5;241;43m=\u001b[39;49m\u001b[43mn_neighbors\u001b[49m\u001b[43m,\u001b[49m\n\u001b[0;32m    853\u001b[0m \u001b[43m        \u001b[49m\u001b[43mmetric\u001b[49m\u001b[38;5;241;43m=\u001b[39;49m\u001b[38;5;28;43mself\u001b[39;49m\u001b[38;5;241;43m.\u001b[39;49m\u001b[43meffective_metric_\u001b[49m\u001b[43m,\u001b[49m\n\u001b[0;32m    854\u001b[0m \u001b[43m        \u001b[49m\u001b[43mmetric_kwargs\u001b[49m\u001b[38;5;241;43m=\u001b[39;49m\u001b[38;5;28;43mself\u001b[39;49m\u001b[38;5;241;43m.\u001b[39;49m\u001b[43meffective_metric_params_\u001b[49m\u001b[43m,\u001b[49m\n\u001b[0;32m    855\u001b[0m \u001b[43m        \u001b[49m\u001b[43mstrategy\u001b[49m\u001b[38;5;241;43m=\u001b[39;49m\u001b[38;5;124;43m\"\u001b[39;49m\u001b[38;5;124;43mauto\u001b[39;49m\u001b[38;5;124;43m\"\u001b[39;49m\u001b[43m,\u001b[49m\n\u001b[0;32m    856\u001b[0m \u001b[43m        \u001b[49m\u001b[43mreturn_distance\u001b[49m\u001b[38;5;241;43m=\u001b[39;49m\u001b[43mreturn_distance\u001b[49m\u001b[43m,\u001b[49m\n\u001b[0;32m    857\u001b[0m \u001b[43m    \u001b[49m\u001b[43m)\u001b[49m\n\u001b[0;32m    859\u001b[0m \u001b[38;5;28;01melif\u001b[39;00m (\n\u001b[0;32m    860\u001b[0m     \u001b[38;5;28mself\u001b[39m\u001b[38;5;241m.\u001b[39m_fit_method \u001b[38;5;241m==\u001b[39m \u001b[38;5;124m\"\u001b[39m\u001b[38;5;124mbrute\u001b[39m\u001b[38;5;124m\"\u001b[39m \u001b[38;5;129;01mand\u001b[39;00m \u001b[38;5;28mself\u001b[39m\u001b[38;5;241m.\u001b[39mmetric \u001b[38;5;241m==\u001b[39m \u001b[38;5;124m\"\u001b[39m\u001b[38;5;124mprecomputed\u001b[39m\u001b[38;5;124m\"\u001b[39m \u001b[38;5;129;01mand\u001b[39;00m issparse(X)\n\u001b[0;32m    861\u001b[0m ):\n\u001b[0;32m    862\u001b[0m     results \u001b[38;5;241m=\u001b[39m _kneighbors_from_graph(\n\u001b[0;32m    863\u001b[0m         X, n_neighbors\u001b[38;5;241m=\u001b[39mn_neighbors, return_distance\u001b[38;5;241m=\u001b[39mreturn_distance\n\u001b[0;32m    864\u001b[0m     )\n",
      "File \u001b[1;32m~\\AppData\\Roaming\\Python\\Python312\\site-packages\\sklearn\\metrics\\_pairwise_distances_reduction\\_dispatcher.py:278\u001b[0m, in \u001b[0;36mArgKmin.compute\u001b[1;34m(cls, X, Y, k, metric, chunk_size, metric_kwargs, strategy, return_distance)\u001b[0m\n\u001b[0;32m    197\u001b[0m \u001b[38;5;250m\u001b[39m\u001b[38;5;124;03m\"\"\"Compute the argkmin reduction.\u001b[39;00m\n\u001b[0;32m    198\u001b[0m \n\u001b[0;32m    199\u001b[0m \u001b[38;5;124;03mParameters\u001b[39;00m\n\u001b[1;32m   (...)\u001b[0m\n\u001b[0;32m    275\u001b[0m \u001b[38;5;124;03mreturns.\u001b[39;00m\n\u001b[0;32m    276\u001b[0m \u001b[38;5;124;03m\"\"\"\u001b[39;00m\n\u001b[0;32m    277\u001b[0m \u001b[38;5;28;01mif\u001b[39;00m X\u001b[38;5;241m.\u001b[39mdtype \u001b[38;5;241m==\u001b[39m Y\u001b[38;5;241m.\u001b[39mdtype \u001b[38;5;241m==\u001b[39m np\u001b[38;5;241m.\u001b[39mfloat64:\n\u001b[1;32m--> 278\u001b[0m     \u001b[38;5;28;01mreturn\u001b[39;00m \u001b[43mArgKmin64\u001b[49m\u001b[38;5;241;43m.\u001b[39;49m\u001b[43mcompute\u001b[49m\u001b[43m(\u001b[49m\n\u001b[0;32m    279\u001b[0m \u001b[43m        \u001b[49m\u001b[43mX\u001b[49m\u001b[38;5;241;43m=\u001b[39;49m\u001b[43mX\u001b[49m\u001b[43m,\u001b[49m\n\u001b[0;32m    280\u001b[0m \u001b[43m        \u001b[49m\u001b[43mY\u001b[49m\u001b[38;5;241;43m=\u001b[39;49m\u001b[43mY\u001b[49m\u001b[43m,\u001b[49m\n\u001b[0;32m    281\u001b[0m \u001b[43m        \u001b[49m\u001b[43mk\u001b[49m\u001b[38;5;241;43m=\u001b[39;49m\u001b[43mk\u001b[49m\u001b[43m,\u001b[49m\n\u001b[0;32m    282\u001b[0m \u001b[43m        \u001b[49m\u001b[43mmetric\u001b[49m\u001b[38;5;241;43m=\u001b[39;49m\u001b[43mmetric\u001b[49m\u001b[43m,\u001b[49m\n\u001b[0;32m    283\u001b[0m \u001b[43m        \u001b[49m\u001b[43mchunk_size\u001b[49m\u001b[38;5;241;43m=\u001b[39;49m\u001b[43mchunk_size\u001b[49m\u001b[43m,\u001b[49m\n\u001b[0;32m    284\u001b[0m \u001b[43m        \u001b[49m\u001b[43mmetric_kwargs\u001b[49m\u001b[38;5;241;43m=\u001b[39;49m\u001b[43mmetric_kwargs\u001b[49m\u001b[43m,\u001b[49m\n\u001b[0;32m    285\u001b[0m \u001b[43m        \u001b[49m\u001b[43mstrategy\u001b[49m\u001b[38;5;241;43m=\u001b[39;49m\u001b[43mstrategy\u001b[49m\u001b[43m,\u001b[49m\n\u001b[0;32m    286\u001b[0m \u001b[43m        \u001b[49m\u001b[43mreturn_distance\u001b[49m\u001b[38;5;241;43m=\u001b[39;49m\u001b[43mreturn_distance\u001b[49m\u001b[43m,\u001b[49m\n\u001b[0;32m    287\u001b[0m \u001b[43m    \u001b[49m\u001b[43m)\u001b[49m\n\u001b[0;32m    289\u001b[0m \u001b[38;5;28;01mif\u001b[39;00m X\u001b[38;5;241m.\u001b[39mdtype \u001b[38;5;241m==\u001b[39m Y\u001b[38;5;241m.\u001b[39mdtype \u001b[38;5;241m==\u001b[39m np\u001b[38;5;241m.\u001b[39mfloat32:\n\u001b[0;32m    290\u001b[0m     \u001b[38;5;28;01mreturn\u001b[39;00m ArgKmin32\u001b[38;5;241m.\u001b[39mcompute(\n\u001b[0;32m    291\u001b[0m         X\u001b[38;5;241m=\u001b[39mX,\n\u001b[0;32m    292\u001b[0m         Y\u001b[38;5;241m=\u001b[39mY,\n\u001b[1;32m   (...)\u001b[0m\n\u001b[0;32m    298\u001b[0m         return_distance\u001b[38;5;241m=\u001b[39mreturn_distance,\n\u001b[0;32m    299\u001b[0m     )\n",
      "File \u001b[1;32msklearn\\\\metrics\\\\_pairwise_distances_reduction\\\\_argkmin.pyx:59\u001b[0m, in \u001b[0;36msklearn.metrics._pairwise_distances_reduction._argkmin.ArgKmin64.compute\u001b[1;34m()\u001b[0m\n",
      "File \u001b[1;32m~\\AppData\\Roaming\\Python\\Python312\\site-packages\\threadpoolctl.py:592\u001b[0m, in \u001b[0;36m_ThreadpoolLimiter.__exit__\u001b[1;34m(self, type, value, traceback)\u001b[0m\n\u001b[0;32m    589\u001b[0m \u001b[38;5;28;01mdef\u001b[39;00m \u001b[38;5;21m__enter__\u001b[39m(\u001b[38;5;28mself\u001b[39m):\n\u001b[0;32m    590\u001b[0m     \u001b[38;5;28;01mreturn\u001b[39;00m \u001b[38;5;28mself\u001b[39m\n\u001b[1;32m--> 592\u001b[0m \u001b[38;5;28;01mdef\u001b[39;00m \u001b[38;5;21m__exit__\u001b[39m(\u001b[38;5;28mself\u001b[39m, \u001b[38;5;28mtype\u001b[39m, value, traceback):\n\u001b[0;32m    593\u001b[0m     \u001b[38;5;28mself\u001b[39m\u001b[38;5;241m.\u001b[39mrestore_original_limits()\n\u001b[0;32m    595\u001b[0m \u001b[38;5;129m@classmethod\u001b[39m\n\u001b[0;32m    596\u001b[0m \u001b[38;5;28;01mdef\u001b[39;00m \u001b[38;5;21mwrap\u001b[39m(\u001b[38;5;28mcls\u001b[39m, controller, \u001b[38;5;241m*\u001b[39m, limits\u001b[38;5;241m=\u001b[39m\u001b[38;5;28;01mNone\u001b[39;00m, user_api\u001b[38;5;241m=\u001b[39m\u001b[38;5;28;01mNone\u001b[39;00m):\n",
      "\u001b[1;31mKeyboardInterrupt\u001b[0m: "
     ]
    }
   ],
   "source": [
    "def predict_in_chunks(model, X_test, scaler_y, chunk_size = 100):\n",
    "    y_pred_chunks = []\n",
    "    for start in range(0, len(X_test), chunk_size):\n",
    "        print('prediction for batch: ', start)\n",
    "        end = min(start + chunk_size, len(X_test))\n",
    "        X_chunk = X_test[start:end]\n",
    "        y_pred_chunk_scaled = model.predict(X_chunk)\n",
    "        y_pred_chunk = scaler_y.inverse_transform(y_pred_chunk_scaled.reshape(-1, 1)).ravel()\n",
    "        y_pred_chunks.append(y_pred_chunk)\n",
    "    return np.concatenate(y_pred_chunks)\n",
    "\n",
    "if os.path.exists(knn_y_pred_file):\n",
    "    y_pred_knn = pd.read_pickle(knn_grid_search_path)\n",
    "else:\n",
    "    y_pred_knn = predict_in_chunks(knn, knn_grid_search_data.X_test, knn_grid_search_data.scaler_y)\n",
    "    with open(knn_y_pred_file, 'wb') as model_file:\n",
    "        pickle.dump(y_pred_knn, model_file)"
   ]
  },
  {
   "cell_type": "code",
   "execution_count": 38,
   "metadata": {},
   "outputs": [
    {
     "name": "stdout",
     "output_type": "stream",
     "text": [
      "Regression Metrics:\n",
      "MAE: 74.32445110041895\n",
      "MSE: 6679021.6833524285\n",
      "RMSE: 2584.380328696306\n",
      "R²: -7386761.651781236\n"
     ]
    },
    {
     "name": "stderr",
     "output_type": "stream",
     "text": [
      "C:\\Users\\andon\\AppData\\Roaming\\Python\\Python312\\site-packages\\sklearn\\metrics\\_regression.py:492: FutureWarning: 'squared' is deprecated in version 1.4 and will be removed in 1.6. To calculate the root mean squared error, use the function'root_mean_squared_error'.\n",
      "  warnings.warn(\n"
     ]
    }
   ],
   "source": [
    "y_true = knn_data.y_test\n",
    "\n",
    "mae = mean_absolute_error(y_true, y_pred_knn)\n",
    "mse = mean_squared_error(y_true, y_pred_knn)\n",
    "rmse = mean_squared_error(y_true, y_pred_knn, squared=False)\n",
    "r2 = r2_score(y_true, y_pred_knn)\n",
    "    \n",
    "print(f\"Regression Metrics:\\nMAE: {mae}\\nMSE: {mse}\\nRMSE: {rmse}\\nR²: {r2}\")\n"
   ]
  },
  {
   "cell_type": "markdown",
   "metadata": {},
   "source": [
    "# 4. Conclusion"
   ]
  }
 ],
 "metadata": {
  "kernelspec": {
   "display_name": "Python 3",
   "language": "python",
   "name": "python3"
  },
  "language_info": {
   "codemirror_mode": {
    "name": "ipython",
    "version": 3
   },
   "file_extension": ".py",
   "mimetype": "text/x-python",
   "name": "python",
   "nbconvert_exporter": "python",
   "pygments_lexer": "ipython3",
   "version": "3.12.5"
  }
 },
 "nbformat": 4,
 "nbformat_minor": 2
}
