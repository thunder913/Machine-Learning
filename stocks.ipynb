{
 "cells": [
  {
   "cell_type": "code",
   "execution_count": 364,
   "metadata": {},
   "outputs": [],
   "source": [
    "import numpy as np\n",
    "import os\n",
    "import pandas as pd\n",
    "import re\n",
    "import requests\n",
    "import kagglehub\n",
    "import sys\n",
    "import matplotlib.pyplot as plt\n",
    "\n",
    "from sklearn.metrics import mean_squared_error, mean_absolute_error\n",
    "from sklearn.model_selection import train_test_split\n",
    "from sklearn.ensemble import RandomForestRegressor\n",
    "from sklearn.preprocessing import MinMaxScaler\n",
    "from sklearn.preprocessing import LabelEncoder"
   ]
  },
  {
   "cell_type": "markdown",
   "metadata": {},
   "source": [
    "# Machine Learning Project"
   ]
  },
  {
   "cell_type": "markdown",
   "metadata": {},
   "source": [
    "by Andon Gorchov (@thunderman913)"
   ]
  },
  {
   "cell_type": "code",
   "execution_count": 287,
   "metadata": {},
   "outputs": [
    {
     "name": "stdout",
     "output_type": "stream",
     "text": [
      "Path to dataset files: C:\\Users\\andon\\.cache\\kagglehub\\datasets\\tsaustin\\us-historical-stock-prices-with-earnings-data\\versions\\7\n"
     ]
    }
   ],
   "source": [
    "path = kagglehub.dataset_download(\"tsaustin/us-historical-stock-prices-with-earnings-data\")\n",
    "\n",
    "print(\"Path to dataset files:\", path)"
   ]
  },
  {
   "cell_type": "code",
   "execution_count": 288,
   "metadata": {},
   "outputs": [],
   "source": [
    "earnings_path = f\"{path}\\\\stocks_latest\\\\earnings_latest.csv\"\n",
    "stock_prices_path = f\"{path}\\\\stocks_latest\\\\stock_prices_latest.csv\""
   ]
  },
  {
   "cell_type": "code",
   "execution_count": 289,
   "metadata": {},
   "outputs": [],
   "source": [
    "earnings_data = pd.read_csv(earnings_path)\n",
    "stock_data = pd.read_csv(stock_prices_path)"
   ]
  },
  {
   "cell_type": "code",
   "execution_count": 290,
   "metadata": {},
   "outputs": [],
   "source": [
    "# Function to get the price X days ago\n",
    "def get_price_x_days_ago(df, days):\n",
    "    return df['close'].shift(days)\n",
    "\n",
    "# Function to get peak price and how many days ago it happened\n",
    "def get_peak_price_and_days_ago(df):\n",
    "    df['peak_price'] = df['close'].rolling(window=90, min_periods=1).max()\n",
    "    peak_day_index = df['close'].rolling(window=90, min_periods=1).apply(lambda x: (len(x) - 1 - x.argmax()), raw=False)\n",
    "    df['peak_days_ago'] = peak_day_index.fillna(0).astype(int)  # Fill NaN for rows that don't have enough data\n",
    "    return df\n",
    "\n",
    "# Apply the operations without grouping by ticker\n",
    "def process_ticker_data(df):\n",
    "    # Add columns for prices X days ago\n",
    "    for days in [1,2,3,4,5, 10, 15, 30, 60, 90]:\n",
    "        df[f'price_{days}_days_ago'] = df.groupby('ticker')['close'].shift(days)\n",
    "        df[f'volume_{days}_days_ago'] = df.groupby('ticker')['volume'].shift(days)\n",
    "    \n",
    "    # Get peak price and peak days ago\n",
    "    #df = df.groupby('ticker', group_keys=False).apply(get_peak_price_and_days_ago)\n",
    "    return df"
   ]
  },
  {
   "cell_type": "code",
   "execution_count": 291,
   "metadata": {},
   "outputs": [],
   "source": [
    "def tidyStockData():\n",
    "    file_path = 'stock_data_processed.pkl'\n",
    "\n",
    "    # Check if the file exists\n",
    "    if os.path.exists(file_path):\n",
    "        return pd.read_pickle('stock_data_processed.pkl')\n",
    "\n",
    "    stock_data_tidy = stock_data\n",
    "\n",
    "    stock_data_tidy.date = pd.to_datetime(stock_data_tidy.date)\n",
    "    stock_data_tidy = stock_data_tidy.rename(columns={'symbol': 'ticker'})\n",
    "    stock_data_tidy = stock_data_tidy.drop(columns=['split_coefficient'])\n",
    "\n",
    "    stock_data_tidy = stock_data_tidy[(stock_data_tidy['date'] > (earnings_data_tidy['date'].min() - pd.Timedelta(days=100)))\n",
    "                                    | (stock_data_tidy['date'] < earnings_data_tidy['date'].max() + pd.Timedelta(days=5))]\n",
    "\n",
    "    # Sort the DataFrame by ticker and date\n",
    "    stock_data_tidy = stock_data_tidy.sort_values(by=['ticker', 'date'], ascending=[True, True])\n",
    "\n",
    "    # Process the DataFrame without grouping\n",
    "    stock_data_tidy = process_ticker_data(stock_data_tidy)\n",
    "\n",
    "    stock_data_tidy = stock_data_tidy[stock_data_tidy.price_90_days_ago.isna() == False]\n",
    "    stock_data_tidy.to_pickle('stock_data_processed.pkl')\n",
    "    \n",
    "    return stock_data_tidy"
   ]
  },
  {
   "cell_type": "code",
   "execution_count": 292,
   "metadata": {},
   "outputs": [],
   "source": [
    "stock_data_tidy = tidyStockData()"
   ]
  },
  {
   "cell_type": "code",
   "execution_count": 293,
   "metadata": {},
   "outputs": [],
   "source": [
    "earnings_data_tidy = earnings_data\n",
    "earnings_data_tidy.date = pd.to_datetime(earnings_data_tidy.date)"
   ]
  },
  {
   "cell_type": "code",
   "execution_count": 294,
   "metadata": {},
   "outputs": [],
   "source": [
    "earnings_data_tidy = earnings_data_tidy.rename(columns={'symbol': 'ticker'})"
   ]
  },
  {
   "cell_type": "code",
   "execution_count": 295,
   "metadata": {},
   "outputs": [],
   "source": [
    "earnings_data_tidy = earnings_data_tidy.drop(earnings_data_tidy[(earnings_data_tidy.eps.isna()) | (earnings_data_tidy.eps_est.isna())].index)\n",
    "earnings_data_tidy = earnings_data_tidy.drop(columns=['qtr'])"
   ]
  },
  {
   "cell_type": "code",
   "execution_count": 296,
   "metadata": {},
   "outputs": [],
   "source": [
    "earnings_data_tidy = earnings_data_tidy.rename(columns={'date': 'earnings_date'})"
   ]
  },
  {
   "cell_type": "code",
   "execution_count": 297,
   "metadata": {},
   "outputs": [],
   "source": [
    "earnings_data_tidy['release_time'] = earnings_data_tidy.groupby('ticker')['release_time'].ffill().bfill()"
   ]
  },
  {
   "cell_type": "code",
   "execution_count": 298,
   "metadata": {},
   "outputs": [],
   "source": [
    "# Adding earnings data to stock_data_tidy based on the nearest previous date\n",
    "def add_earnings_data(stock_data, earnings):\n",
    "    # Merge earnings data and stock data on ticker\n",
    "    merged_df = pd.merge_asof(\n",
    "        stock_data.sort_values(by='date'),\n",
    "        earnings.sort_values(by='earnings_date'),\n",
    "        by='ticker',\n",
    "        left_on='date',\n",
    "        right_on='earnings_date',\n",
    "        direction='backward'\n",
    "    )\n",
    "    \n",
    "    # Forward fill to ensure non-trading days are adjusted properly\n",
    "    merged_df = merged_df.sort_values(by=['ticker', 'date'])\n",
    "\n",
    "    # Merge again to get the next earnings date\n",
    "    merged_df = pd.merge_asof(\n",
    "        merged_df.sort_values(by='date'),\n",
    "        earnings[['ticker', 'earnings_date']].sort_values(by='earnings_date'),\n",
    "        by='ticker',\n",
    "        left_on='date',\n",
    "        right_on='earnings_date',\n",
    "        direction='forward',\n",
    "        suffixes=('', '_next'),\n",
    "        allow_exact_matches=False\n",
    "    )\n",
    "    \n",
    "    return merged_df\n",
    "\n",
    "# Add earnings data to stock_data_tidy\n",
    "stock_data_tidy = add_earnings_data(stock_data_tidy, earnings_data_tidy)"
   ]
  },
  {
   "cell_type": "code",
   "execution_count": 299,
   "metadata": {},
   "outputs": [
    {
     "data": {
      "text/html": [
       "<div>\n",
       "<style scoped>\n",
       "    .dataframe tbody tr th:only-of-type {\n",
       "        vertical-align: middle;\n",
       "    }\n",
       "\n",
       "    .dataframe tbody tr th {\n",
       "        vertical-align: top;\n",
       "    }\n",
       "\n",
       "    .dataframe thead th {\n",
       "        text-align: right;\n",
       "    }\n",
       "</style>\n",
       "<table border=\"1\" class=\"dataframe\">\n",
       "  <thead>\n",
       "    <tr style=\"text-align: right;\">\n",
       "      <th></th>\n",
       "      <th>ticker</th>\n",
       "      <th>earnings_date</th>\n",
       "      <th>eps_est</th>\n",
       "      <th>eps</th>\n",
       "      <th>release_time</th>\n",
       "    </tr>\n",
       "  </thead>\n",
       "  <tbody>\n",
       "    <tr>\n",
       "      <th>115962</th>\n",
       "      <td>PAYS</td>\n",
       "      <td>2019-05-07</td>\n",
       "      <td>0.020</td>\n",
       "      <td>0.03</td>\n",
       "      <td>pre</td>\n",
       "    </tr>\n",
       "    <tr>\n",
       "      <th>115963</th>\n",
       "      <td>PAYS</td>\n",
       "      <td>2019-05-08</td>\n",
       "      <td>0.020</td>\n",
       "      <td>0.03</td>\n",
       "      <td>pre</td>\n",
       "    </tr>\n",
       "    <tr>\n",
       "      <th>115964</th>\n",
       "      <td>PAYS</td>\n",
       "      <td>2019-08-06</td>\n",
       "      <td>0.033</td>\n",
       "      <td>0.05</td>\n",
       "      <td>pre</td>\n",
       "    </tr>\n",
       "    <tr>\n",
       "      <th>115965</th>\n",
       "      <td>PAYS</td>\n",
       "      <td>2019-11-05</td>\n",
       "      <td>0.040</td>\n",
       "      <td>0.06</td>\n",
       "      <td>post</td>\n",
       "    </tr>\n",
       "    <tr>\n",
       "      <th>115966</th>\n",
       "      <td>PAYS</td>\n",
       "      <td>2020-04-03</td>\n",
       "      <td>0.060</td>\n",
       "      <td>0.05</td>\n",
       "      <td>pre</td>\n",
       "    </tr>\n",
       "    <tr>\n",
       "      <th>115967</th>\n",
       "      <td>PAYS</td>\n",
       "      <td>2020-08-13</td>\n",
       "      <td>0.035</td>\n",
       "      <td>0.01</td>\n",
       "      <td>post</td>\n",
       "    </tr>\n",
       "    <tr>\n",
       "      <th>115968</th>\n",
       "      <td>PAYS</td>\n",
       "      <td>2020-11-17</td>\n",
       "      <td>0.018</td>\n",
       "      <td>-0.14</td>\n",
       "      <td>pre</td>\n",
       "    </tr>\n",
       "    <tr>\n",
       "      <th>115969</th>\n",
       "      <td>PAYS</td>\n",
       "      <td>2021-03-25</td>\n",
       "      <td>0.013</td>\n",
       "      <td>0.01</td>\n",
       "      <td>pre</td>\n",
       "    </tr>\n",
       "    <tr>\n",
       "      <th>115970</th>\n",
       "      <td>PAYS</td>\n",
       "      <td>2021-05-11</td>\n",
       "      <td>0.013</td>\n",
       "      <td>-0.01</td>\n",
       "      <td>post</td>\n",
       "    </tr>\n",
       "  </tbody>\n",
       "</table>\n",
       "</div>"
      ],
      "text/plain": [
       "       ticker earnings_date  eps_est   eps release_time\n",
       "115962   PAYS    2019-05-07    0.020  0.03          pre\n",
       "115963   PAYS    2019-05-08    0.020  0.03          pre\n",
       "115964   PAYS    2019-08-06    0.033  0.05          pre\n",
       "115965   PAYS    2019-11-05    0.040  0.06         post\n",
       "115966   PAYS    2020-04-03    0.060  0.05          pre\n",
       "115967   PAYS    2020-08-13    0.035  0.01         post\n",
       "115968   PAYS    2020-11-17    0.018 -0.14          pre\n",
       "115969   PAYS    2021-03-25    0.013  0.01          pre\n",
       "115970   PAYS    2021-05-11    0.013 -0.01         post"
      ]
     },
     "execution_count": 299,
     "metadata": {},
     "output_type": "execute_result"
    }
   ],
   "source": [
    "earnings_data_tidy[earnings_data_tidy.ticker == 'PAYS']"
   ]
  },
  {
   "cell_type": "code",
   "execution_count": 300,
   "metadata": {},
   "outputs": [],
   "source": [
    "stock_data_tidy = stock_data_tidy.drop(stock_data_tidy[(stock_data_tidy.earnings_date.isna()) | (stock_data_tidy.earnings_date_next.isna())].index)"
   ]
  },
  {
   "cell_type": "code",
   "execution_count": 301,
   "metadata": {},
   "outputs": [],
   "source": [
    "stock_data_tidy['days_till_report'] = (stock_data_tidy['earnings_date_next'] - stock_data_tidy['date']).dt.days\n",
    "stock_data_tidy['days_since_report'] = (stock_data_tidy['date'] - stock_data_tidy['earnings_date']).dt.days"
   ]
  },
  {
   "cell_type": "code",
   "execution_count": 302,
   "metadata": {},
   "outputs": [
    {
     "data": {
      "text/html": [
       "<div>\n",
       "<style scoped>\n",
       "    .dataframe tbody tr th:only-of-type {\n",
       "        vertical-align: middle;\n",
       "    }\n",
       "\n",
       "    .dataframe tbody tr th {\n",
       "        vertical-align: top;\n",
       "    }\n",
       "\n",
       "    .dataframe thead th {\n",
       "        text-align: right;\n",
       "    }\n",
       "</style>\n",
       "<table border=\"1\" class=\"dataframe\">\n",
       "  <thead>\n",
       "    <tr style=\"text-align: right;\">\n",
       "      <th></th>\n",
       "      <th>ticker</th>\n",
       "      <th>date</th>\n",
       "      <th>earnings_date</th>\n",
       "      <th>earnings_date_next</th>\n",
       "      <th>days_till_report</th>\n",
       "      <th>days_since_report</th>\n",
       "    </tr>\n",
       "  </thead>\n",
       "  <tbody>\n",
       "    <tr>\n",
       "      <th>0</th>\n",
       "      <td>A</td>\n",
       "      <td>2012-12-26</td>\n",
       "      <td>2012-11-19</td>\n",
       "      <td>2013-02-14</td>\n",
       "      <td>50</td>\n",
       "      <td>37</td>\n",
       "    </tr>\n",
       "    <tr>\n",
       "      <th>2</th>\n",
       "      <td>PAR</td>\n",
       "      <td>2012-12-26</td>\n",
       "      <td>2012-11-05</td>\n",
       "      <td>2013-02-14</td>\n",
       "      <td>50</td>\n",
       "      <td>51</td>\n",
       "    </tr>\n",
       "    <tr>\n",
       "      <th>3</th>\n",
       "      <td>AIZ</td>\n",
       "      <td>2012-12-26</td>\n",
       "      <td>2012-10-24</td>\n",
       "      <td>2013-02-06</td>\n",
       "      <td>42</td>\n",
       "      <td>63</td>\n",
       "    </tr>\n",
       "    <tr>\n",
       "      <th>7</th>\n",
       "      <td>PAYX</td>\n",
       "      <td>2012-12-26</td>\n",
       "      <td>2012-12-19</td>\n",
       "      <td>2013-03-27</td>\n",
       "      <td>91</td>\n",
       "      <td>7</td>\n",
       "    </tr>\n",
       "    <tr>\n",
       "      <th>8</th>\n",
       "      <td>PB</td>\n",
       "      <td>2012-12-26</td>\n",
       "      <td>2012-10-24</td>\n",
       "      <td>2013-01-25</td>\n",
       "      <td>30</td>\n",
       "      <td>63</td>\n",
       "    </tr>\n",
       "    <tr>\n",
       "      <th>...</th>\n",
       "      <td>...</td>\n",
       "      <td>...</td>\n",
       "      <td>...</td>\n",
       "      <td>...</td>\n",
       "      <td>...</td>\n",
       "      <td>...</td>\n",
       "    </tr>\n",
       "    <tr>\n",
       "      <th>11762357</th>\n",
       "      <td>RFIL</td>\n",
       "      <td>2021-06-10</td>\n",
       "      <td>2021-03-11</td>\n",
       "      <td>2021-06-14</td>\n",
       "      <td>4</td>\n",
       "      <td>91</td>\n",
       "    </tr>\n",
       "    <tr>\n",
       "      <th>11762404</th>\n",
       "      <td>CODA</td>\n",
       "      <td>2021-06-10</td>\n",
       "      <td>2021-03-17</td>\n",
       "      <td>2021-06-14</td>\n",
       "      <td>4</td>\n",
       "      <td>85</td>\n",
       "    </tr>\n",
       "    <tr>\n",
       "      <th>11762995</th>\n",
       "      <td>ADXS</td>\n",
       "      <td>2021-06-11</td>\n",
       "      <td>2020-09-10</td>\n",
       "      <td>2021-06-14</td>\n",
       "      <td>3</td>\n",
       "      <td>274</td>\n",
       "    </tr>\n",
       "    <tr>\n",
       "      <th>11764002</th>\n",
       "      <td>RFIL</td>\n",
       "      <td>2021-06-11</td>\n",
       "      <td>2021-03-11</td>\n",
       "      <td>2021-06-14</td>\n",
       "      <td>3</td>\n",
       "      <td>92</td>\n",
       "    </tr>\n",
       "    <tr>\n",
       "      <th>11764687</th>\n",
       "      <td>CODA</td>\n",
       "      <td>2021-06-11</td>\n",
       "      <td>2021-03-17</td>\n",
       "      <td>2021-06-14</td>\n",
       "      <td>3</td>\n",
       "      <td>86</td>\n",
       "    </tr>\n",
       "  </tbody>\n",
       "</table>\n",
       "<p>6827124 rows × 6 columns</p>\n",
       "</div>"
      ],
      "text/plain": [
       "         ticker       date earnings_date earnings_date_next  days_till_report  \\\n",
       "0             A 2012-12-26    2012-11-19         2013-02-14                50   \n",
       "2           PAR 2012-12-26    2012-11-05         2013-02-14                50   \n",
       "3           AIZ 2012-12-26    2012-10-24         2013-02-06                42   \n",
       "7          PAYX 2012-12-26    2012-12-19         2013-03-27                91   \n",
       "8            PB 2012-12-26    2012-10-24         2013-01-25                30   \n",
       "...         ...        ...           ...                ...               ...   \n",
       "11762357   RFIL 2021-06-10    2021-03-11         2021-06-14                 4   \n",
       "11762404   CODA 2021-06-10    2021-03-17         2021-06-14                 4   \n",
       "11762995   ADXS 2021-06-11    2020-09-10         2021-06-14                 3   \n",
       "11764002   RFIL 2021-06-11    2021-03-11         2021-06-14                 3   \n",
       "11764687   CODA 2021-06-11    2021-03-17         2021-06-14                 3   \n",
       "\n",
       "          days_since_report  \n",
       "0                        37  \n",
       "2                        51  \n",
       "3                        63  \n",
       "7                         7  \n",
       "8                        63  \n",
       "...                     ...  \n",
       "11762357                 91  \n",
       "11762404                 85  \n",
       "11762995                274  \n",
       "11764002                 92  \n",
       "11764687                 86  \n",
       "\n",
       "[6827124 rows x 6 columns]"
      ]
     },
     "execution_count": 302,
     "metadata": {},
     "output_type": "execute_result"
    }
   ],
   "source": [
    "stock_data_tidy[['ticker','date', 'earnings_date', 'earnings_date_next', 'days_till_report', 'days_since_report']]"
   ]
  },
  {
   "cell_type": "markdown",
   "metadata": {},
   "source": [
    "We remove data with more than 120 days on both next and previous report, since that is useless data for our case"
   ]
  },
  {
   "cell_type": "code",
   "execution_count": 303,
   "metadata": {},
   "outputs": [],
   "source": [
    "stock_data_tidy = stock_data_tidy.drop(stock_data_tidy[(stock_data_tidy.days_till_report > 120) & (stock_data_tidy.days_since_report > 120)].index)"
   ]
  },
  {
   "cell_type": "code",
   "execution_count": 304,
   "metadata": {},
   "outputs": [],
   "source": [
    "stock_data_tidy = stock_data_tidy.drop(columns=['open', 'high', 'low', 'close_adjusted', 'volume'])"
   ]
  },
  {
   "cell_type": "code",
   "execution_count": 305,
   "metadata": {},
   "outputs": [],
   "source": [
    "le = LabelEncoder()\n",
    "stock_data_tidy['ticker_encoded'] = le.fit_transform(stock_data_tidy['ticker'])"
   ]
  },
  {
   "cell_type": "code",
   "execution_count": 306,
   "metadata": {},
   "outputs": [],
   "source": [
    "features = [\n",
    "    'ticker_encoded', 'peak_price', 'peak_days_ago', 'price_1_days_ago', 'volume_1_days_ago',\n",
    "    'price_2_days_ago', 'volume_2_days_ago', 'price_3_days_ago', 'volume_3_days_ago',\n",
    "    'price_4_days_ago', 'volume_4_days_ago', 'price_5_days_ago', 'volume_5_days_ago',\n",
    "    'price_10_days_ago', 'volume_10_days_ago', 'price_15_days_ago', 'volume_15_days_ago',\n",
    "    'price_30_days_ago', 'volume_30_days_ago', 'price_60_days_ago', 'volume_60_days_ago',\n",
    "    'price_90_days_ago', 'volume_90_days_ago', 'eps_est', 'eps', 'days_till_report', 'days_since_report'\n",
    "]"
   ]
  },
  {
   "cell_type": "code",
   "execution_count": 307,
   "metadata": {},
   "outputs": [
    {
     "name": "stdout",
     "output_type": "stream",
     "text": [
      "Training Score: 0.9999504607977218\n",
      "Mean Squared Error: 1304.1183162887\n"
     ]
    }
   ],
   "source": [
    "# Apply a scaler to price-related columns to normalize them\n",
    "scaler = MinMaxScaler()\n",
    "\n",
    "price_columns = [\n",
    "    'peak_price', 'price_1_days_ago', 'price_2_days_ago', 'price_3_days_ago', 'price_4_days_ago',\n",
    "    'price_5_days_ago', 'price_10_days_ago', 'price_15_days_ago', 'price_30_days_ago',\n",
    "    'price_60_days_ago', 'price_90_days_ago', 'eps_est', 'eps'\n",
    "]\n",
    "target = 'close'\n",
    "\n",
    "# Drop rows with NaN values in the features or target columns\n",
    "stock_data_tidy = stock_data_tidy.dropna(subset=features + [target])\n",
    "\n",
    "# Split the data into 80% for training and 20% for final testing\n",
    "X = stock_data_tidy[features]\n",
    "y = stock_data_tidy[target]\n",
    "\n",
    "X = scaler.fit_transform(X)\n",
    "\n",
    "X_main, X_final_test, y_main, y_final_test = train_test_split(X, y, test_size=0.2, random_state=42)\n",
    "\n",
    "# Split the remaining 80% data into 80% training and 20% validation (i.e., 64% train, 16% validation overall)\n",
    "X_train, X_test, y_train, y_test = train_test_split(X_main, y_main, test_size=0.2, random_state=42)\n",
    "\n",
    "# Train a RandomForestRegressor model\n",
    "forest_model = RandomForestRegressor(n_estimators=1, random_state=42)\n",
    "forest_model.fit(X_train, y_train)\n",
    "\n",
    "# Score the model on the training data\n",
    "train_score = forest_model.score(X_train, y_train)\n",
    "print(f\"Training Score: {train_score}\")\n",
    "\n",
    "# Make predictions on the test set\n",
    "y_pred = forest_model.predict(X_test)\n",
    "\n",
    "# Calculate and print the mean squared error\n",
    "mse = np.mean((y_test - y_pred) ** 2)\n",
    "print(f\"Mean Squared Error: {mse}\")"
   ]
  },
  {
   "cell_type": "code",
   "execution_count": 367,
   "metadata": {},
   "outputs": [],
   "source": [
    "train_score = forest_model.score(X_final_test, y_final_test)\n",
    "print(f\"Training Score: {train_score}\")"
   ]
  },
  {
   "cell_type": "code",
   "execution_count": 309,
   "metadata": {},
   "outputs": [
    {
     "name": "stdout",
     "output_type": "stream",
     "text": [
      "Training Score: 0.9999504607977218\n"
     ]
    }
   ],
   "source": [
    "train_score = forest_model.score(X_train, y_train)\n",
    "print(f\"Training Score: {train_score}\")"
   ]
  },
  {
   "cell_type": "code",
   "execution_count": 310,
   "metadata": {},
   "outputs": [
    {
     "data": {
      "text/plain": [
       "array(['AAPL'], dtype=object)"
      ]
     },
     "execution_count": 310,
     "metadata": {},
     "output_type": "execute_result"
    }
   ],
   "source": [
    "le.inverse_transform([9])"
   ]
  },
  {
   "cell_type": "code",
   "execution_count": 311,
   "metadata": {},
   "outputs": [
    {
     "data": {
      "text/plain": [
       "310322    426.98\n",
       "Name: close, dtype: float64"
      ]
     },
     "execution_count": 311,
     "metadata": {},
     "output_type": "execute_result"
    }
   ],
   "source": [
    "y_final_test[y_final_test.index == 310322]"
   ]
  },
  {
   "cell_type": "code",
   "execution_count": 312,
   "metadata": {},
   "outputs": [],
   "source": [
    "test = pd.DataFrame(X_final_test)\n",
    "to_predict = test[test.index == 310322]"
   ]
  },
  {
   "cell_type": "code",
   "execution_count": 313,
   "metadata": {},
   "outputs": [
    {
     "data": {
      "text/plain": [
       "array([87.47])"
      ]
     },
     "execution_count": 313,
     "metadata": {},
     "output_type": "execute_result"
    }
   ],
   "source": [
    "forest_model.predict(to_predict)"
   ]
  },
  {
   "cell_type": "code",
   "execution_count": 319,
   "metadata": {},
   "outputs": [
    {
     "name": "stdout",
     "output_type": "stream",
     "text": [
      "Predicted closing price for AAPL on May 10, 2024: [array([183.38, 183.38, 183.38, ..., 183.38, 183.38, 183.38])]\n"
     ]
    },
    {
     "name": "stderr",
     "output_type": "stream",
     "text": [
      "C:\\Users\\andon\\AppData\\Roaming\\Python\\Python312\\site-packages\\sklearn\\base.py:486: UserWarning: X has feature names, but RandomForestRegressor was fitted without feature names\n",
      "  warnings.warn(\n"
     ]
    }
   ],
   "source": [
    "aapl_data = {\n",
    "    'ticker': ['AAPL'],\n",
    "    'date': [pd.to_datetime('2024-05-10')],\n",
    "    'peak_price': [183.38],  # Example value\n",
    "    'peak_days_ago': [5],   # Example value\n",
    "    'price_1_days_ago': [184.57],  # Example value\n",
    "    'volume_1_days_ago': [48983000],  # Example value\n",
    "    'price_2_days_ago': [182.74],  # Example value\n",
    "    'volume_2_days_ago': [45057100],  # Example value\n",
    "    'price_3_days_ago': [182.40],  # Example value\n",
    "    'volume_3_days_ago': [77305800],  # Example value\n",
    "    'price_4_days_ago': [181.71],  # Example value\n",
    "    'volume_4_days_ago': [78569700],  # Example value\n",
    "    'price_5_days_ago': [183.38],  # Example value\n",
    "    'volume_5_days_ago': [163224100],  # Example value\n",
    "    'price_10_days_ago': [160.89],  # Example value\n",
    "    'volume_10_days_ago': [65934800],  # Example value\n",
    "    'price_15_days_ago': [167.04],  # Example value\n",
    "    'volume_15_days_ago': [49537800],  # Example value\n",
    "    'price_30_days_ago': [169.24],  # Example value\n",
    "    'volume_30_days_ago': [91070300],  # Example value\n",
    "    'price_60_days_ago': [172.75],  # Example value\n",
    "    'volume_60_days_ago': [60139500],  # Example value\n",
    "    'price_90_days_ago': [183.86],  # Example value\n",
    "    'volume_90_days_ago': [65454500],  # Example value\n",
    "    'eps_est': [1.34],\n",
    "    'eps': [1.4], \n",
    "    'days_till_report': [89],\n",
    "    'days_since_report': [5],\n",
    "    'ticker_encoded': [5]\n",
    "}\n",
    "\n",
    "# Convert to DataFrame\n",
    "aapl_df = pd.DataFrame(aapl_data)\n",
    "\n",
    "price_columns = [\n",
    "    'peak_price', 'price_1_days_ago', 'price_2_days_ago', 'price_3_days_ago', 'price_4_days_ago',\n",
    "    'price_5_days_ago', 'price_10_days_ago', 'price_15_days_ago', 'price_30_days_ago',\n",
    "    'price_60_days_ago', 'price_90_days_ago', 'eps_est', 'eps'\n",
    "]\n",
    "\n",
    "# Fit and transform the price-related columns\n",
    "aapl_df[price_columns] = scaler.fit_transform(aapl_df[price_columns])\n",
    "\n",
    "\n",
    "# Predict the closing price\n",
    "aapl_features = aapl_df[features]\n",
    "predicted_close = forest_model.predict(aapl_features)\n",
    "\n",
    "print(f\"Predicted closing price for AAPL on May 10, 2024: {[y_pred]}\")"
   ]
  },
  {
   "cell_type": "code",
   "execution_count": 321,
   "metadata": {},
   "outputs": [
    {
     "data": {
      "text/plain": [
       "np.float64(1.92)"
      ]
     },
     "execution_count": 321,
     "metadata": {},
     "output_type": "execute_result"
    }
   ],
   "source": [
    "predicted_close[0]"
   ]
  },
  {
   "cell_type": "code",
   "execution_count": 322,
   "metadata": {},
   "outputs": [
    {
     "data": {
      "image/png": "[encoded data removed]",
      "text/plain": [
       "<Figure size 640x480 with 1 Axes>"
      ]
     },
     "metadata": {},
     "output_type": "display_data"
    }
   ],
   "source": [
    "std = np.std([tree.feature_importances_ for tree in forest_model.estimators_], axis=0)\n",
    "\n",
    "importances = forest_model.feature_importances_\n",
    "feature_names = [f\"feature {i}\" for i in range(X.shape[1])]\n",
    "forest_importances = pd.Series(importances, index=features)\n",
    "fig, ax = plt.subplots()\n",
    "forest_importances.plot.bar(yerr=std, ax=ax)\n",
    "ax.set_title(\"Feature importances using MDI\")\n",
    "ax.set_ylabel(\"Mean decrease in impurity\")\n",
    "fig.tight_layout()"
   ]
  },
  {
   "cell_type": "code",
   "execution_count": 325,
   "metadata": {},
   "outputs": [
    {
     "name": "stdout",
     "output_type": "stream",
     "text": [
      "Training Score: 0.9999340079779602\n",
      "Mean Squared Error: 8333494.033319481\n"
     ]
    },
    {
     "data": {
      "image/png": "[encoded data removed]",
      "text/plain": [
       "<Figure size 1000x600 with 1 Axes>"
      ]
     },
     "metadata": {},
     "output_type": "display_data"
    }
   ],
   "source": [
    "from sklearn.linear_model import LinearRegression\n",
    "\n",
    "linear_model = LinearRegression()\n",
    "linear_model.fit(X_train, y_train)\n",
    "\n",
    "# Score the model on the training data\n",
    "train_score = linear_model.score(X_train, y_train)\n",
    "print(f\"Training Score: {train_score}\")\n",
    "\n",
    "# Make predictions on the test set\n",
    "y_pred_scaled = linear_model.predict(X_test)\n",
    "\n",
    "# Inverse transform the predictions to convert back to actual prices\n",
    "y_pred = y_pred_scaled * (scaler.data_max_[0] - scaler.data_min_[0]) + scaler.data_min_[0]\n",
    "\n",
    "# Calculate and print the mean squared error\n",
    "mse = np.mean((y_test - y_pred) ** 2)\n",
    "print(f\"Mean Squared Error: {mse}\")\n",
    "\n",
    "# Linear regression does not provide feature importances in the same way as RandomForest\n",
    "# Instead, we can look at the coefficients\n",
    "coefficients = pd.Series(linear_model.coef_, index=feature_names).sort_values(ascending=False)\n",
    "\n",
    "plt.figure(figsize=(10, 6))\n",
    "coefficients.plot(kind='bar')\n",
    "plt.title('Feature Coefficients')\n",
    "plt.ylabel('Coefficient Value')\n",
    "plt.xlabel('Feature')\n",
    "plt.tight_layout()\n",
    "plt.show()"
   ]
  },
  {
   "cell_type": "code",
   "execution_count": 326,
   "metadata": {},
   "outputs": [
    {
     "name": "stdout",
     "output_type": "stream",
     "text": [
      "Training Score: 0.9999007040346868\n"
     ]
    }
   ],
   "source": [
    "train_score = linear_model.score(X_final_test, y_final_test)\n",
    "print(f\"Training Score: {train_score}\")"
   ]
  },
  {
   "cell_type": "code",
   "execution_count": 348,
   "metadata": {},
   "outputs": [
    {
     "data": {
      "text/plain": [
       "27"
      ]
     },
     "execution_count": 348,
     "metadata": {},
     "output_type": "execute_result"
    }
   ],
   "source": []
  },
  {
   "cell_type": "code",
   "execution_count": 355,
   "metadata": {},
   "outputs": [
    {
     "data": {
      "text/plain": [
       "array([128.4002134])"
      ]
     },
     "execution_count": 355,
     "metadata": {},
     "output_type": "execute_result"
    }
   ],
   "source": [
    "X_final_test[1].__len__()\n",
    "predicted_close = linear_model.predict(X_final_test[1306716].reshape(1,-1))\n",
    "predicted_close"
   ]
  },
  {
   "cell_type": "code",
   "execution_count": 347,
   "metadata": {},
   "outputs": [
    {
     "data": {
      "text/plain": [
       "2104983      11.16\n",
       "8425994       6.25\n",
       "3930903      12.32\n",
       "313824       86.38\n",
       "7315858      60.65\n",
       "             ...  \n",
       "11549401     87.31\n",
       "2077750     124.95\n",
       "6411334       2.19\n",
       "10796317      6.45\n",
       "6562787     156.38\n",
       "Name: close, Length: 1306720, dtype: float64"
      ]
     },
     "execution_count": 347,
     "metadata": {},
     "output_type": "execute_result"
    }
   ],
   "source": [
    "y_final_test"
   ]
  },
  {
   "cell_type": "code",
   "execution_count": 362,
   "metadata": {},
   "outputs": [
    {
     "data": {
      "text/plain": [
       "0.9997892571422367"
      ]
     },
     "execution_count": 362,
     "metadata": {},
     "output_type": "execute_result"
    }
   ],
   "source": [
    "forest_model.score(X_final_test, y_final_test)"
   ]
  },
  {
   "cell_type": "code",
   "execution_count": 359,
   "metadata": {},
   "outputs": [
    {
     "data": {
      "text/plain": [
       "array([156.47])"
      ]
     },
     "execution_count": 359,
     "metadata": {},
     "output_type": "execute_result"
    }
   ],
   "source": [
    "X_final_test[1].__len__()\n",
    "predicted_close = forest_model.predict(X_final_test[1306719].reshape(1,-1))\n",
    "predicted_close"
   ]
  },
  {
   "cell_type": "code",
   "execution_count": 369,
   "metadata": {},
   "outputs": [
    {
     "data": {
      "text/plain": [
       "np.float64(79.27421331343209)"
      ]
     },
     "execution_count": 369,
     "metadata": {},
     "output_type": "execute_result"
    }
   ],
   "source": [
    "stock_data_tidy.close.mean()"
   ]
  },
  {
   "cell_type": "code",
   "execution_count": 368,
   "metadata": {},
   "outputs": [
    {
     "name": "stdout",
     "output_type": "stream",
     "text": [
      "MSE of testing set: 1304.1183162887\n",
      "MAE of testing set: 1.2342498383356797\n",
      "RMSE of testing set: 36.11257836666748\n"
     ]
    }
   ],
   "source": [
    "from sklearn.metrics import mean_absolute_error\n",
    "\n",
    "# Calculate MSE (Lower better)\n",
    "mse = mean_squared_error(y_test, y_pred)\n",
    "print(\"MSE of testing set:\", mse)\n",
    "\n",
    "# Calculate MAE\n",
    "mae = mean_absolute_error(y_test, y_pred)\n",
    "print(\"MAE of testing set:\", mae)\n",
    "\n",
    "# Calculate RMSE (Lower better)\n",
    "rmse = np.sqrt(mse)\n",
    "print(\"RMSE of testing set:\", rmse)"
   ]
  },
  {
   "cell_type": "code",
   "execution_count": 377,
   "metadata": {},
   "outputs": [
    {
     "name": "stdout",
     "output_type": "stream",
     "text": [
      "Fitting 3 folds for each of 5 candidates, totalling 15 fits\n"
     ]
    }
   ],
   "source": [
    "from sklearn.model_selection import RandomizedSearchCV\n",
    "from sklearn.ensemble import RandomForestRegressor\n",
    "\n",
    "param_distributions = {\n",
    "    'n_estimators': [100, 200, 500],\n",
    "    'max_depth': [None, 10, 20, 30],\n",
    "    'min_samples_split': [2, 5, 10],\n",
    "    'min_samples_leaf': [1, 2, 4]\n",
    "}\n",
    "random_search = RandomizedSearchCV(estimator=RandomForestRegressor(random_state=42),\n",
    "                                   param_distributions=param_distributions,\n",
    "                                   n_iter=5, cv=3, n_jobs=-1, verbose=2, random_state=42)\n",
    "random_search.fit(X_train[:10000], y_train[:10000])\n",
    "forest_model = random_search.best_estimator_\n"
   ]
  },
  {
   "cell_type": "code",
   "execution_count": 381,
   "metadata": {},
   "outputs": [
    {
     "data": {
      "text/html": [
       "<style>#sk-container-id-3 {\n",
       "  /* Definition of color scheme common for light and dark mode */\n",
       "  --sklearn-color-text: black;\n",
       "  --sklearn-color-line: gray;\n",
       "  /* Definition of color scheme for unfitted estimators */\n",
       "  --sklearn-color-unfitted-level-0: #fff5e6;\n",
       "  --sklearn-color-unfitted-level-1: #f6e4d2;\n",
       "  --sklearn-color-unfitted-level-2: #ffe0b3;\n",
       "  --sklearn-color-unfitted-level-3: chocolate;\n",
       "  /* Definition of color scheme for fitted estimators */\n",
       "  --sklearn-color-fitted-level-0: #f0f8ff;\n",
       "  --sklearn-color-fitted-level-1: #d4ebff;\n",
       "  --sklearn-color-fitted-level-2: #b3dbfd;\n",
       "  --sklearn-color-fitted-level-3: cornflowerblue;\n",
       "\n",
       "  /* Specific color for light theme */\n",
       "  --sklearn-color-text-on-default-background: var(--sg-text-color, var(--theme-code-foreground, var(--jp-content-font-color1, black)));\n",
       "  --sklearn-color-background: var(--sg-background-color, var(--theme-background, var(--jp-layout-color0, white)));\n",
       "  --sklearn-color-border-box: var(--sg-text-color, var(--theme-code-foreground, var(--jp-content-font-color1, black)));\n",
       "  --sklearn-color-icon: #696969;\n",
       "\n",
       "  @media (prefers-color-scheme: dark) {\n",
       "    /* Redefinition of color scheme for dark theme */\n",
       "    --sklearn-color-text-on-default-background: var(--sg-text-color, var(--theme-code-foreground, var(--jp-content-font-color1, white)));\n",
       "    --sklearn-color-background: var(--sg-background-color, var(--theme-background, var(--jp-layout-color0, #111)));\n",
       "    --sklearn-color-border-box: var(--sg-text-color, var(--theme-code-foreground, var(--jp-content-font-color1, white)));\n",
       "    --sklearn-color-icon: #878787;\n",
       "  }\n",
       "}\n",
       "\n",
       "#sk-container-id-3 {\n",
       "  color: var(--sklearn-color-text);\n",
       "}\n",
       "\n",
       "#sk-container-id-3 pre {\n",
       "  padding: 0;\n",
       "}\n",
       "\n",
       "#sk-container-id-3 input.sk-hidden--visually {\n",
       "  border: 0;\n",
       "  clip: rect(1px 1px 1px 1px);\n",
       "  clip: rect(1px, 1px, 1px, 1px);\n",
       "  height: 1px;\n",
       "  margin: -1px;\n",
       "  overflow: hidden;\n",
       "  padding: 0;\n",
       "  position: absolute;\n",
       "  width: 1px;\n",
       "}\n",
       "\n",
       "#sk-container-id-3 div.sk-dashed-wrapped {\n",
       "  border: 1px dashed var(--sklearn-color-line);\n",
       "  margin: 0 0.4em 0.5em 0.4em;\n",
       "  box-sizing: border-box;\n",
       "  padding-bottom: 0.4em;\n",
       "  background-color: var(--sklearn-color-background);\n",
       "}\n",
       "\n",
       "#sk-container-id-3 div.sk-container {\n",
       "  /* jupyter's `normalize.less` sets `[hidden] { display: none; }`\n",
       "     but bootstrap.min.css set `[hidden] { display: none !important; }`\n",
       "     so we also need the `!important` here to be able to override the\n",
       "     default hidden behavior on the sphinx rendered scikit-learn.org.\n",
       "     See: https://github.com/scikit-learn/scikit-learn/issues/21755 */\n",
       "  display: inline-block !important;\n",
       "  position: relative;\n",
       "}\n",
       "\n",
       "#sk-container-id-3 div.sk-text-repr-fallback {\n",
       "  display: none;\n",
       "}\n",
       "\n",
       "div.sk-parallel-item,\n",
       "div.sk-serial,\n",
       "div.sk-item {\n",
       "  /* draw centered vertical line to link estimators */\n",
       "  background-image: linear-gradient(var(--sklearn-color-text-on-default-background), var(--sklearn-color-text-on-default-background));\n",
       "  background-size: 2px 100%;\n",
       "  background-repeat: no-repeat;\n",
       "  background-position: center center;\n",
       "}\n",
       "\n",
       "/* Parallel-specific style estimator block */\n",
       "\n",
       "#sk-container-id-3 div.sk-parallel-item::after {\n",
       "  content: \"\";\n",
       "  width: 100%;\n",
       "  border-bottom: 2px solid var(--sklearn-color-text-on-default-background);\n",
       "  flex-grow: 1;\n",
       "}\n",
       "\n",
       "#sk-container-id-3 div.sk-parallel {\n",
       "  display: flex;\n",
       "  align-items: stretch;\n",
       "  justify-content: center;\n",
       "  background-color: var(--sklearn-color-background);\n",
       "  position: relative;\n",
       "}\n",
       "\n",
       "#sk-container-id-3 div.sk-parallel-item {\n",
       "  display: flex;\n",
       "  flex-direction: column;\n",
       "}\n",
       "\n",
       "#sk-container-id-3 div.sk-parallel-item:first-child::after {\n",
       "  align-self: flex-end;\n",
       "  width: 50%;\n",
       "}\n",
       "\n",
       "#sk-container-id-3 div.sk-parallel-item:last-child::after {\n",
       "  align-self: flex-start;\n",
       "  width: 50%;\n",
       "}\n",
       "\n",
       "#sk-container-id-3 div.sk-parallel-item:only-child::after {\n",
       "  width: 0;\n",
       "}\n",
       "\n",
       "/* Serial-specific style estimator block */\n",
       "\n",
       "#sk-container-id-3 div.sk-serial {\n",
       "  display: flex;\n",
       "  flex-direction: column;\n",
       "  align-items: center;\n",
       "  background-color: var(--sklearn-color-background);\n",
       "  padding-right: 1em;\n",
       "  padding-left: 1em;\n",
       "}\n",
       "\n",
       "\n",
       "/* Toggleable style: style used for estimator/Pipeline/ColumnTransformer box that is\n",
       "clickable and can be expanded/collapsed.\n",
       "- Pipeline and ColumnTransformer use this feature and define the default style\n",
       "- Estimators will overwrite some part of the style using the `sk-estimator` class\n",
       "*/\n",
       "\n",
       "/* Pipeline and ColumnTransformer style (default) */\n",
       "\n",
       "#sk-container-id-3 div.sk-toggleable {\n",
       "  /* Default theme specific background. It is overwritten whether we have a\n",
       "  specific estimator or a Pipeline/ColumnTransformer */\n",
       "  background-color: var(--sklearn-color-background);\n",
       "}\n",
       "\n",
       "/* Toggleable label */\n",
       "#sk-container-id-3 label.sk-toggleable__label {\n",
       "  cursor: pointer;\n",
       "  display: block;\n",
       "  width: 100%;\n",
       "  margin-bottom: 0;\n",
       "  padding: 0.5em;\n",
       "  box-sizing: border-box;\n",
       "  text-align: center;\n",
       "}\n",
       "\n",
       "#sk-container-id-3 label.sk-toggleable__label-arrow:before {\n",
       "  /* Arrow on the left of the label */\n",
       "  content: \"▸\";\n",
       "  float: left;\n",
       "  margin-right: 0.25em;\n",
       "  color: var(--sklearn-color-icon);\n",
       "}\n",
       "\n",
       "#sk-container-id-3 label.sk-toggleable__label-arrow:hover:before {\n",
       "  color: var(--sklearn-color-text);\n",
       "}\n",
       "\n",
       "/* Toggleable content - dropdown */\n",
       "\n",
       "#sk-container-id-3 div.sk-toggleable__content {\n",
       "  max-height: 0;\n",
       "  max-width: 0;\n",
       "  overflow: hidden;\n",
       "  text-align: left;\n",
       "  /* unfitted */\n",
       "  background-color: var(--sklearn-color-unfitted-level-0);\n",
       "}\n",
       "\n",
       "#sk-container-id-3 div.sk-toggleable__content.fitted {\n",
       "  /* fitted */\n",
       "  background-color: var(--sklearn-color-fitted-level-0);\n",
       "}\n",
       "\n",
       "#sk-container-id-3 div.sk-toggleable__content pre {\n",
       "  margin: 0.2em;\n",
       "  border-radius: 0.25em;\n",
       "  color: var(--sklearn-color-text);\n",
       "  /* unfitted */\n",
       "  background-color: var(--sklearn-color-unfitted-level-0);\n",
       "}\n",
       "\n",
       "#sk-container-id-3 div.sk-toggleable__content.fitted pre {\n",
       "  /* unfitted */\n",
       "  background-color: var(--sklearn-color-fitted-level-0);\n",
       "}\n",
       "\n",
       "#sk-container-id-3 input.sk-toggleable__control:checked~div.sk-toggleable__content {\n",
       "  /* Expand drop-down */\n",
       "  max-height: 200px;\n",
       "  max-width: 100%;\n",
       "  overflow: auto;\n",
       "}\n",
       "\n",
       "#sk-container-id-3 input.sk-toggleable__control:checked~label.sk-toggleable__label-arrow:before {\n",
       "  content: \"▾\";\n",
       "}\n",
       "\n",
       "/* Pipeline/ColumnTransformer-specific style */\n",
       "\n",
       "#sk-container-id-3 div.sk-label input.sk-toggleable__control:checked~label.sk-toggleable__label {\n",
       "  color: var(--sklearn-color-text);\n",
       "  background-color: var(--sklearn-color-unfitted-level-2);\n",
       "}\n",
       "\n",
       "#sk-container-id-3 div.sk-label.fitted input.sk-toggleable__control:checked~label.sk-toggleable__label {\n",
       "  background-color: var(--sklearn-color-fitted-level-2);\n",
       "}\n",
       "\n",
       "/* Estimator-specific style */\n",
       "\n",
       "/* Colorize estimator box */\n",
       "#sk-container-id-3 div.sk-estimator input.sk-toggleable__control:checked~label.sk-toggleable__label {\n",
       "  /* unfitted */\n",
       "  background-color: var(--sklearn-color-unfitted-level-2);\n",
       "}\n",
       "\n",
       "#sk-container-id-3 div.sk-estimator.fitted input.sk-toggleable__control:checked~label.sk-toggleable__label {\n",
       "  /* fitted */\n",
       "  background-color: var(--sklearn-color-fitted-level-2);\n",
       "}\n",
       "\n",
       "#sk-container-id-3 div.sk-label label.sk-toggleable__label,\n",
       "#sk-container-id-3 div.sk-label label {\n",
       "  /* The background is the default theme color */\n",
       "  color: var(--sklearn-color-text-on-default-background);\n",
       "}\n",
       "\n",
       "/* On hover, darken the color of the background */\n",
       "#sk-container-id-3 div.sk-label:hover label.sk-toggleable__label {\n",
       "  color: var(--sklearn-color-text);\n",
       "  background-color: var(--sklearn-color-unfitted-level-2);\n",
       "}\n",
       "\n",
       "/* Label box, darken color on hover, fitted */\n",
       "#sk-container-id-3 div.sk-label.fitted:hover label.sk-toggleable__label.fitted {\n",
       "  color: var(--sklearn-color-text);\n",
       "  background-color: var(--sklearn-color-fitted-level-2);\n",
       "}\n",
       "\n",
       "/* Estimator label */\n",
       "\n",
       "#sk-container-id-3 div.sk-label label {\n",
       "  font-family: monospace;\n",
       "  font-weight: bold;\n",
       "  display: inline-block;\n",
       "  line-height: 1.2em;\n",
       "}\n",
       "\n",
       "#sk-container-id-3 div.sk-label-container {\n",
       "  text-align: center;\n",
       "}\n",
       "\n",
       "/* Estimator-specific */\n",
       "#sk-container-id-3 div.sk-estimator {\n",
       "  font-family: monospace;\n",
       "  border: 1px dotted var(--sklearn-color-border-box);\n",
       "  border-radius: 0.25em;\n",
       "  box-sizing: border-box;\n",
       "  margin-bottom: 0.5em;\n",
       "  /* unfitted */\n",
       "  background-color: var(--sklearn-color-unfitted-level-0);\n",
       "}\n",
       "\n",
       "#sk-container-id-3 div.sk-estimator.fitted {\n",
       "  /* fitted */\n",
       "  background-color: var(--sklearn-color-fitted-level-0);\n",
       "}\n",
       "\n",
       "/* on hover */\n",
       "#sk-container-id-3 div.sk-estimator:hover {\n",
       "  /* unfitted */\n",
       "  background-color: var(--sklearn-color-unfitted-level-2);\n",
       "}\n",
       "\n",
       "#sk-container-id-3 div.sk-estimator.fitted:hover {\n",
       "  /* fitted */\n",
       "  background-color: var(--sklearn-color-fitted-level-2);\n",
       "}\n",
       "\n",
       "/* Specification for estimator info (e.g. \"i\" and \"?\") */\n",
       "\n",
       "/* Common style for \"i\" and \"?\" */\n",
       "\n",
       ".sk-estimator-doc-link,\n",
       "a:link.sk-estimator-doc-link,\n",
       "a:visited.sk-estimator-doc-link {\n",
       "  float: right;\n",
       "  font-size: smaller;\n",
       "  line-height: 1em;\n",
       "  font-family: monospace;\n",
       "  background-color: var(--sklearn-color-background);\n",
       "  border-radius: 1em;\n",
       "  height: 1em;\n",
       "  width: 1em;\n",
       "  text-decoration: none !important;\n",
       "  margin-left: 1ex;\n",
       "  /* unfitted */\n",
       "  border: var(--sklearn-color-unfitted-level-1) 1pt solid;\n",
       "  color: var(--sklearn-color-unfitted-level-1);\n",
       "}\n",
       "\n",
       ".sk-estimator-doc-link.fitted,\n",
       "a:link.sk-estimator-doc-link.fitted,\n",
       "a:visited.sk-estimator-doc-link.fitted {\n",
       "  /* fitted */\n",
       "  border: var(--sklearn-color-fitted-level-1) 1pt solid;\n",
       "  color: var(--sklearn-color-fitted-level-1);\n",
       "}\n",
       "\n",
       "/* On hover */\n",
       "div.sk-estimator:hover .sk-estimator-doc-link:hover,\n",
       ".sk-estimator-doc-link:hover,\n",
       "div.sk-label-container:hover .sk-estimator-doc-link:hover,\n",
       ".sk-estimator-doc-link:hover {\n",
       "  /* unfitted */\n",
       "  background-color: var(--sklearn-color-unfitted-level-3);\n",
       "  color: var(--sklearn-color-background);\n",
       "  text-decoration: none;\n",
       "}\n",
       "\n",
       "div.sk-estimator.fitted:hover .sk-estimator-doc-link.fitted:hover,\n",
       ".sk-estimator-doc-link.fitted:hover,\n",
       "div.sk-label-container:hover .sk-estimator-doc-link.fitted:hover,\n",
       ".sk-estimator-doc-link.fitted:hover {\n",
       "  /* fitted */\n",
       "  background-color: var(--sklearn-color-fitted-level-3);\n",
       "  color: var(--sklearn-color-background);\n",
       "  text-decoration: none;\n",
       "}\n",
       "\n",
       "/* Span, style for the box shown on hovering the info icon */\n",
       ".sk-estimator-doc-link span {\n",
       "  display: none;\n",
       "  z-index: 9999;\n",
       "  position: relative;\n",
       "  font-weight: normal;\n",
       "  right: .2ex;\n",
       "  padding: .5ex;\n",
       "  margin: .5ex;\n",
       "  width: min-content;\n",
       "  min-width: 20ex;\n",
       "  max-width: 50ex;\n",
       "  color: var(--sklearn-color-text);\n",
       "  box-shadow: 2pt 2pt 4pt #999;\n",
       "  /* unfitted */\n",
       "  background: var(--sklearn-color-unfitted-level-0);\n",
       "  border: .5pt solid var(--sklearn-color-unfitted-level-3);\n",
       "}\n",
       "\n",
       ".sk-estimator-doc-link.fitted span {\n",
       "  /* fitted */\n",
       "  background: var(--sklearn-color-fitted-level-0);\n",
       "  border: var(--sklearn-color-fitted-level-3);\n",
       "}\n",
       "\n",
       ".sk-estimator-doc-link:hover span {\n",
       "  display: block;\n",
       "}\n",
       "\n",
       "/* \"?\"-specific style due to the `<a>` HTML tag */\n",
       "\n",
       "#sk-container-id-3 a.estimator_doc_link {\n",
       "  float: right;\n",
       "  font-size: 1rem;\n",
       "  line-height: 1em;\n",
       "  font-family: monospace;\n",
       "  background-color: var(--sklearn-color-background);\n",
       "  border-radius: 1rem;\n",
       "  height: 1rem;\n",
       "  width: 1rem;\n",
       "  text-decoration: none;\n",
       "  /* unfitted */\n",
       "  color: var(--sklearn-color-unfitted-level-1);\n",
       "  border: var(--sklearn-color-unfitted-level-1) 1pt solid;\n",
       "}\n",
       "\n",
       "#sk-container-id-3 a.estimator_doc_link.fitted {\n",
       "  /* fitted */\n",
       "  border: var(--sklearn-color-fitted-level-1) 1pt solid;\n",
       "  color: var(--sklearn-color-fitted-level-1);\n",
       "}\n",
       "\n",
       "/* On hover */\n",
       "#sk-container-id-3 a.estimator_doc_link:hover {\n",
       "  /* unfitted */\n",
       "  background-color: var(--sklearn-color-unfitted-level-3);\n",
       "  color: var(--sklearn-color-background);\n",
       "  text-decoration: none;\n",
       "}\n",
       "\n",
       "#sk-container-id-3 a.estimator_doc_link.fitted:hover {\n",
       "  /* fitted */\n",
       "  background-color: var(--sklearn-color-fitted-level-3);\n",
       "}\n",
       "</style><div id=\"sk-container-id-3\" class=\"sk-top-container\"><div class=\"sk-text-repr-fallback\"><pre>RandomForestRegressor(max_depth=30, n_estimators=500, random_state=42)</pre><b>In a Jupyter environment, please rerun this cell to show the HTML representation or trust the notebook. <br />On GitHub, the HTML representation is unable to render, please try loading this page with nbviewer.org.</b></div><div class=\"sk-container\" hidden><div class=\"sk-item\"><div class=\"sk-estimator fitted sk-toggleable\"><input class=\"sk-toggleable__control sk-hidden--visually\" id=\"sk-estimator-id-3\" type=\"checkbox\" checked><label for=\"sk-estimator-id-3\" class=\"sk-toggleable__label fitted sk-toggleable__label-arrow fitted\">&nbsp;&nbsp;RandomForestRegressor<a class=\"sk-estimator-doc-link fitted\" rel=\"noreferrer\" target=\"_blank\" href=\"https://scikit-learn.org/1.5/modules/generated/sklearn.ensemble.RandomForestRegressor.html\">?<span>Documentation for RandomForestRegressor</span></a><span class=\"sk-estimator-doc-link fitted\">i<span>Fitted</span></span></label><div class=\"sk-toggleable__content fitted\"><pre>RandomForestRegressor(max_depth=30, n_estimators=500, random_state=42)</pre></div> </div></div></div></div>"
      ],
      "text/plain": [
       "RandomForestRegressor(max_depth=30, n_estimators=500, random_state=42)"
      ]
     },
     "execution_count": 381,
     "metadata": {},
     "output_type": "execute_result"
    }
   ],
   "source": [
    "forest_model"
   ]
  },
  {
   "cell_type": "code",
   "execution_count": 382,
   "metadata": {},
   "outputs": [
    {
     "data": {
      "text/plain": [
       "0.9923147943983335"
      ]
     },
     "execution_count": 382,
     "metadata": {},
     "output_type": "execute_result"
    }
   ],
   "source": [
    "forest_model.score(X_train, y_train)"
   ]
  }
 ],
 "metadata": {
  "kernelspec": {
   "display_name": "Python 3",
   "language": "python",
   "name": "python3"
  },
  "language_info": {
   "codemirror_mode": {
    "name": "ipython",
    "version": 3
   },
   "file_extension": ".py",
   "mimetype": "text/x-python",
   "name": "python",
   "nbconvert_exporter": "python",
   "pygments_lexer": "ipython3",
   "version": "3.12.5"
  }
 },
 "nbformat": 4,
 "nbformat_minor": 2
}
