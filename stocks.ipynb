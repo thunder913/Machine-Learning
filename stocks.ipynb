{
 "cells": [
  {
   "cell_type": "code",
   "execution_count": 106,
   "metadata": {},
   "outputs": [],
   "source": [
    "import numpy as np\n",
    "import os\n",
    "import pandas as pd\n",
    "import re\n",
    "import requests\n",
    "import kagglehub\n",
    "import sys\n",
    "import matplotlib.pyplot as plt\n",
    "\n",
    "from sklearn.model_selection import train_test_split\n",
    "from sklearn.ensemble import RandomForestRegressor\n",
    "from sklearn.preprocessing import MinMaxScaler\n",
    "from sklearn.preprocessing import LabelEncoder"
   ]
  },
  {
   "cell_type": "markdown",
   "metadata": {},
   "source": [
    "# Machine Learning Project"
   ]
  },
  {
   "cell_type": "markdown",
   "metadata": {},
   "source": [
    "by Andon Gorchov (@thunderman913)"
   ]
  },
  {
   "cell_type": "code",
   "execution_count": 2,
   "metadata": {},
   "outputs": [
    {
     "name": "stdout",
     "output_type": "stream",
     "text": [
      "Path to dataset files: C:\\Users\\andon\\.cache\\kagglehub\\datasets\\tsaustin\\us-historical-stock-prices-with-earnings-data\\versions\\7\n"
     ]
    }
   ],
   "source": [
    "path = kagglehub.dataset_download(\"tsaustin/us-historical-stock-prices-with-earnings-data\")\n",
    "\n",
    "print(\"Path to dataset files:\", path)"
   ]
  },
  {
   "cell_type": "code",
   "execution_count": 3,
   "metadata": {},
   "outputs": [],
   "source": [
    "earnings_path = f\"{path}\\\\stocks_latest\\\\earnings_latest.csv\"\n",
    "stock_prices_path = f\"{path}\\\\stocks_latest\\\\stock_prices_latest.csv\""
   ]
  },
  {
   "cell_type": "code",
   "execution_count": 4,
   "metadata": {},
   "outputs": [],
   "source": [
    "earnings_data = pd.read_csv(earnings_path)\n",
    "stock_data = pd.read_csv(stock_prices_path)"
   ]
  },
  {
   "cell_type": "code",
   "execution_count": 5,
   "metadata": {},
   "outputs": [],
   "source": [
    "# Function to get the price X days ago\n",
    "def get_price_x_days_ago(df, days):\n",
    "    return df['close'].shift(days)\n",
    "\n",
    "# Function to get peak price and how many days ago it happened\n",
    "def get_peak_price_and_days_ago(df):\n",
    "    df['peak_price'] = df['close'].rolling(window=90, min_periods=1).max()\n",
    "    peak_day_index = df['close'].rolling(window=90, min_periods=1).apply(lambda x: (len(x) - 1 - x.argmax()), raw=False)\n",
    "    df['peak_days_ago'] = peak_day_index.fillna(0).astype(int)  # Fill NaN for rows that don't have enough data\n",
    "    return df\n",
    "\n",
    "# Apply the operations without grouping by ticker\n",
    "def process_ticker_data(df):\n",
    "    # Add columns for prices X days ago\n",
    "    for days in [1,2,3,4,5, 10, 15, 30, 60, 90]:\n",
    "        df[f'price_{days}_days_ago'] = df.groupby('ticker')['close'].shift(days)\n",
    "        df[f'volume_{days}_days_ago'] = df.groupby('ticker')['volume'].shift(days)\n",
    "    \n",
    "    # Get peak price and peak days ago\n",
    "    #df = df.groupby('ticker', group_keys=False).apply(get_peak_price_and_days_ago)\n",
    "    return df"
   ]
  },
  {
   "cell_type": "code",
   "execution_count": 6,
   "metadata": {},
   "outputs": [],
   "source": [
    "def tidyStockData():\n",
    "    file_path = 'stock_data_processed.pkl'\n",
    "\n",
    "    # Check if the file exists\n",
    "    if os.path.exists(file_path):\n",
    "        return pd.read_pickle('stock_data_processed.pkl')\n",
    "\n",
    "    stock_data_tidy = stock_data\n",
    "\n",
    "    stock_data_tidy.date = pd.to_datetime(stock_data_tidy.date)\n",
    "    stock_data_tidy = stock_data_tidy.rename(columns={'symbol': 'ticker'})\n",
    "    stock_data_tidy = stock_data_tidy.drop(columns=['split_coefficient'])\n",
    "\n",
    "    stock_data_tidy = stock_data_tidy[(stock_data_tidy['date'] > (earnings_data_tidy['date'].min() - pd.Timedelta(days=100)))\n",
    "                                    | (stock_data_tidy['date'] < earnings_data_tidy['date'].max() + pd.Timedelta(days=5))]\n",
    "\n",
    "    # Sort the DataFrame by ticker and date\n",
    "    stock_data_tidy = stock_data_tidy.sort_values(by=['ticker', 'date'], ascending=[True, True])\n",
    "\n",
    "    # Process the DataFrame without grouping\n",
    "    stock_data_tidy = process_ticker_data(stock_data_tidy)\n",
    "\n",
    "    stock_data_tidy = stock_data_tidy[stock_data_tidy.price_90_days_ago.isna() == False]\n",
    "    stock_data_tidy.to_pickle('stock_data_processed.pkl')\n",
    "    \n",
    "    return stock_data_tidy"
   ]
  },
  {
   "cell_type": "code",
   "execution_count": 7,
   "metadata": {},
   "outputs": [],
   "source": [
    "stock_data_tidy = tidyStockData()"
   ]
  },
  {
   "cell_type": "code",
   "execution_count": 8,
   "metadata": {},
   "outputs": [],
   "source": [
    "earnings_data_tidy = earnings_data\n",
    "earnings_data_tidy.date = pd.to_datetime(earnings_data_tidy.date)"
   ]
  },
  {
   "cell_type": "code",
   "execution_count": 9,
   "metadata": {},
   "outputs": [],
   "source": [
    "earnings_data_tidy = earnings_data_tidy.rename(columns={'symbol': 'ticker'})"
   ]
  },
  {
   "cell_type": "code",
   "execution_count": 10,
   "metadata": {},
   "outputs": [],
   "source": [
    "earnings_data_tidy = earnings_data_tidy.drop(earnings_data_tidy[(earnings_data_tidy.eps.isna()) | (earnings_data_tidy.eps_est.isna())].index)\n",
    "earnings_data_tidy = earnings_data_tidy.drop(columns=['qtr'])"
   ]
  },
  {
   "cell_type": "code",
   "execution_count": 11,
   "metadata": {},
   "outputs": [],
   "source": [
    "earnings_data_tidy = earnings_data_tidy.rename(columns={'date': 'earnings_date'})"
   ]
  },
  {
   "cell_type": "code",
   "execution_count": 12,
   "metadata": {},
   "outputs": [],
   "source": [
    "earnings_data_tidy['release_time'] = earnings_data_tidy.groupby('ticker')['release_time'].ffill().bfill()"
   ]
  },
  {
   "cell_type": "code",
   "execution_count": 13,
   "metadata": {},
   "outputs": [],
   "source": [
    "# Adding earnings data to stock_data_tidy based on the nearest previous date\n",
    "def add_earnings_data(stock_data, earnings):\n",
    "    # Merge earnings data and stock data on ticker\n",
    "    merged_df = pd.merge_asof(\n",
    "        stock_data.sort_values(by='date'),\n",
    "        earnings.sort_values(by='earnings_date'),\n",
    "        by='ticker',\n",
    "        left_on='date',\n",
    "        right_on='earnings_date',\n",
    "        direction='backward'\n",
    "    )\n",
    "    \n",
    "    # Forward fill to ensure non-trading days are adjusted properly\n",
    "    merged_df = merged_df.sort_values(by=['ticker', 'date'])\n",
    "\n",
    "    # Merge again to get the next earnings date\n",
    "    merged_df = pd.merge_asof(\n",
    "        merged_df.sort_values(by='date'),\n",
    "        earnings[['ticker', 'earnings_date']].sort_values(by='earnings_date'),\n",
    "        by='ticker',\n",
    "        left_on='date',\n",
    "        right_on='earnings_date',\n",
    "        direction='forward',\n",
    "        suffixes=('', '_next'),\n",
    "        allow_exact_matches=False\n",
    "    )\n",
    "    \n",
    "    return merged_df\n",
    "\n",
    "# Add earnings data to stock_data_tidy\n",
    "stock_data_tidy = add_earnings_data(stock_data_tidy, earnings_data_tidy)"
   ]
  },
  {
   "cell_type": "code",
   "execution_count": 14,
   "metadata": {},
   "outputs": [
    {
     "data": {
      "text/html": [
       "<div>\n",
       "<style scoped>\n",
       "    .dataframe tbody tr th:only-of-type {\n",
       "        vertical-align: middle;\n",
       "    }\n",
       "\n",
       "    .dataframe tbody tr th {\n",
       "        vertical-align: top;\n",
       "    }\n",
       "\n",
       "    .dataframe thead th {\n",
       "        text-align: right;\n",
       "    }\n",
       "</style>\n",
       "<table border=\"1\" class=\"dataframe\">\n",
       "  <thead>\n",
       "    <tr style=\"text-align: right;\">\n",
       "      <th></th>\n",
       "      <th>ticker</th>\n",
       "      <th>earnings_date</th>\n",
       "      <th>eps_est</th>\n",
       "      <th>eps</th>\n",
       "      <th>release_time</th>\n",
       "    </tr>\n",
       "  </thead>\n",
       "  <tbody>\n",
       "    <tr>\n",
       "      <th>115962</th>\n",
       "      <td>PAYS</td>\n",
       "      <td>2019-05-07</td>\n",
       "      <td>0.020</td>\n",
       "      <td>0.03</td>\n",
       "      <td>pre</td>\n",
       "    </tr>\n",
       "    <tr>\n",
       "      <th>115963</th>\n",
       "      <td>PAYS</td>\n",
       "      <td>2019-05-08</td>\n",
       "      <td>0.020</td>\n",
       "      <td>0.03</td>\n",
       "      <td>pre</td>\n",
       "    </tr>\n",
       "    <tr>\n",
       "      <th>115964</th>\n",
       "      <td>PAYS</td>\n",
       "      <td>2019-08-06</td>\n",
       "      <td>0.033</td>\n",
       "      <td>0.05</td>\n",
       "      <td>pre</td>\n",
       "    </tr>\n",
       "    <tr>\n",
       "      <th>115965</th>\n",
       "      <td>PAYS</td>\n",
       "      <td>2019-11-05</td>\n",
       "      <td>0.040</td>\n",
       "      <td>0.06</td>\n",
       "      <td>post</td>\n",
       "    </tr>\n",
       "    <tr>\n",
       "      <th>115966</th>\n",
       "      <td>PAYS</td>\n",
       "      <td>2020-04-03</td>\n",
       "      <td>0.060</td>\n",
       "      <td>0.05</td>\n",
       "      <td>pre</td>\n",
       "    </tr>\n",
       "    <tr>\n",
       "      <th>115967</th>\n",
       "      <td>PAYS</td>\n",
       "      <td>2020-08-13</td>\n",
       "      <td>0.035</td>\n",
       "      <td>0.01</td>\n",
       "      <td>post</td>\n",
       "    </tr>\n",
       "    <tr>\n",
       "      <th>115968</th>\n",
       "      <td>PAYS</td>\n",
       "      <td>2020-11-17</td>\n",
       "      <td>0.018</td>\n",
       "      <td>-0.14</td>\n",
       "      <td>pre</td>\n",
       "    </tr>\n",
       "    <tr>\n",
       "      <th>115969</th>\n",
       "      <td>PAYS</td>\n",
       "      <td>2021-03-25</td>\n",
       "      <td>0.013</td>\n",
       "      <td>0.01</td>\n",
       "      <td>pre</td>\n",
       "    </tr>\n",
       "    <tr>\n",
       "      <th>115970</th>\n",
       "      <td>PAYS</td>\n",
       "      <td>2021-05-11</td>\n",
       "      <td>0.013</td>\n",
       "      <td>-0.01</td>\n",
       "      <td>post</td>\n",
       "    </tr>\n",
       "  </tbody>\n",
       "</table>\n",
       "</div>"
      ],
      "text/plain": [
       "       ticker earnings_date  eps_est   eps release_time\n",
       "115962   PAYS    2019-05-07    0.020  0.03          pre\n",
       "115963   PAYS    2019-05-08    0.020  0.03          pre\n",
       "115964   PAYS    2019-08-06    0.033  0.05          pre\n",
       "115965   PAYS    2019-11-05    0.040  0.06         post\n",
       "115966   PAYS    2020-04-03    0.060  0.05          pre\n",
       "115967   PAYS    2020-08-13    0.035  0.01         post\n",
       "115968   PAYS    2020-11-17    0.018 -0.14          pre\n",
       "115969   PAYS    2021-03-25    0.013  0.01          pre\n",
       "115970   PAYS    2021-05-11    0.013 -0.01         post"
      ]
     },
     "execution_count": 14,
     "metadata": {},
     "output_type": "execute_result"
    }
   ],
   "source": [
    "earnings_data_tidy[earnings_data_tidy.ticker == 'PAYS']"
   ]
  },
  {
   "cell_type": "code",
   "execution_count": 15,
   "metadata": {},
   "outputs": [],
   "source": [
    "stock_data_tidy = stock_data_tidy.drop(stock_data_tidy[(stock_data_tidy.earnings_date.isna()) | (stock_data_tidy.earnings_date_next.isna())].index)"
   ]
  },
  {
   "cell_type": "code",
   "execution_count": 16,
   "metadata": {},
   "outputs": [],
   "source": [
    "stock_data_tidy['days_till_report'] = (stock_data_tidy['earnings_date_next'] - stock_data_tidy['date']).dt.days\n",
    "stock_data_tidy['days_since_report'] = (stock_data_tidy['date'] - stock_data_tidy['earnings_date']).dt.days"
   ]
  },
  {
   "cell_type": "code",
   "execution_count": 17,
   "metadata": {},
   "outputs": [
    {
     "data": {
      "text/html": [
       "<div>\n",
       "<style scoped>\n",
       "    .dataframe tbody tr th:only-of-type {\n",
       "        vertical-align: middle;\n",
       "    }\n",
       "\n",
       "    .dataframe tbody tr th {\n",
       "        vertical-align: top;\n",
       "    }\n",
       "\n",
       "    .dataframe thead th {\n",
       "        text-align: right;\n",
       "    }\n",
       "</style>\n",
       "<table border=\"1\" class=\"dataframe\">\n",
       "  <thead>\n",
       "    <tr style=\"text-align: right;\">\n",
       "      <th></th>\n",
       "      <th>ticker</th>\n",
       "      <th>date</th>\n",
       "      <th>earnings_date</th>\n",
       "      <th>earnings_date_next</th>\n",
       "      <th>days_till_report</th>\n",
       "      <th>days_since_report</th>\n",
       "    </tr>\n",
       "  </thead>\n",
       "  <tbody>\n",
       "    <tr>\n",
       "      <th>0</th>\n",
       "      <td>A</td>\n",
       "      <td>2012-12-26</td>\n",
       "      <td>2012-11-19</td>\n",
       "      <td>2013-02-14</td>\n",
       "      <td>50</td>\n",
       "      <td>37</td>\n",
       "    </tr>\n",
       "    <tr>\n",
       "      <th>2</th>\n",
       "      <td>PAR</td>\n",
       "      <td>2012-12-26</td>\n",
       "      <td>2012-11-05</td>\n",
       "      <td>2013-02-14</td>\n",
       "      <td>50</td>\n",
       "      <td>51</td>\n",
       "    </tr>\n",
       "    <tr>\n",
       "      <th>3</th>\n",
       "      <td>AIZ</td>\n",
       "      <td>2012-12-26</td>\n",
       "      <td>2012-10-24</td>\n",
       "      <td>2013-02-06</td>\n",
       "      <td>42</td>\n",
       "      <td>63</td>\n",
       "    </tr>\n",
       "    <tr>\n",
       "      <th>7</th>\n",
       "      <td>PAYX</td>\n",
       "      <td>2012-12-26</td>\n",
       "      <td>2012-12-19</td>\n",
       "      <td>2013-03-27</td>\n",
       "      <td>91</td>\n",
       "      <td>7</td>\n",
       "    </tr>\n",
       "    <tr>\n",
       "      <th>8</th>\n",
       "      <td>PB</td>\n",
       "      <td>2012-12-26</td>\n",
       "      <td>2012-10-24</td>\n",
       "      <td>2013-01-25</td>\n",
       "      <td>30</td>\n",
       "      <td>63</td>\n",
       "    </tr>\n",
       "    <tr>\n",
       "      <th>...</th>\n",
       "      <td>...</td>\n",
       "      <td>...</td>\n",
       "      <td>...</td>\n",
       "      <td>...</td>\n",
       "      <td>...</td>\n",
       "      <td>...</td>\n",
       "    </tr>\n",
       "    <tr>\n",
       "      <th>11762357</th>\n",
       "      <td>RFIL</td>\n",
       "      <td>2021-06-10</td>\n",
       "      <td>2021-03-11</td>\n",
       "      <td>2021-06-14</td>\n",
       "      <td>4</td>\n",
       "      <td>91</td>\n",
       "    </tr>\n",
       "    <tr>\n",
       "      <th>11762404</th>\n",
       "      <td>CODA</td>\n",
       "      <td>2021-06-10</td>\n",
       "      <td>2021-03-17</td>\n",
       "      <td>2021-06-14</td>\n",
       "      <td>4</td>\n",
       "      <td>85</td>\n",
       "    </tr>\n",
       "    <tr>\n",
       "      <th>11762995</th>\n",
       "      <td>ADXS</td>\n",
       "      <td>2021-06-11</td>\n",
       "      <td>2020-09-10</td>\n",
       "      <td>2021-06-14</td>\n",
       "      <td>3</td>\n",
       "      <td>274</td>\n",
       "    </tr>\n",
       "    <tr>\n",
       "      <th>11764002</th>\n",
       "      <td>RFIL</td>\n",
       "      <td>2021-06-11</td>\n",
       "      <td>2021-03-11</td>\n",
       "      <td>2021-06-14</td>\n",
       "      <td>3</td>\n",
       "      <td>92</td>\n",
       "    </tr>\n",
       "    <tr>\n",
       "      <th>11764687</th>\n",
       "      <td>CODA</td>\n",
       "      <td>2021-06-11</td>\n",
       "      <td>2021-03-17</td>\n",
       "      <td>2021-06-14</td>\n",
       "      <td>3</td>\n",
       "      <td>86</td>\n",
       "    </tr>\n",
       "  </tbody>\n",
       "</table>\n",
       "<p>6827124 rows × 6 columns</p>\n",
       "</div>"
      ],
      "text/plain": [
       "         ticker       date earnings_date earnings_date_next  days_till_report  \\\n",
       "0             A 2012-12-26    2012-11-19         2013-02-14                50   \n",
       "2           PAR 2012-12-26    2012-11-05         2013-02-14                50   \n",
       "3           AIZ 2012-12-26    2012-10-24         2013-02-06                42   \n",
       "7          PAYX 2012-12-26    2012-12-19         2013-03-27                91   \n",
       "8            PB 2012-12-26    2012-10-24         2013-01-25                30   \n",
       "...         ...        ...           ...                ...               ...   \n",
       "11762357   RFIL 2021-06-10    2021-03-11         2021-06-14                 4   \n",
       "11762404   CODA 2021-06-10    2021-03-17         2021-06-14                 4   \n",
       "11762995   ADXS 2021-06-11    2020-09-10         2021-06-14                 3   \n",
       "11764002   RFIL 2021-06-11    2021-03-11         2021-06-14                 3   \n",
       "11764687   CODA 2021-06-11    2021-03-17         2021-06-14                 3   \n",
       "\n",
       "          days_since_report  \n",
       "0                        37  \n",
       "2                        51  \n",
       "3                        63  \n",
       "7                         7  \n",
       "8                        63  \n",
       "...                     ...  \n",
       "11762357                 91  \n",
       "11762404                 85  \n",
       "11762995                274  \n",
       "11764002                 92  \n",
       "11764687                 86  \n",
       "\n",
       "[6827124 rows x 6 columns]"
      ]
     },
     "execution_count": 17,
     "metadata": {},
     "output_type": "execute_result"
    }
   ],
   "source": [
    "stock_data_tidy[['ticker','date', 'earnings_date', 'earnings_date_next', 'days_till_report', 'days_since_report']]"
   ]
  },
  {
   "cell_type": "markdown",
   "metadata": {},
   "source": [
    "We remove data with more than 120 days on both next and previous report, since that is useless data for our case"
   ]
  },
  {
   "cell_type": "code",
   "execution_count": 18,
   "metadata": {},
   "outputs": [],
   "source": [
    "stock_data_tidy = stock_data_tidy.drop(stock_data_tidy[(stock_data_tidy.days_till_report > 120) & (stock_data_tidy.days_since_report > 120)].index)"
   ]
  },
  {
   "cell_type": "code",
   "execution_count": 19,
   "metadata": {},
   "outputs": [],
   "source": [
    "stock_data_tidy = stock_data_tidy.drop(columns=['open', 'high', 'low', 'close_adjusted', 'volume'])"
   ]
  },
  {
   "cell_type": "code",
   "execution_count": 107,
   "metadata": {},
   "outputs": [],
   "source": [
    "le = LabelEncoder()\n",
    "stock_data_tidy['ticker_encoded'] = le.fit_transform(stock_data_tidy['ticker'])"
   ]
  },
  {
   "cell_type": "code",
   "execution_count": 121,
   "metadata": {},
   "outputs": [],
   "source": [
    "features = [\n",
    "    'ticker_encoded', 'peak_price', 'peak_days_ago', 'price_1_days_ago', 'volume_1_days_ago',\n",
    "    'price_2_days_ago', 'volume_2_days_ago', 'price_3_days_ago', 'volume_3_days_ago',\n",
    "    'price_4_days_ago', 'volume_4_days_ago', 'price_5_days_ago', 'volume_5_days_ago',\n",
    "    'price_10_days_ago', 'volume_10_days_ago', 'price_15_days_ago', 'volume_15_days_ago',\n",
    "    'price_30_days_ago', 'volume_30_days_ago', 'price_60_days_ago', 'volume_60_days_ago',\n",
    "    'price_90_days_ago', 'volume_90_days_ago', 'eps_est', 'eps', 'days_till_report', 'days_since_report'\n",
    "]"
   ]
  },
  {
   "cell_type": "code",
   "execution_count": 112,
   "metadata": {},
   "outputs": [
    {
     "name": "stdout",
     "output_type": "stream",
     "text": [
      "Training Score: 0.999977774580274\n",
      "Mean Squared Error: 980.7821784135223\n"
     ]
    }
   ],
   "source": [
    "# Apply a scaler to price-related columns to normalize them\n",
    "scaler = MinMaxScaler()\n",
    "\n",
    "price_columns = [\n",
    "    'peak_price', 'price_1_days_ago', 'price_2_days_ago', 'price_3_days_ago', 'price_4_days_ago',\n",
    "    'price_5_days_ago', 'price_10_days_ago', 'price_15_days_ago', 'price_30_days_ago',\n",
    "    'price_60_days_ago', 'price_90_days_ago', 'eps_est', 'eps'\n",
    "]\n",
    "\n",
    "# Fit and transform the price-related columns\n",
    "stock_data_tidy[price_columns] = scaler.fit_transform(stock_data_tidy[price_columns])\n",
    "\n",
    "target = 'close'\n",
    "\n",
    "# Drop rows with NaN values in the features or target columns\n",
    "stock_data_tidy = stock_data_tidy.dropna(subset=features + [target])\n",
    "\n",
    "# Split the data into 80% for training and 20% for final testing\n",
    "X = stock_data_tidy[features]\n",
    "y = stock_data_tidy[target]\n",
    "\n",
    "X_main, X_final_test, y_main, y_final_test = train_test_split(X, y, test_size=0.2, random_state=42)\n",
    "\n",
    "# Split the remaining 80% data into 80% training and 20% validation (i.e., 64% train, 16% validation overall)\n",
    "X_train, X_test, y_train, y_test = train_test_split(X_main, y_main, test_size=0.2, random_state=42)\n",
    "\n",
    "# Train a RandomForestRegressor model\n",
    "model = RandomForestRegressor(n_estimators=3, random_state=42)\n",
    "model.fit(X_train, y_train)\n",
    "\n",
    "# Score the model on the training data\n",
    "train_score = model.score(X_train, y_train)\n",
    "print(f\"Training Score: {train_score}\")\n",
    "\n",
    "# Make predictions on the test set\n",
    "y_pred = model.predict(X_test)\n",
    "\n",
    "# Calculate and print the mean squared error\n",
    "mse = np.mean((y_test - y_pred) ** 2)\n",
    "print(f\"Mean Squared Error: {mse}\")"
   ]
  },
  {
   "cell_type": "code",
   "execution_count": 113,
   "metadata": {},
   "outputs": [
    {
     "name": "stdout",
     "output_type": "stream",
     "text": [
      "Training Score: 0.9998560564440004\n"
     ]
    }
   ],
   "source": [
    "train_score = model.score(X_final_test, y_final_test)\n",
    "print(f\"Training Score: {train_score}\")"
   ]
  },
  {
   "cell_type": "code",
   "execution_count": 114,
   "metadata": {},
   "outputs": [
    {
     "name": "stdout",
     "output_type": "stream",
     "text": [
      "Training Score: 0.999977774580274\n"
     ]
    }
   ],
   "source": [
    "train_score = model.score(X_train, y_train)\n",
    "print(f\"Training Score: {train_score}\")"
   ]
  },
  {
   "cell_type": "code",
   "execution_count": 137,
   "metadata": {},
   "outputs": [
    {
     "name": "stdout",
     "output_type": "stream",
     "text": [
      "Predicted closing price for AAPL on May 10, 2024: [183.38]\n"
     ]
    }
   ],
   "source": [
    "aapl_data = {\n",
    "    'ticker': ['AAPL'],\n",
    "    'date': [pd.to_datetime('2024-05-10')],\n",
    "    'peak_price': [183.38],  # Example value\n",
    "    'peak_days_ago': [5],   # Example value\n",
    "    'price_1_days_ago': [181.57],  # Example value\n",
    "    'volume_1_days_ago': [48983000],  # Example value\n",
    "    'price_2_days_ago': [182.74],  # Example value\n",
    "    'volume_2_days_ago': [45057100],  # Example value\n",
    "    'price_3_days_ago': [182.40],  # Example value\n",
    "    'volume_3_days_ago': [77305800],  # Example value\n",
    "    'price_4_days_ago': [181.71],  # Example value\n",
    "    'volume_4_days_ago': [78569700],  # Example value\n",
    "    'price_5_days_ago': [183.38],  # Example value\n",
    "    'volume_5_days_ago': [163224100],  # Example value\n",
    "    'price_10_days_ago': [160.89],  # Example value\n",
    "    'volume_10_days_ago': [65934800],  # Example value\n",
    "    'price_15_days_ago': [167.04],  # Example value\n",
    "    'volume_15_days_ago': [49537800],  # Example value\n",
    "    'price_30_days_ago': [169.24],  # Example value\n",
    "    'volume_30_days_ago': [91070300],  # Example value\n",
    "    'price_60_days_ago': [172.75],  # Example value\n",
    "    'volume_60_days_ago': [60139500],  # Example value\n",
    "    'price_90_days_ago': [183.86],  # Example value\n",
    "    'volume_90_days_ago': [65454500],  # Example value\n",
    "    'eps_est': [1.34],\n",
    "    'eps': [1.4], \n",
    "    'days_till_report': [89],\n",
    "    'days_since_report': [5],\n",
    "    'ticker_encoded': [5]\n",
    "}\n",
    "\n",
    "# Convert to DataFrame\n",
    "aapl_df = pd.DataFrame(aapl_data)\n",
    "\n",
    "price_columns = [\n",
    "    'peak_price', 'price_1_days_ago', 'price_2_days_ago', 'price_3_days_ago', 'price_4_days_ago',\n",
    "    'price_5_days_ago', 'price_10_days_ago', 'price_15_days_ago', 'price_30_days_ago',\n",
    "    'price_60_days_ago', 'price_90_days_ago', 'eps_est', 'eps'\n",
    "]\n",
    "\n",
    "# Fit and transform the price-related columns\n",
    "aapl_df[price_columns] = scaler.fit_transform(aapl_df[price_columns])\n",
    "\n",
    "\n",
    "# Predict the closing price\n",
    "aapl_features = aapl_df[features]\n",
    "predicted_close = model.predict(aapl_features)\n",
    "\n",
    "y_pred = predicted_close * (scaler.data_max_[0] - scaler.data_min_[0]) + scaler.data_min_[0]\n",
    "print(f\"Predicted closing price for AAPL on May 10, 2024: {y_pred}\")"
   ]
  },
  {
   "cell_type": "code",
   "execution_count": 138,
   "metadata": {},
   "outputs": [
    {
     "data": {
      "text/plain": [
       "array([0.19733333])"
      ]
     },
     "execution_count": 138,
     "metadata": {},
     "output_type": "execute_result"
    }
   ],
   "source": [
    "predicted_close"
   ]
  },
  {
   "cell_type": "code",
   "execution_count": 124,
   "metadata": {},
   "outputs": [
    {
     "data": {
      "text/plain": [
       "array(['ticker_encoded', 'peak_price', 'peak_days_ago',\n",
       "       'price_1_days_ago', 'volume_1_days_ago', 'price_2_days_ago',\n",
       "       'volume_2_days_ago', 'price_3_days_ago', 'volume_3_days_ago',\n",
       "       'price_4_days_ago', 'volume_4_days_ago', 'price_5_days_ago',\n",
       "       'volume_5_days_ago', 'price_10_days_ago', 'volume_10_days_ago',\n",
       "       'price_15_days_ago', 'volume_15_days_ago', 'price_30_days_ago',\n",
       "       'volume_30_days_ago', 'price_60_days_ago', 'volume_60_days_ago',\n",
       "       'price_90_days_ago', 'volume_90_days_ago', 'eps_est', 'eps',\n",
       "       'days_till_report', 'days_since_report'], dtype=object)"
      ]
     },
     "execution_count": 124,
     "metadata": {},
     "output_type": "execute_result"
    }
   ],
   "source": [
    "model.feature_names_in_"
   ]
  },
  {
   "cell_type": "code",
   "execution_count": 126,
   "metadata": {},
   "outputs": [
    {
     "data": {
      "image/png": "[encoded data removed]",
      "text/plain": [
       "<Figure size 640x480 with 1 Axes>"
      ]
     },
     "metadata": {},
     "output_type": "display_data"
    }
   ],
   "source": [
    "std = np.std([tree.feature_importances_ for tree in model.estimators_], axis=0)\n",
    "\n",
    "importances = model.feature_importances_\n",
    "feature_names = [f\"feature {i}\" for i in range(X.shape[1])]\n",
    "forest_importances = pd.Series(importances, index=features)\n",
    "fig, ax = plt.subplots()\n",
    "forest_importances.plot.bar(yerr=std, ax=ax)\n",
    "ax.set_title(\"Feature importances using MDI\")\n",
    "ax.set_ylabel(\"Mean decrease in impurity\")\n",
    "fig.tight_layout()"
   ]
  },
  {
   "cell_type": "code",
   "execution_count": null,
   "metadata": {},
   "outputs": [],
   "source": []
  }
 ],
 "metadata": {
  "kernelspec": {
   "display_name": "Python 3",
   "language": "python",
   "name": "python3"
  },
  "language_info": {
   "codemirror_mode": {
    "name": "ipython",
    "version": 3
   },
   "file_extension": ".py",
   "mimetype": "text/x-python",
   "name": "python",
   "nbconvert_exporter": "python",
   "pygments_lexer": "ipython3",
   "version": "3.12.5"
  }
 },
 "nbformat": 4,
 "nbformat_minor": 2
}
